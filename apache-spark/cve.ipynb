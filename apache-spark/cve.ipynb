{
  "nbformat": 4,
  "nbformat_minor": 0,
  "metadata": {
    "colab": {
      "name": "big-data-cve.ipynb",
      "version": "0.3.2",
      "provenance": []
    },
    "kernelspec": {
      "name": "python3",
      "display_name": "Python 3"
    }
  },
  "cells": [
    {
      "metadata": {
        "id": "WljrYMuLC_oz",
        "colab_type": "code",
        "outputId": "130ae512-4eb2-418a-cdad-52f3094ee674",
        "colab": {
          "base_uri": "https://localhost:8080/",
          "height": 564
        }
      },
      "cell_type": "code",
      "source": [
        "!apt-get -y install openjdk-8-jdk-headless\n",
        "!wget http://apache.osuosl.org/spark/spark-2.4.0/spark-2.4.0-bin-hadoop2.7.tgz\n",
        "!tar xf spark-2.4.0-bin-hadoop2.7.tgz\n",
        "!pip install findspark kaggle"
      ],
      "execution_count": 1,
      "outputs": [
        {
          "output_type": "stream",
          "text": [
            "Reading package lists... Done\n",
            "Building dependency tree       \n",
            "Reading state information... Done\n",
            "openjdk-8-jdk-headless is already the newest version (8u191-b12-2ubuntu0.18.04.1).\n",
            "0 upgraded, 0 newly installed, 0 to remove and 10 not upgraded.\n",
            "--2019-03-06 08:47:15--  http://apache.osuosl.org/spark/spark-2.4.0/spark-2.4.0-bin-hadoop2.7.tgz\n",
            "Resolving apache.osuosl.org (apache.osuosl.org)... 64.50.236.52, 140.211.166.134, 64.50.233.100, ...\n",
            "Connecting to apache.osuosl.org (apache.osuosl.org)|64.50.236.52|:80... connected.\n",
            "HTTP request sent, awaiting response... 200 OK\n",
            "Length: 227893062 (217M) [application/x-gzip]\n",
            "Saving to: ‘spark-2.4.0-bin-hadoop2.7.tgz’\n",
            "\n",
            "spark-2.4.0-bin-had 100%[===================>] 217.33M  52.9MB/s    in 21s     \n",
            "\n",
            "2019-03-06 08:47:36 (10.4 MB/s) - ‘spark-2.4.0-bin-hadoop2.7.tgz’ saved [227893062/227893062]\n",
            "\n",
            "Collecting findspark\n",
            "  Downloading https://files.pythonhosted.org/packages/b1/c8/e6e1f6a303ae5122dc28d131b5a67c5eb87cbf8f7ac5b9f87764ea1b1e1e/findspark-1.3.0-py2.py3-none-any.whl\n",
            "Requirement already satisfied: kaggle in /usr/local/lib/python3.6/dist-packages (1.5.3)\n",
            "Requirement already satisfied: urllib3<1.25,>=1.21.1 in /usr/local/lib/python3.6/dist-packages (from kaggle) (1.22)\n",
            "Requirement already satisfied: six>=1.10 in /usr/local/lib/python3.6/dist-packages (from kaggle) (1.11.0)\n",
            "Requirement already satisfied: certifi in /usr/local/lib/python3.6/dist-packages (from kaggle) (2018.11.29)\n",
            "Requirement already satisfied: python-dateutil in /usr/local/lib/python3.6/dist-packages (from kaggle) (2.5.3)\n",
            "Requirement already satisfied: requests in /usr/local/lib/python3.6/dist-packages (from kaggle) (2.18.4)\n",
            "Requirement already satisfied: tqdm in /usr/local/lib/python3.6/dist-packages (from kaggle) (4.28.1)\n",
            "Requirement already satisfied: python-slugify in /usr/local/lib/python3.6/dist-packages (from kaggle) (2.0.1)\n",
            "Requirement already satisfied: chardet<3.1.0,>=3.0.2 in /usr/local/lib/python3.6/dist-packages (from requests->kaggle) (3.0.4)\n",
            "Requirement already satisfied: idna<2.7,>=2.5 in /usr/local/lib/python3.6/dist-packages (from requests->kaggle) (2.6)\n",
            "Requirement already satisfied: Unidecode>=0.04.16 in /usr/local/lib/python3.6/dist-packages (from python-slugify->kaggle) (1.0.23)\n",
            "Installing collected packages: findspark\n",
            "Successfully installed findspark-1.3.0\n"
          ],
          "name": "stdout"
        }
      ]
    },
    {
      "metadata": {
        "id": "LSbvlZ9jDVM7",
        "colab_type": "code",
        "colab": {}
      },
      "cell_type": "code",
      "source": [
        "import os\n",
        "\n",
        "# setup environment variables\n",
        "os.environ[\"JAVA_HOME\"] = '/usr/lib/jvm/java-8-openjdk-amd64'\n",
        "os.environ[\"SPARK_HOME\"] = '/content/spark-2.4.0-bin-hadoop2.7'\n",
        "os.environ['KAGGLE_USERNAME'] = 'ronaldsumbayak'\n",
        "os.environ['KAGGLE_KEY'] = '771009dffffa0cd0883d5fb98594d756'"
      ],
      "execution_count": 0,
      "outputs": []
    },
    {
      "metadata": {
        "id": "d10LJSgrGRYv",
        "colab_type": "code",
        "outputId": "cac10b72-6e8f-434b-bd30-c941e6b9613a",
        "colab": {
          "base_uri": "https://localhost:8080/",
          "height": 204
        }
      },
      "cell_type": "code",
      "source": [
        "# download dataset\n",
        "!kaggle datasets download -d kmader/aminer-academic-citation-dataset\n",
        "!unzip aminer-academic-citation-dataset.zip -d data"
      ],
      "execution_count": 3,
      "outputs": [
        {
          "output_type": "stream",
          "text": [
            "Downloading aminer-academic-citation-dataset.zip to /content\n",
            "100% 2.26G/2.27G [00:41<00:00, 30.6MB/s]\n",
            "100% 2.27G/2.27G [00:41<00:00, 58.1MB/s]\n",
            "Archive:  aminer-academic-citation-dataset.zip\n",
            "  inflating: data/dblp-ref-1.json    \n",
            "  inflating: data/citation-network2.txt  \n",
            "  inflating: data/AMiner-Author.txt  \n",
            "  inflating: data/dblp-ref-2.json    \n",
            "  inflating: data/AMiner-Coauthor.txt  \n",
            "  inflating: data/dblp-ref-0.json    \n",
            "  inflating: data/dblp-ref-3.json    \n"
          ],
          "name": "stdout"
        }
      ]
    },
    {
      "metadata": {
        "id": "NxmhZkNiDhtd",
        "colab_type": "code",
        "colab": {}
      },
      "cell_type": "code",
      "source": [
        "import findspark\n",
        "findspark.init()"
      ],
      "execution_count": 0,
      "outputs": []
    },
    {
      "metadata": {
        "id": "GNmya1-bEN46",
        "colab_type": "code",
        "colab": {}
      },
      "cell_type": "code",
      "source": [
        "from pyspark.sql import SparkSession, functions as F"
      ],
      "execution_count": 0,
      "outputs": []
    },
    {
      "metadata": {
        "id": "QpMKw2dIbXfw",
        "colab_type": "code",
        "colab": {}
      },
      "cell_type": "code",
      "source": [
        "spark = SparkSession.builder.master('local[*]').getOrCreate()"
      ],
      "execution_count": 0,
      "outputs": []
    },
    {
      "metadata": {
        "id": "ZBLFg3HsF4CK",
        "colab_type": "code",
        "colab": {}
      },
      "cell_type": "code",
      "source": [
        "from functools import reduce\n",
        "dblp_refs = ['data/dblp-ref-0.json',\n",
        "             'data/dblp-ref-1.json',\n",
        "             'data/dblp-ref-2.json',\n",
        "             'data/dblp-ref-3.json']\n",
        "df = reduce(lambda x, f: f.union(x), map(spark.read.json, dblp_refs))"
      ],
      "execution_count": 0,
      "outputs": []
    },
    {
      "metadata": {
        "id": "-Tx4fOI0VS0Q",
        "colab_type": "code",
        "outputId": "2a87f0c0-5f7a-4adb-b05b-d1a53b5105f9",
        "colab": {
          "base_uri": "https://localhost:8080/",
          "height": 34
        }
      },
      "cell_type": "code",
      "source": [
        "df.count()"
      ],
      "execution_count": 25,
      "outputs": [
        {
          "output_type": "execute_result",
          "data": {
            "text/plain": [
              "3079007"
            ]
          },
          "metadata": {
            "tags": []
          },
          "execution_count": 25
        }
      ]
    },
    {
      "metadata": {
        "id": "0Ejk-k4TVRmf",
        "colab_type": "code",
        "outputId": "f6251532-0270-42ab-d593-8db1939857af",
        "colab": {
          "base_uri": "https://localhost:8080/",
          "height": 479
        }
      },
      "cell_type": "code",
      "source": [
        "df.show()"
      ],
      "execution_count": 26,
      "outputs": [
        {
          "output_type": "stream",
          "text": [
            "+--------------------+--------------------+--------------------+----------+--------------------+--------------------+--------------------+----+\n",
            "|            abstract|             authors|                  id|n_citation|          references|               title|               venue|year|\n",
            "+--------------------+--------------------+--------------------+----------+--------------------+--------------------+--------------------+----+\n",
            "|AdaBoost algorith...|[Zheng Xu, Runbin...|001eef4f-1d00-4ae...|         0|[0a11984c-ab6e-4b...|A Heterogeneous S...|high performance ...|2016|\n",
            "|In this paper, a ...|[Yufei Liang, Yan...|002e0b7e-d62f-414...|         0|                  []|A novel conformal...|international con...|2016|\n",
            "|This paper studie...|[Xiaodong Ai, Key...|00352759-f0a7-467...|         0|[1862a08a-08c6-4a...|A source-seeking ...|international con...|2016|\n",
            "|                null|[Francine Berman,...|00f77fa9-ae49-493...|         0|                  []|Social and ethica...|Communications of...|2017|\n",
            "|                null|[Leon A. Sakkal, ...|013ea675-bb58-42f...|        50|[4f4f200c-0764-4f...|Prediction of con...|Journal of Comput...|2017|\n",
            "|                null|[Nuno Moniz, Luís...|01413023-7ed6-496...|         0|                null|Data-Driven Relev...|                    |2016|\n",
            "|This paper presen...|[Vincent Buntinx,...|01522369-3b88-425...|         0|[426b57a8-2e7d-49...|Studying Linguist...|Frontiers in Digi...|2017|\n",
            "|Boneh and Durfee ...|[Atsushi Takayasu...|01537b60-9ae2-468...|         0|                null|Small secret expo...|international sym...|2016|\n",
            "|Container identif...|[Ankit Verma, Mon...|017440d5-6ba8-422...|         0|[3e3a4245-eb62-47...|Automatic Contain...|international con...|2016|\n",
            "|This paper analyz...|[Elaine Vedrasco,...|01dcc2e7-fda1-483...|         0|[472b9486-b98a-49...|Effective solutio...|                    |2016|\n",
            "|For stereoscopic ...|[Long Qian, Alexa...|01f02fae-97df-420...|        50|[076bca9b-b30c-4c...|Modeling Physical...|international sym...|2016|\n",
            "|Without requiring...|[Aijie Zou, Yuxua...|029bb71a-6b91-43a...|         0|[0b92c76b-86f0-4b...|Delay analysis of...|international con...|2016|\n",
            "|                null|[Ioanna Ersi Perv...|02a643f8-93f3-469...|         0|[2151fe5c-ec30-40...|Use of Digital To...|                    |2016|\n",
            "|                null|[Kazuhiro Homma, ...|02e81c9e-f2ae-433...|         0|                null|MR Imaging Method...|                    |1994|\n",
            "|This work establi...|[P. Karpiński, Jo...|0361b05e-9bca-42d...|         0|[65cbef5a-007f-43...|A high-performanc...|                    |2017|\n",
            "|Transforming dete...|[Jan Křetínský, T...|037d2e92-a3b1-406...|         0|[0c781683-b162-45...|Index Appearance ...|tools and algorit...|2017|\n",
            "|The relevance of ...|[Nicola Maiellaro...|0391f5e3-13f4-498...|         0|[49365bcd-f1aa-4f...|One-Page Multimed...|                    |2017|\n",
            "|                null|[Marta Nuñez-Garc...|03c06fcc-017a-413...|         0|[456717b7-c5f9-4d...|Standardised Fram...|                    |2016|\n",
            "|In this work, we ...|[Maria Dimou, The...|03d34ab5-a275-444...|         0|[35fc2508-4727-4a...|Topology Experime...|panhellenic confe...|2016|\n",
            "|Ever-evolving mal...|[Ekta Gandotra, D...|03f1c773-c072-401...|         0|                null|Tools & Technique...|                    |2016|\n",
            "+--------------------+--------------------+--------------------+----------+--------------------+--------------------+--------------------+----+\n",
            "only showing top 20 rows\n",
            "\n"
          ],
          "name": "stdout"
        }
      ]
    },
    {
      "metadata": {
        "id": "KH-6jBmKIv36",
        "colab_type": "code",
        "colab": {}
      },
      "cell_type": "code",
      "source": [
        "# Jumlah paper per tahun\n",
        "\n",
        "paper_count_per_year = df.groupBy('year').count().orderBy('year', ascending=False)"
      ],
      "execution_count": 0,
      "outputs": []
    },
    {
      "metadata": {
        "id": "y_67vZj2mF38",
        "colab_type": "code",
        "outputId": "6115be23-79b6-48ae-e940-f1ae7f698952",
        "colab": {
          "base_uri": "https://localhost:8080/",
          "height": 459
        }
      },
      "cell_type": "code",
      "source": [
        "paper_count_per_year.show()"
      ],
      "execution_count": 28,
      "outputs": [
        {
          "output_type": "stream",
          "text": [
            "+----+------+\n",
            "|year| count|\n",
            "+----+------+\n",
            "|2018|    38|\n",
            "|2017| 81735|\n",
            "|2016|232456|\n",
            "|2015|227225|\n",
            "|2014|223664|\n",
            "|2013|214892|\n",
            "|2012|207237|\n",
            "|2011|196227|\n",
            "|2010|182181|\n",
            "|2009|175808|\n",
            "|2008|159074|\n",
            "|2007|148432|\n",
            "|2006|135939|\n",
            "|2005|120765|\n",
            "|2004|101895|\n",
            "|2003| 83106|\n",
            "|2002| 69305|\n",
            "|2001| 60743|\n",
            "|2000| 55743|\n",
            "|1999| 47934|\n",
            "+----+------+\n",
            "only showing top 20 rows\n",
            "\n"
          ],
          "name": "stdout"
        }
      ]
    },
    {
      "metadata": {
        "id": "_2SflY5lYWJq",
        "colab_type": "code",
        "outputId": "4cebdcac-02ca-4d90-90b7-388258e7b82b",
        "colab": {
          "base_uri": "https://localhost:8080/",
          "height": 393
        }
      },
      "cell_type": "code",
      "source": [
        "paper_count_per_year.toPandas() \\\n",
        "                    .plot(x='year',\n",
        "                          y='count',\n",
        "                          title='Number of paper per year')"
      ],
      "execution_count": 34,
      "outputs": [
        {
          "output_type": "execute_result",
          "data": {
            "text/plain": [
              "<matplotlib.axes._subplots.AxesSubplot at 0x7fa1a6380e10>"
            ]
          },
          "metadata": {
            "tags": []
          },
          "execution_count": 34
        },
        {
          "output_type": "display_data",
          "data": {
            "image/png": "[encoded data removed]",
            "text/plain": [
              "<Figure size 576x396 with 1 Axes>"
            ]
          },
          "metadata": {
            "tags": []
          }
        }
      ]
    },
    {
      "metadata": {
        "id": "HzWfM2y-d9w8",
        "colab_type": "code",
        "colab": {}
      },
      "cell_type": "code",
      "source": [
        "# Rata-rata jumlah citation untuk tiap paper\n",
        "\n",
        "n_citation_avg = df.agg(F.avg('n_citation'))"
      ],
      "execution_count": 0,
      "outputs": []
    },
    {
      "metadata": {
        "id": "mZxCK03zP671",
        "colab_type": "code",
        "colab": {
          "base_uri": "https://localhost:8080/",
          "height": 34
        },
        "outputId": "674e45d5-98f9-43e2-c2d8-eab9d4d3f2d5"
      },
      "cell_type": "code",
      "source": [
        "print('Average number of citation per paper:', int(n_citation_avg.collect()[0][0]))"
      ],
      "execution_count": 36,
      "outputs": [
        {
          "output_type": "stream",
          "text": [
            "Average number of citation per paper: 35\n"
          ],
          "name": "stdout"
        }
      ]
    },
    {
      "metadata": {
        "id": "E8qCAI6GFqAZ",
        "colab_type": "code",
        "colab": {}
      },
      "cell_type": "code",
      "source": [
        "# Venue / Conference dengan jumlah paper terbanyak per tahun\n",
        "\n",
        "# grouped by year and venue\n",
        "yv = df.groupBy('year', 'venue') \\\n",
        "       .count() \\\n",
        "       .where('venue != \"\"')\n",
        "\n",
        "# year and venue group aggregated by maximum row\n",
        "ym = df.groupBy('year', 'venue') \\\n",
        "       .count() \\\n",
        "       .where('venue != \"\"') \\\n",
        "       .groupBy('year') \\\n",
        "       .agg(F.max('count').alias('count'))\n",
        "\n",
        "# maximum year and venue group with venue column\n",
        "most_venue_per_year =\\\n",
        "    ym.join(yv, ['year', 'count'], 'left') \\\n",
        "      .orderBy('year', ascending=False)"
      ],
      "execution_count": 0,
      "outputs": []
    },
    {
      "metadata": {
        "id": "JC_166EJLIS_",
        "colab_type": "code",
        "colab": {
          "base_uri": "https://localhost:8080/",
          "height": 459
        },
        "outputId": "8347f51a-6788-40bc-d19d-dbfbb9e32ad2"
      },
      "cell_type": "code",
      "source": [
        "most_venue_per_year.show()"
      ],
      "execution_count": 32,
      "outputs": [
        {
          "output_type": "stream",
          "text": [
            "+----+-----+--------------------+\n",
            "|year|count|               venue|\n",
            "+----+-----+--------------------+\n",
            "|2018|   13|  Information Fusion|\n",
            "|2017|  946|             Sensors|\n",
            "|2016| 1835|             Sensors|\n",
            "|2015| 2056|international con...|\n",
            "|2014| 2001|global communicat...|\n",
            "|2013| 1762|international con...|\n",
            "|2012| 1793|international geo...|\n",
            "|2011| 1595|Expert Systems Wi...|\n",
            "|2010| 1364|international con...|\n",
            "|2009| 1326|conference on dec...|\n",
            "|2008| 1305|international con...|\n",
            "|2007| 1307|international con...|\n",
            "|2006| 7143|Lecture Notes in ...|\n",
            "|2005| 4579|Lecture Notes in ...|\n",
            "|2004| 4677|Lecture Notes in ...|\n",
            "|2003| 3199|Lecture Notes in ...|\n",
            "|2002| 3285|Lecture Notes in ...|\n",
            "|2001| 2374|Lecture Notes in ...|\n",
            "|2000| 1655|Lecture Notes in ...|\n",
            "|1999| 1178|Lecture Notes in ...|\n",
            "+----+-----+--------------------+\n",
            "only showing top 20 rows\n",
            "\n"
          ],
          "name": "stdout"
        }
      ]
    },
    {
      "metadata": {
        "id": "yapzFFn1LWSi",
        "colab_type": "code",
        "colab": {
          "base_uri": "https://localhost:8080/",
          "height": 1462
        },
        "outputId": "06daa33a-6c58-4f76-f794-5becffb2a5b6"
      },
      "cell_type": "code",
      "source": [
        "print('Venue / Conference with most paper for each year\\n')\n",
        "for row in most_venue_per_year.collect():\n",
        "    print('{0}: {2} ({1} paper)'.format(*row))"
      ],
      "execution_count": 33,
      "outputs": [
        {
          "output_type": "stream",
          "text": [
            "Venue / Conference with most paper for each year\n",
            "\n",
            "2018: Information Fusion (13 paper)\n",
            "2017: Sensors (946 paper)\n",
            "2016: Sensors (1835 paper)\n",
            "2015: international conference on communications (2056 paper)\n",
            "2014: global communications conference (2001 paper)\n",
            "2013: international conference on acoustics, speech, and signal processing (1762 paper)\n",
            "2012: international geoscience and remote sensing symposium (1793 paper)\n",
            "2011: Expert Systems With Applications (1595 paper)\n",
            "2010: international conference on acoustics, speech, and signal processing (1364 paper)\n",
            "2009: conference on decision and control (1326 paper)\n",
            "2008: international conference on acoustics, speech, and signal processing (1305 paper)\n",
            "2007: international conference on acoustics, speech, and signal processing (1307 paper)\n",
            "2006: Lecture Notes in Computer Science (7143 paper)\n",
            "2005: Lecture Notes in Computer Science (4579 paper)\n",
            "2004: Lecture Notes in Computer Science (4677 paper)\n",
            "2003: Lecture Notes in Computer Science (3199 paper)\n",
            "2002: Lecture Notes in Computer Science (3285 paper)\n",
            "2001: Lecture Notes in Computer Science (2374 paper)\n",
            "2000: Lecture Notes in Computer Science (1655 paper)\n",
            "1999: Lecture Notes in Computer Science (1178 paper)\n",
            "1998: Lecture Notes in Computer Science (1399 paper)\n",
            "1997: international conference on acoustics, speech, and signal processing (945 paper)\n",
            "1996: international conference on acoustics speech and signal processing (800 paper)\n",
            "1995: international conference on acoustics, speech, and signal processing (812 paper)\n",
            "1994: international conference on acoustics, speech, and signal processing (736 paper)\n",
            "1993: international symposium on circuits and systems (536 paper)\n",
            "1992: international conference on robotics and automation (433 paper)\n",
            "1991: IEEE Transactions on Signal Processing (314 paper)\n",
            "1990: IEEE Transactions on Communications (224 paper)\n",
            "1989: systems man and cybernetics (372 paper)\n",
            "1988: international conference on robotics and automation (345 paper)\n",
            "1987: international conference on robotics and automation (326 paper)\n",
            "1986: international conference on robotics and automation (290 paper)\n",
            "1985: international joint conference on artificial intelligence (235 paper)\n",
            "1984: international conference on acoustics, speech, and signal processing (428 paper)\n",
            "1983: international conference on acoustics, speech, and signal processing (292 paper)\n",
            "1982: international conference on acoustics, speech, and signal processing (384 paper)\n",
            "1981: international conference on acoustics, speech, and signal processing (238 paper)\n",
            "1980: international conference on acoustics, speech, and signal processing (196 paper)\n",
            "1979: international joint conference on artificial intelligence (191 paper)\n",
            "1978: international conference on acoustics, speech, and signal processing (154 paper)\n",
            "1977: international joint conference on artificial intelligence (195 paper)\n",
            "1976: international conference on acoustics, speech, and signal processing (159 paper)\n",
            "1975: IEEE Transactions on Computers (158 paper)\n",
            "1974: IEEE Transactions on Computers (198 paper)\n",
            "1973: IEEE Transactions on Computers (156 paper)\n",
            "1972: IEEE Transactions on Computers (192 paper)\n",
            "1971: IEEE Transactions on Computers (126 paper)\n",
            "1970: Communications of The ACM (147 paper)\n",
            "1969: Communications of The ACM (142 paper)\n",
            "1968: Communications of The ACM (133 paper)\n",
            "1967: Communications of The ACM (150 paper)\n",
            "1966: Communications of The ACM (145 paper)\n",
            "1965: Communications of The ACM (154 paper)\n",
            "1964: Communications of The ACM (169 paper)\n",
            "1963: Communications of The ACM (180 paper)\n",
            "1962: Communications of The ACM (201 paper)\n",
            "1961: Communications of The ACM (166 paper)\n",
            "1960: Ire Transactions on Electronic Computers (57 paper)\n",
            "1959: Ire Transactions on Electronic Computers (52 paper)\n",
            "1958: Ire Transactions on Electronic Computers (34 paper)\n",
            "1957: Journal of the ACM (34 paper)\n",
            "1956: Journal of the ACM (25 paper)\n",
            "1955: Journal of the ACM (18 paper)\n",
            "1954: Journal of the ACM (18 paper)\n",
            "1953: Journal of Symbolic Logic (20 paper)\n",
            "1952: Journal of Symbolic Logic (13 paper)\n",
            "1951: Journal of Symbolic Logic (8 paper)\n",
            "1950: Journal of Symbolic Logic (13 paper)\n",
            "1949: Journal of Symbolic Logic (11 paper)\n",
            "1948: Journal of Symbolic Logic (4 paper)\n",
            "1947: Journal of Symbolic Logic (4 paper)\n",
            "1946: Journal of Symbolic Logic (5 paper)\n",
            "1945: Journal of Symbolic Logic (3 paper)\n",
            "1944: Journal of Symbolic Logic (3 paper)\n",
            "1943: Journal of Symbolic Logic (3 paper)\n",
            "1942: Journal of Symbolic Logic (7 paper)\n",
            "1941: Journal of Symbolic Logic (5 paper)\n",
            "1940: Journal of Symbolic Logic (6 paper)\n",
            "1939: Journal of Symbolic Logic (8 paper)\n",
            "1938: Journal of Symbolic Logic (5 paper)\n",
            "1937: Journal of Symbolic Logic (9 paper)\n",
            "1936: Journal of Symbolic Logic (7 paper)\n"
          ],
          "name": "stdout"
        }
      ]
    }
  ]
}