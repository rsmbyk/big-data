{
  "nbformat": 4,
  "nbformat_minor": 0,
  "metadata": {
    "colab": {
      "name": "big-data-cve.ipynb",
      "version": "0.3.2",
      "provenance": []
    },
    "kernelspec": {
      "name": "python3",
      "display_name": "Python 3"
    }
  },
  "cells": [
    {
      "metadata": {
        "id": "WljrYMuLC_oz",
        "colab_type": "code",
        "outputId": "46f714b4-f045-459f-e14f-becbdfc45f56",
        "colab": {
          "base_uri": "https://localhost:8080/",
          "height": 357
        }
      },
      "cell_type": "code",
      "source": [
        "!apt-get -y install openjdk-8-jdk-headless\n",
        "!wget http://apache.osuosl.org/spark/spark-2.4.0/spark-2.4.0-bin-hadoop2.7.tgz\n",
        "!tar xf spark-2.4.0-bin-hadoop2.7.tgz\n",
        "!pip install findspark"
      ],
      "execution_count": 1,
      "outputs": [
        {
          "output_type": "stream",
          "text": [
            "Reading package lists... Done\n",
            "Building dependency tree       \n",
            "Reading state information... Done\n",
            "openjdk-8-jdk-headless is already the newest version (8u191-b12-2ubuntu0.18.04.1).\n",
            "0 upgraded, 0 newly installed, 0 to remove and 10 not upgraded.\n",
            "--2019-03-06 02:22:28--  http://apache.osuosl.org/spark/spark-2.4.0/spark-2.4.0-bin-hadoop2.7.tgz\n",
            "Resolving apache.osuosl.org (apache.osuosl.org)... 64.50.236.52, 140.211.166.134, 64.50.233.100, ...\n",
            "Connecting to apache.osuosl.org (apache.osuosl.org)|64.50.236.52|:80... connected.\n",
            "HTTP request sent, awaiting response... 200 OK\n",
            "Length: 227893062 (217M) [application/x-gzip]\n",
            "Saving to: ‘spark-2.4.0-bin-hadoop2.7.tgz’\n",
            "\n",
            "spark-2.4.0-bin-had 100%[===================>] 217.33M  54.4MB/s    in 15s     \n",
            "\n",
            "2019-03-06 02:22:43 (14.6 MB/s) - ‘spark-2.4.0-bin-hadoop2.7.tgz’ saved [227893062/227893062]\n",
            "\n",
            "Collecting findspark\n",
            "  Downloading https://files.pythonhosted.org/packages/b1/c8/e6e1f6a303ae5122dc28d131b5a67c5eb87cbf8f7ac5b9f87764ea1b1e1e/findspark-1.3.0-py2.py3-none-any.whl\n",
            "Installing collected packages: findspark\n",
            "Successfully installed findspark-1.3.0\n"
          ],
          "name": "stdout"
        }
      ]
    },
    {
      "metadata": {
        "id": "LSbvlZ9jDVM7",
        "colab_type": "code",
        "colab": {}
      },
      "cell_type": "code",
      "source": [
        "import os\n",
        "\n",
        "# setup environment variables\n",
        "os.environ[\"JAVA_HOME\"] = '/usr/lib/jvm/java-8-openjdk-amd64'\n",
        "os.environ[\"SPARK_HOME\"] = '/content/spark-2.4.0-bin-hadoop2.7'\n",
        "os.environ['KAGGLE_USERNAME'] = 'ronaldsumbayak'\n",
        "os.environ['KAGGLE_KEY'] = '771009dffffa0cd0883d5fb98594d756'"
      ],
      "execution_count": 0,
      "outputs": []
    },
    {
      "metadata": {
        "id": "d10LJSgrGRYv",
        "colab_type": "code",
        "outputId": "63d97361-a157-4431-ff13-1b2dbe5dae54",
        "colab": {
          "base_uri": "https://localhost:8080/",
          "height": 204
        }
      },
      "cell_type": "code",
      "source": [
        "# download dataset\n",
        "!kaggle datasets download -d kmader/aminer-academic-citation-dataset\n",
        "!unzip aminer-academic-citation-dataset.zip -d data"
      ],
      "execution_count": 3,
      "outputs": [
        {
          "output_type": "stream",
          "text": [
            "Downloading aminer-academic-citation-dataset.zip to /content\n",
            "100% 2.26G/2.27G [00:40<00:00, 33.6MB/s]\n",
            "100% 2.27G/2.27G [00:40<00:00, 60.2MB/s]\n",
            "Archive:  aminer-academic-citation-dataset.zip\n",
            "  inflating: data/dblp-ref-1.json    \n",
            "  inflating: data/citation-network2.txt  \n",
            "  inflating: data/AMiner-Author.txt  \n",
            "  inflating: data/dblp-ref-2.json    \n",
            "  inflating: data/AMiner-Coauthor.txt  \n",
            "  inflating: data/dblp-ref-0.json    \n",
            "  inflating: data/dblp-ref-3.json    \n"
          ],
          "name": "stdout"
        }
      ]
    },
    {
      "metadata": {
        "id": "NxmhZkNiDhtd",
        "colab_type": "code",
        "colab": {}
      },
      "cell_type": "code",
      "source": [
        "import findspark\n",
        "findspark.init()"
      ],
      "execution_count": 0,
      "outputs": []
    },
    {
      "metadata": {
        "id": "GNmya1-bEN46",
        "colab_type": "code",
        "colab": {}
      },
      "cell_type": "code",
      "source": [
        "from pyspark.sql import SparkSession, functions as F"
      ],
      "execution_count": 0,
      "outputs": []
    },
    {
      "metadata": {
        "id": "QpMKw2dIbXfw",
        "colab_type": "code",
        "colab": {}
      },
      "cell_type": "code",
      "source": [
        "spark = SparkSession.builder.master('local[*]').getOrCreate()"
      ],
      "execution_count": 0,
      "outputs": []
    },
    {
      "metadata": {
        "id": "ZBLFg3HsF4CK",
        "colab_type": "code",
        "colab": {}
      },
      "cell_type": "code",
      "source": [
        "from functools import reduce\n",
        "\n",
        "dblp_refs = [spark.read.json('data/dblp-ref-0.json'),\n",
        "             spark.read.json('data/dblp-ref-1.json'),\n",
        "             spark.read.json('data/dblp-ref-2.json'),\n",
        "             spark.read.json('data/dblp-ref-3.json')]\n",
        "df = reduce(lambda x, f: f.union(x), dblp_refs)"
      ],
      "execution_count": 0,
      "outputs": []
    },
    {
      "metadata": {
        "id": "-Tx4fOI0VS0Q",
        "colab_type": "code",
        "colab": {
          "base_uri": "https://localhost:8080/",
          "height": 34
        },
        "outputId": "a6e50756-ca60-4615-f34a-7f8f90409b0c"
      },
      "cell_type": "code",
      "source": [
        "df.count()"
      ],
      "execution_count": 8,
      "outputs": [
        {
          "output_type": "execute_result",
          "data": {
            "text/plain": [
              "3079007"
            ]
          },
          "metadata": {
            "tags": []
          },
          "execution_count": 8
        }
      ]
    },
    {
      "metadata": {
        "id": "0Ejk-k4TVRmf",
        "colab_type": "code",
        "colab": {
          "base_uri": "https://localhost:8080/",
          "height": 459
        },
        "outputId": "d91c0f7c-fa49-4322-e984-7936afe4eaed"
      },
      "cell_type": "code",
      "source": [
        "df.show()"
      ],
      "execution_count": 9,
      "outputs": [
        {
          "output_type": "stream",
          "text": [
            "+--------------------+--------------------+--------------------+----------+--------------------+--------------------+--------------------+----+\n",
            "|            abstract|             authors|                  id|n_citation|          references|               title|               venue|year|\n",
            "+--------------------+--------------------+--------------------+----------+--------------------+--------------------+--------------------+----+\n",
            "|AdaBoost algorith...|[Zheng Xu, Runbin...|001eef4f-1d00-4ae...|         0|[0a11984c-ab6e-4b...|A Heterogeneous S...|high performance ...|2016|\n",
            "|In this paper, a ...|[Yufei Liang, Yan...|002e0b7e-d62f-414...|         0|                  []|A novel conformal...|international con...|2016|\n",
            "|This paper studie...|[Xiaodong Ai, Key...|00352759-f0a7-467...|         0|[1862a08a-08c6-4a...|A source-seeking ...|international con...|2016|\n",
            "|                null|[Francine Berman,...|00f77fa9-ae49-493...|         0|                  []|Social and ethica...|Communications of...|2017|\n",
            "|                null|[Leon A. Sakkal, ...|013ea675-bb58-42f...|        50|[4f4f200c-0764-4f...|Prediction of con...|Journal of Comput...|2017|\n",
            "|                null|[Nuno Moniz, Luís...|01413023-7ed6-496...|         0|                null|Data-Driven Relev...|                    |2016|\n",
            "|This paper presen...|[Vincent Buntinx,...|01522369-3b88-425...|         0|[426b57a8-2e7d-49...|Studying Linguist...|Frontiers in Digi...|2017|\n",
            "|Boneh and Durfee ...|[Atsushi Takayasu...|01537b60-9ae2-468...|         0|                null|Small secret expo...|international sym...|2016|\n",
            "|Container identif...|[Ankit Verma, Mon...|017440d5-6ba8-422...|         0|[3e3a4245-eb62-47...|Automatic Contain...|international con...|2016|\n",
            "|This paper analyz...|[Elaine Vedrasco,...|01dcc2e7-fda1-483...|         0|[472b9486-b98a-49...|Effective solutio...|                    |2016|\n",
            "|For stereoscopic ...|[Long Qian, Alexa...|01f02fae-97df-420...|        50|[076bca9b-b30c-4c...|Modeling Physical...|international sym...|2016|\n",
            "|Without requiring...|[Aijie Zou, Yuxua...|029bb71a-6b91-43a...|         0|[0b92c76b-86f0-4b...|Delay analysis of...|international con...|2016|\n",
            "|                null|[Ioanna Ersi Perv...|02a643f8-93f3-469...|         0|[2151fe5c-ec30-40...|Use of Digital To...|                    |2016|\n",
            "|                null|[Kazuhiro Homma, ...|02e81c9e-f2ae-433...|         0|                null|MR Imaging Method...|                    |1994|\n",
            "|This work establi...|[P. Karpiński, Jo...|0361b05e-9bca-42d...|         0|[65cbef5a-007f-43...|A high-performanc...|                    |2017|\n",
            "|Transforming dete...|[Jan Křetínský, T...|037d2e92-a3b1-406...|         0|[0c781683-b162-45...|Index Appearance ...|tools and algorit...|2017|\n",
            "|The relevance of ...|[Nicola Maiellaro...|0391f5e3-13f4-498...|         0|[49365bcd-f1aa-4f...|One-Page Multimed...|                    |2017|\n",
            "|                null|[Marta Nuñez-Garc...|03c06fcc-017a-413...|         0|[456717b7-c5f9-4d...|Standardised Fram...|                    |2016|\n",
            "|In this work, we ...|[Maria Dimou, The...|03d34ab5-a275-444...|         0|[35fc2508-4727-4a...|Topology Experime...|panhellenic confe...|2016|\n",
            "|Ever-evolving mal...|[Ekta Gandotra, D...|03f1c773-c072-401...|         0|                null|Tools & Technique...|                    |2016|\n",
            "+--------------------+--------------------+--------------------+----------+--------------------+--------------------+--------------------+----+\n",
            "only showing top 20 rows\n",
            "\n"
          ],
          "name": "stdout"
        }
      ]
    },
    {
      "metadata": {
        "id": "KH-6jBmKIv36",
        "colab_type": "code",
        "colab": {}
      },
      "cell_type": "code",
      "source": [
        "annual_paper_count = df.groupBy('year').count().orderBy('year', ascending=False)"
      ],
      "execution_count": 0,
      "outputs": []
    },
    {
      "metadata": {
        "id": "y_67vZj2mF38",
        "colab_type": "code",
        "colab": {
          "base_uri": "https://localhost:8080/",
          "height": 459
        },
        "outputId": "fd0cacf9-6b6f-4456-e21c-6dec9df80a83"
      },
      "cell_type": "code",
      "source": [
        "annual_paper_count.show()"
      ],
      "execution_count": 11,
      "outputs": [
        {
          "output_type": "stream",
          "text": [
            "+----+------+\n",
            "|year| count|\n",
            "+----+------+\n",
            "|2018|    38|\n",
            "|2017| 81735|\n",
            "|2016|232456|\n",
            "|2015|227225|\n",
            "|2014|223664|\n",
            "|2013|214892|\n",
            "|2012|207237|\n",
            "|2011|196227|\n",
            "|2010|182181|\n",
            "|2009|175808|\n",
            "|2008|159074|\n",
            "|2007|148432|\n",
            "|2006|135939|\n",
            "|2005|120765|\n",
            "|2004|101895|\n",
            "|2003| 83106|\n",
            "|2002| 69305|\n",
            "|2001| 60743|\n",
            "|2000| 55743|\n",
            "|1999| 47934|\n",
            "+----+------+\n",
            "only showing top 20 rows\n",
            "\n"
          ],
          "name": "stdout"
        }
      ]
    },
    {
      "metadata": {
        "id": "_2SflY5lYWJq",
        "colab_type": "code",
        "colab": {
          "base_uri": "https://localhost:8080/",
          "height": 378
        },
        "outputId": "d616e74e-7506-458a-df74-a41cd8388e31"
      },
      "cell_type": "code",
      "source": [
        "annual_paper_count.toPandas().plot(x='year', y='count')"
      ],
      "execution_count": 12,
      "outputs": [
        {
          "output_type": "execute_result",
          "data": {
            "text/plain": [
              "<matplotlib.axes._subplots.AxesSubplot at 0x7efe436baf60>"
            ]
          },
          "metadata": {
            "tags": []
          },
          "execution_count": 12
        },
        {
          "output_type": "display_data",
          "data": {
            "image/png": "[encoded data removed]",
            "text/plain": [
              "<Figure size 576x396 with 1 Axes>"
            ]
          },
          "metadata": {
            "tags": []
          }
        }
      ]
    },
    {
      "metadata": {
        "id": "HzWfM2y-d9w8",
        "colab_type": "code",
        "colab": {
          "base_uri": "https://localhost:8080/",
          "height": 34
        },
        "outputId": "32e32313-8644-4c41-b06b-0b5e1151a6ec"
      },
      "cell_type": "code",
      "source": [
        "n_citation_avg = df.agg(F.avg('n_citation')).collect()[0][0]\n",
        "print('Average number of citation per paper:', int(n_citation_avg))"
      ],
      "execution_count": 13,
      "outputs": [
        {
          "output_type": "stream",
          "text": [
            "Average number of citation per paper: 35\n"
          ],
          "name": "stdout"
        }
      ]
    },
    {
      "metadata": {
        "id": "E8qCAI6GFqAZ",
        "colab_type": "code",
        "colab": {
          "base_uri": "https://localhost:8080/",
          "height": 459
        },
        "outputId": "2df19cab-2b99-4430-ca29-32da376ccbee"
      },
      "cell_type": "code",
      "source": [
        "yv = df.groupBy('year', 'venue') \\\n",
        "       .count() \\\n",
        "       .where('venue != \"\"')\n",
        "ym = df.groupBy('year', 'venue') \\\n",
        "       .count() \\\n",
        "       .where('venue != \"\"') \\\n",
        "       .groupBy('year') \\\n",
        "       .agg(F.max('count').alias('count'))\n",
        "\n",
        "vy = ym.join(yv, ['year', 'count'], 'left') \\\n",
        "       .orderBy('year', ascending=False)\n",
        "vy.show()"
      ],
      "execution_count": 14,
      "outputs": [
        {
          "output_type": "stream",
          "text": [
            "+----+-----+--------------------+\n",
            "|year|count|               venue|\n",
            "+----+-----+--------------------+\n",
            "|2018|   13|  Information Fusion|\n",
            "|2017|  946|             Sensors|\n",
            "|2016| 1835|             Sensors|\n",
            "|2015| 2056|international con...|\n",
            "|2014| 2001|global communicat...|\n",
            "|2013| 1762|international con...|\n",
            "|2012| 1793|international geo...|\n",
            "|2011| 1595|Expert Systems Wi...|\n",
            "|2010| 1364|international con...|\n",
            "|2009| 1326|conference on dec...|\n",
            "|2008| 1305|international con...|\n",
            "|2007| 1307|international con...|\n",
            "|2006| 7143|Lecture Notes in ...|\n",
            "|2005| 4579|Lecture Notes in ...|\n",
            "|2004| 4677|Lecture Notes in ...|\n",
            "|2003| 3199|Lecture Notes in ...|\n",
            "|2002| 3285|Lecture Notes in ...|\n",
            "|2001| 2374|Lecture Notes in ...|\n",
            "|2000| 1655|Lecture Notes in ...|\n",
            "|1999| 1178|Lecture Notes in ...|\n",
            "+----+-----+--------------------+\n",
            "only showing top 20 rows\n",
            "\n"
          ],
          "name": "stdout"
        }
      ]
    }
  ]
}