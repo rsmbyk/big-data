{
 "cells": [
  {
   "cell_type": "code",
   "execution_count": 20,
   "metadata": {
    "colab": {
     "base_uri": "https://localhost:8080/",
     "height": 955
    },
    "colab_type": "code",
    "id": "M_CBuzziJS2a",
    "outputId": "751684e4-9df1-4f90-b021-692c2b353d99"
   },
   "outputs": [
    {
     "name": "stdout",
     "output_type": "stream",
     "text": [
      "Reading package lists... Done\n",
      "Building dependency tree       \n",
      "Reading state information... Done\n",
      "openjdk-8-jdk-headless is already the newest version (8u191-b12-2ubuntu0.18.04.1).\n",
      "The following package was automatically installed and is no longer required:\n",
      "  libnvidia-common-410\n",
      "Use 'apt autoremove' to remove it.\n",
      "0 upgraded, 0 newly installed, 0 to remove and 10 not upgraded.\n",
      "--2019-03-21 01:21:25--  http://apache.osuosl.org/spark/spark-2.4.0/spark-2.4.0-bin-hadoop2.7.tgz\n",
      "Resolving apache.osuosl.org (apache.osuosl.org)... 64.50.233.100, 140.211.166.134, 64.50.236.52, ...\n",
      "Connecting to apache.osuosl.org (apache.osuosl.org)|64.50.233.100|:80... connected.\n",
      "HTTP request sent, awaiting response... 200 OK\n",
      "Length: 227893062 (217M) [application/x-gzip]\n",
      "Saving to: ‘spark-2.4.0-bin-hadoop2.7.tgz.1’\n",
      "\n",
      "spark-2.4.0-bin-had 100%[===================>] 217.33M  99.6MB/s    in 2.2s    \n",
      "\n",
      "2019-03-21 01:21:27 (99.6 MB/s) - ‘spark-2.4.0-bin-hadoop2.7.tgz.1’ saved [227893062/227893062]\n",
      "\n",
      "Requirement already satisfied: findspark in /usr/local/lib/python3.6/dist-packages (1.3.0)\n",
      "Requirement already satisfied: kaggle in /usr/local/lib/python3.6/dist-packages (1.5.3)\n",
      "Collecting pixiedust\n",
      "\u001b[?25l  Downloading https://files.pythonhosted.org/packages/7c/01/d2084c07fdc05aafeaecff74f5888280c55193cd16c3572bbcee12bbc008/pixiedust-1.1.15.tar.gz (197kB)\n",
      "\u001b[K    100% |████████████████████████████████| 204kB 23.6MB/s \n",
      "\u001b[?25hRequirement already satisfied: urllib3<1.25,>=1.21.1 in /usr/local/lib/python3.6/dist-packages (from kaggle) (1.22)\n",
      "Requirement already satisfied: six>=1.10 in /usr/local/lib/python3.6/dist-packages (from kaggle) (1.11.0)\n",
      "Requirement already satisfied: certifi in /usr/local/lib/python3.6/dist-packages (from kaggle) (2019.3.9)\n",
      "Requirement already satisfied: python-dateutil in /usr/local/lib/python3.6/dist-packages (from kaggle) (2.5.3)\n",
      "Requirement already satisfied: requests in /usr/local/lib/python3.6/dist-packages (from kaggle) (2.18.4)\n",
      "Requirement already satisfied: tqdm in /usr/local/lib/python3.6/dist-packages (from kaggle) (4.28.1)\n",
      "Requirement already satisfied: python-slugify in /usr/local/lib/python3.6/dist-packages (from kaggle) (3.0.0)\n",
      "Collecting mpld3 (from pixiedust)\n",
      "\u001b[?25l  Downloading https://files.pythonhosted.org/packages/91/95/a52d3a83d0a29ba0d6898f6727e9858fe7a43f6c2ce81a5fe7e05f0f4912/mpld3-0.3.tar.gz (788kB)\n",
      "\u001b[K    100% |████████████████████████████████| 798kB 14.7MB/s \n",
      "\u001b[?25hRequirement already satisfied: lxml in /usr/local/lib/python3.6/dist-packages (from pixiedust) (4.2.6)\n",
      "Collecting geojson (from pixiedust)\n",
      "  Downloading https://files.pythonhosted.org/packages/f1/34/bc3a65faabce27a7faa755ab08d811207a4fc438f77ef09c229fc022d778/geojson-2.4.1-py2.py3-none-any.whl\n",
      "Collecting astunparse (from pixiedust)\n",
      "  Downloading https://files.pythonhosted.org/packages/2e/37/5dd0dd89b87bb5f0f32a7e775458412c52d78f230ab8d0c65df6aabc4479/astunparse-1.6.2-py2.py3-none-any.whl\n",
      "Requirement already satisfied: markdown in /usr/local/lib/python3.6/dist-packages (from pixiedust) (3.0.1)\n",
      "Collecting colour (from pixiedust)\n",
      "  Downloading https://files.pythonhosted.org/packages/74/46/e81907704ab203206769dee1385dc77e1407576ff8f50a0681d0a6b541be/colour-0.1.5-py2.py3-none-any.whl\n",
      "Requirement already satisfied: idna<2.7,>=2.5 in /usr/local/lib/python3.6/dist-packages (from requests->kaggle) (2.6)\n",
      "Requirement already satisfied: chardet<3.1.0,>=3.0.2 in /usr/local/lib/python3.6/dist-packages (from requests->kaggle) (3.0.4)\n",
      "Requirement already satisfied: text-unidecode==1.2 in /usr/local/lib/python3.6/dist-packages (from python-slugify->kaggle) (1.2)\n",
      "Requirement already satisfied: wheel<1.0,>=0.23.0 in /usr/local/lib/python3.6/dist-packages (from astunparse->pixiedust) (0.33.1)\n",
      "Building wheels for collected packages: pixiedust, mpld3\n",
      "  Building wheel for pixiedust (setup.py) ... \u001b[?25ldone\n",
      "\u001b[?25h  Stored in directory: /root/.cache/pip/wheels/ee/53/a8/7a2ed392a416ec3eaa4eef4f49c2e9c6c9587c8e3cec9ec3a6\n",
      "  Building wheel for mpld3 (setup.py) ... \u001b[?25ldone\n",
      "\u001b[?25h  Stored in directory: /root/.cache/pip/wheels/c0/47/fb/8a64f89aecfe0059830479308ad42d62e898a3e3cefdf6ba28\n",
      "Successfully built pixiedust mpld3\n",
      "Installing collected packages: mpld3, geojson, astunparse, colour, pixiedust\n",
      "Successfully installed astunparse-1.6.2 colour-0.1.5 geojson-2.4.1 mpld3-0.3 pixiedust-1.1.15\n"
     ]
    }
   ],
   "source": [
    "!apt-get -y install openjdk-8-jdk-headless\n",
    "!wget http://apache.osuosl.org/spark/spark-2.4.0/spark-2.4.0-bin-hadoop2.7.tgz\n",
    "!tar xf spark-2.4.0-bin-hadoop2.7.tgz\n",
    "!pip install findspark kaggle pixiedust"
   ]
  },
  {
   "cell_type": "code",
   "execution_count": 2,
   "metadata": {
    "colab": {
     "base_uri": "https://localhost:8080/",
     "height": 85
    },
    "colab_type": "code",
    "id": "TovGD5eHJcTN",
    "outputId": "58bdb1ec-b4fe-4e56-d3f5-6fe4cdea0b38"
   },
   "outputs": [
    {
     "name": "stdout",
     "output_type": "stream",
     "text": [
      "/usr/lib/jvm/java-8-openjdk-amd64\n",
      "/content/spark-2.4.0-bin-hadoop2.7\n",
      "ronaldsumbayak\n",
      "771009dffffa0cd0883d5fb98594d756\n"
     ]
    }
   ],
   "source": [
    "import os\n",
    "\n",
    "# setup environment variables\n",
    "os.environ[\"JAVA_HOME\"] = '/usr/lib/jvm/java-8-openjdk-amd64'\n",
    "os.environ[\"SPARK_HOME\"] = '/content/spark-2.4.0-bin-hadoop2.7'\n",
    "os.environ['KAGGLE_USERNAME'] = 'ronaldsumbayak'\n",
    "os.environ['KAGGLE_KEY'] = '771009dffffa0cd0883d5fb98594d756'\n",
    "\n",
    "# verify\n",
    "print(os.environ['JAVA_HOME'])\n",
    "print(os.environ['SPARK_HOME'])\n",
    "print(os.environ['KAGGLE_USERNAME'])\n",
    "print(os.environ['KAGGLE_KEY'])"
   ]
  },
  {
   "cell_type": "code",
   "execution_count": 3,
   "metadata": {
    "colab": {
     "base_uri": "https://localhost:8080/",
     "height": 187
    },
    "colab_type": "code",
    "id": "W4IQMtYsJeHl",
    "outputId": "0f416ee6-f5be-438b-ff3f-821253aa172f"
   },
   "outputs": [
    {
     "name": "stdout",
     "output_type": "stream",
     "text": [
      "Downloading yelp-dataset.zip to /content\n",
      "100% 3.59G/3.59G [01:27<00:00, 21.2MB/s]\n",
      "100% 3.59G/3.59G [01:27<00:00, 43.9MB/s]\n",
      "Archive:  yelp-dataset.zip\n",
      "  inflating: data/yelp_academic_dataset_checkin.json  \n",
      "  inflating: data/yelp_academic_dataset_user.json  \n",
      "  inflating: data/yelp_academic_dataset_business.json  \n",
      "  inflating: data/Dataset_Challenge_Dataset_Agreement.pdf  \n",
      "  inflating: data/yelp_academic_dataset_tip.json  \n",
      "  inflating: data/yelp_academic_dataset_review.json  \n"
     ]
    }
   ],
   "source": [
    "# download dataset\n",
    "!kaggle datasets download -d yelp-dataset/yelp-dataset\n",
    "!unzip yelp-dataset.zip -d data"
   ]
  },
  {
   "cell_type": "code",
   "execution_count": 0,
   "metadata": {
    "colab": {},
    "colab_type": "code",
    "id": "wsAu079XJf9k"
   },
   "outputs": [],
   "source": [
    "import findspark\n",
    "findspark.init()"
   ]
  },
  {
   "cell_type": "code",
   "execution_count": 0,
   "metadata": {
    "colab": {},
    "colab_type": "code",
    "id": "XDOx0qBxxPqh"
   },
   "outputs": [],
   "source": [
    "from pyspark.sql import SparkSession\n",
    "spark = SparkSession.builder.master('local[*]').getOrCreate()"
   ]
  },
  {
   "cell_type": "code",
   "execution_count": 0,
   "metadata": {
    "colab": {},
    "colab_type": "code",
    "id": "2cG0jriTJ20T"
   },
   "outputs": [],
   "source": [
    "business = spark.read.json('data/yelp_academic_dataset_business.json')\n",
    "# checkin = spark.read.json('data/yelp_academic_dataset_checkin.json')\n",
    "# review = spark.read.json('data/yelp_academic_dataset_review.json')\n",
    "# user = spark.read.json('data/yelp_academic_dataset_user.json')\n",
    "# tip = spark.read.json('data/yelp_academic_dataset_tip.json')"
   ]
  },
  {
   "cell_type": "code",
   "execution_count": 0,
   "metadata": {
    "colab": {},
    "colab_type": "code",
    "id": "59ono3akEbG-"
   },
   "outputs": [],
   "source": [
    "data = business"
   ]
  },
  {
   "cell_type": "code",
   "execution_count": 9,
   "metadata": {
    "colab": {
     "base_uri": "https://localhost:8080/",
     "height": 34
    },
    "colab_type": "code",
    "id": "j7bxzfoTJ6bM",
    "outputId": "455f74fe-01be-4f8a-f98a-fb596ba42881"
   },
   "outputs": [
    {
     "data": {
      "text/plain": [
       "192609"
      ]
     },
     "execution_count": 9,
     "metadata": {
      "tags": []
     },
     "output_type": "execute_result"
    }
   ],
   "source": [
    "data.count()"
   ]
  },
  {
   "cell_type": "code",
   "execution_count": 10,
   "metadata": {
    "colab": {
     "base_uri": "https://localhost:8080/",
     "height": 479
    },
    "colab_type": "code",
    "id": "mwB0kUDrJ8l8",
    "outputId": "86fed8bc-6e85-4f1b-cb05-a4eec33e0421"
   },
   "outputs": [
    {
     "name": "stdout",
     "output_type": "stream",
     "text": [
      "+--------------------+--------------------+--------------------+--------------------+------------------+--------------------+-------+-------------+---------------+--------------------+-----------+------------+-----+-----+\n",
      "|             address|          attributes|         business_id|          categories|              city|               hours|is_open|     latitude|      longitude|                name|postal_code|review_count|stars|state|\n",
      "+--------------------+--------------------+--------------------+--------------------+------------------+--------------------+-------+-------------+---------------+--------------------+-----------+------------+-----+-----+\n",
      "|2818 E Camino Ace...|[,,,,,,,,,,,,,,,,...|1SWheh84yJXfytovI...|   Golf, Active Life|           Phoenix|                null|      0|   33.5221425|   -112.0184807|Arizona Biltmore ...|      85016|           5|  3.0|   AZ|\n",
      "|30 Eglinton Avenue W|[,, u'full_bar', ...|QXAEGFB4oINsVuTFx...|Specialty Food, R...|       Mississauga|[9:0-1:0, 9:0-0:0...|      1|43.6054989743|  -79.652288909|Emerald Chinese R...|    L5R 3E7|         128|  2.5|   ON|\n",
      "|10110 Johnston Rd...|[,, u'beer_and_wi...|gnKjwL_1w79qoiV3I...|Sushi Bars, Resta...|         Charlotte|[17:30-22:0, 17:3...|      1|    35.092564|     -80.859132|Musashi Japanese ...|      28210|         170|  4.0|   NC|\n",
      "|15655 W Roosevelt...|                null|xvX2CttrVhyG2z1dF...|Insurance, Financ...|          Goodyear|[8:0-17:0, 8:0-17...|      1|33.4556129678|-112.3955963552|Farmers Insurance...|      85338|           3|  5.0|   AZ|\n",
      "|4209 Stuart Andre...|[,,,,,,,, False, ...|HhyxOkGAM07SRYtlQ...|Plumbing, Shoppin...|         Charlotte|[7:0-23:0, 7:0-23...|      1|   35.1900119|    -80.8872232| Queen City Plumbing|      28217|           4|  4.0|   NC|\n",
      "|Credit Valley Tow...|[,,,,,,,,,, {'gar...|68dUKd8_8liJ7in4a...|Shipping Centers,...|       Mississauga|[9:0-19:0, 9:0-19...|      1|   43.5994753|    -79.7115835|       The UPS Store|    L5V 0B1|           3|  2.5|   ON|\n",
      "|20 Douglas Woods ...|[,,,,,,,,,, {'gar...|5JucpCfHZltJh5r1J...|Beauty & Spas, Ha...|           Calgary|                null|      1|   50.9436456|   -114.0018283|    Edgeworxx Studio|    T2Z 1K4|           7|  3.5|   AB|\n",
      "|4545 E Tropicana ...|[,,,,,,, False,, ...|gbQN7vr_caG_A1ugS...|Hair Salons, Hair...|         Las Vegas|[10:0-19:0, 10:0-...|      1|    36.099872|    -115.074574|           Supercuts|      89121|           3|  3.5|   NV|\n",
      "|5940 W Union Hill...|[,,,,,,, False,, ...|Y6iyemLX_oylRpnr3...|Nail Salons, Beau...|          Glendale|[10:0-17:0,, 10:0...|      0|   33.6548146|   -112.1885676|Vita Bella Fine D...|      85308|           8|  5.0|   AZ|\n",
      "|     21689 Lorain Rd|[False,,,,,,,,, T...|4GBVPIYRvzGh4K4Tk...|Beauty & Spas, Na...|     Fairview Park|[9:0-19:0,, 9:0-1...|      1|41.4408252653| -81.8540965503| Options Salon & Spa|      44126|           8|  4.5|   OH|\n",
      "|1210 8th Street S...|[,,,,,,, False,,,...|fcXOEZdXYeZqnQ3lG...|Local Services, P...|           Calgary|[9:0-17:0, 9:0-17...|      1|    51.041771|    -114.081109|Nucleus Informati...|    T2R 1L3|           5|  2.0|   AB|\n",
      "|2450 E Indian Sch...|[,, u'none', {'ro...|1Dfx3zM-rW4n-31Ke...|Restaurants, Brea...|           Phoenix|[7:0-1:0, 7:0-0:0...|      1|   33.4951941|   -112.0285876|           Taco Bell|      85016|          18|  3.0|   AZ|\n",
      "|119 Landings Dr, ...|[,, 'beer_and_win...|5t3KVdMnFgAYmSl1w...|Bars, Nightlife, ...|       Mooresville|[10:0-1:0, 10:0-1...|      1|35.5274098057| -80.8680032061|The Kilted Buffal...|      28117|           9|  3.5|   NC|\n",
      "|     5981 Andrews Rd|[,, u'none', None...|fweCYi8FmbJXHCqLn...|Italian, Restaura...|Mentor-on-the-Lake|[10:0-1:0, 10:0-0...|      1|     41.70852|     -81.359556|       Marco's Pizza|      44060|          16|  4.0|   OH|\n",
      "|        4145 Erie St|[,,,,,,,,, True, ...|-K4gAv8_vjx8-2Bxk...|      Bakeries, Food|        Willoughby|[11:0-17:0,, 10:0...|      1|   41.6398599|    -81.4063963|          Baby Cakes|      44094|           7|  3.0|   OH|\n",
      "|    1455 16th Avenue|[,,,,,,, True,,, ...|A98xW4qb7vOTguggH...|Fitness & Instruc...|     Richmond Hill|[16:0-21:30, 16:0...|      1| 43.861502576| -79.3884991854|   Hot Yoga Wellness|    L4B 3G6|           4|  4.0|   ON|\n",
      "|4848 E Cactus Rd,...|[,,,,,,,,, True, ...|giC3pVVFxCRR89rAp...|Hair Stylists, Be...|        Scottsdale|[8:0-17:0, 0:0-0:...|      1|    33.600071|    -111.977371|          Knot Salon|      85254|           5|  5.0|   AZ|\n",
      "|1775 E Tropicana ...|[,, u'full_bar', ...|PZ-LZzSlhSe9utkQY...|Restaurants, Italian|         Las Vegas|                null|      0|   36.1000163|   -115.1285285|Carluccio's Tivol...|      89119|          40|  4.0|   NV|\n",
      "|                    |[,,,,,,,,, True,,...|nh_kQ16QAoXWwqZ05...|Event Planning & ...|         Las Vegas|[0:0-0:0, 0:0-0:0...|      1|   36.1165487|   -115.0881146|Myron Hensel Phot...|      89121|          21|  5.0|   NV|\n",
      "|445 King Street W...|[True,,,,,,,,,,, ...|zSpQmEBvRe3IhTUlM...|Trainers, Health ...|           Toronto|[6:0-22:0, 6:0-22...|      1|   43.6450415|    -79.3957986|  Totum Life Science|    M5V 1K4|          23|  4.0|   ON|\n",
      "+--------------------+--------------------+--------------------+--------------------+------------------+--------------------+-------+-------------+---------------+--------------------+-----------+------------+-----+-----+\n",
      "only showing top 20 rows\n",
      "\n"
     ]
    }
   ],
   "source": [
    "data.show()"
   ]
  },
  {
   "cell_type": "markdown",
   "metadata": {
    "colab_type": "text",
    "id": "zes2BPQ_xqm9"
   },
   "source": [
    "## Clustering"
   ]
  },
  {
   "cell_type": "code",
   "execution_count": 11,
   "metadata": {
    "colab": {
     "base_uri": "https://localhost:8080/",
     "height": 479
    },
    "colab_type": "code",
    "id": "3WSjQwWLJ-f9",
    "outputId": "e1c4c3b1-ce98-49ba-d452-8681bc415b96"
   },
   "outputs": [
    {
     "name": "stdout",
     "output_type": "stream",
     "text": [
      "+--------------------+--------------------+--------------------+--------------------+------------------+--------------------+-------+-------------+---------------+--------------------+-----------+------------+-----+-----+--------------------+\n",
      "|             address|          attributes|         business_id|          categories|              city|               hours|is_open|     latitude|      longitude|                name|postal_code|review_count|stars|state|            features|\n",
      "+--------------------+--------------------+--------------------+--------------------+------------------+--------------------+-------+-------------+---------------+--------------------+-----------+------------+-----+-----+--------------------+\n",
      "|2818 E Camino Ace...|[,,,,,,,,,,,,,,,,...|1SWheh84yJXfytovI...|   Golf, Active Life|           Phoenix|                null|      0|   33.5221425|   -112.0184807|Arizona Biltmore ...|      85016|           5|  3.0|   AZ|[33.5221425,-112....|\n",
      "|30 Eglinton Avenue W|[,, u'full_bar', ...|QXAEGFB4oINsVuTFx...|Specialty Food, R...|       Mississauga|[9:0-1:0, 9:0-0:0...|      1|43.6054989743|  -79.652288909|Emerald Chinese R...|    L5R 3E7|         128|  2.5|   ON|[43.6054989743,-7...|\n",
      "|10110 Johnston Rd...|[,, u'beer_and_wi...|gnKjwL_1w79qoiV3I...|Sushi Bars, Resta...|         Charlotte|[17:30-22:0, 17:3...|      1|    35.092564|     -80.859132|Musashi Japanese ...|      28210|         170|  4.0|   NC|[35.092564,-80.85...|\n",
      "|15655 W Roosevelt...|                null|xvX2CttrVhyG2z1dF...|Insurance, Financ...|          Goodyear|[8:0-17:0, 8:0-17...|      1|33.4556129678|-112.3955963552|Farmers Insurance...|      85338|           3|  5.0|   AZ|[33.4556129678,-1...|\n",
      "|4209 Stuart Andre...|[,,,,,,,, False, ...|HhyxOkGAM07SRYtlQ...|Plumbing, Shoppin...|         Charlotte|[7:0-23:0, 7:0-23...|      1|   35.1900119|    -80.8872232| Queen City Plumbing|      28217|           4|  4.0|   NC|[35.1900119,-80.8...|\n",
      "|Credit Valley Tow...|[,,,,,,,,,, {'gar...|68dUKd8_8liJ7in4a...|Shipping Centers,...|       Mississauga|[9:0-19:0, 9:0-19...|      1|   43.5994753|    -79.7115835|       The UPS Store|    L5V 0B1|           3|  2.5|   ON|[43.5994753,-79.7...|\n",
      "|20 Douglas Woods ...|[,,,,,,,,,, {'gar...|5JucpCfHZltJh5r1J...|Beauty & Spas, Ha...|           Calgary|                null|      1|   50.9436456|   -114.0018283|    Edgeworxx Studio|    T2Z 1K4|           7|  3.5|   AB|[50.9436456,-114....|\n",
      "|4545 E Tropicana ...|[,,,,,,, False,, ...|gbQN7vr_caG_A1ugS...|Hair Salons, Hair...|         Las Vegas|[10:0-19:0, 10:0-...|      1|    36.099872|    -115.074574|           Supercuts|      89121|           3|  3.5|   NV|[36.099872,-115.0...|\n",
      "|5940 W Union Hill...|[,,,,,,, False,, ...|Y6iyemLX_oylRpnr3...|Nail Salons, Beau...|          Glendale|[10:0-17:0,, 10:0...|      0|   33.6548146|   -112.1885676|Vita Bella Fine D...|      85308|           8|  5.0|   AZ|[33.6548146,-112....|\n",
      "|     21689 Lorain Rd|[False,,,,,,,,, T...|4GBVPIYRvzGh4K4Tk...|Beauty & Spas, Na...|     Fairview Park|[9:0-19:0,, 9:0-1...|      1|41.4408252653| -81.8540965503| Options Salon & Spa|      44126|           8|  4.5|   OH|[41.4408252653,-8...|\n",
      "|1210 8th Street S...|[,,,,,,, False,,,...|fcXOEZdXYeZqnQ3lG...|Local Services, P...|           Calgary|[9:0-17:0, 9:0-17...|      1|    51.041771|    -114.081109|Nucleus Informati...|    T2R 1L3|           5|  2.0|   AB|[51.041771,-114.0...|\n",
      "|2450 E Indian Sch...|[,, u'none', {'ro...|1Dfx3zM-rW4n-31Ke...|Restaurants, Brea...|           Phoenix|[7:0-1:0, 7:0-0:0...|      1|   33.4951941|   -112.0285876|           Taco Bell|      85016|          18|  3.0|   AZ|[33.4951941,-112....|\n",
      "|119 Landings Dr, ...|[,, 'beer_and_win...|5t3KVdMnFgAYmSl1w...|Bars, Nightlife, ...|       Mooresville|[10:0-1:0, 10:0-1...|      1|35.5274098057| -80.8680032061|The Kilted Buffal...|      28117|           9|  3.5|   NC|[35.5274098057,-8...|\n",
      "|     5981 Andrews Rd|[,, u'none', None...|fweCYi8FmbJXHCqLn...|Italian, Restaura...|Mentor-on-the-Lake|[10:0-1:0, 10:0-0...|      1|     41.70852|     -81.359556|       Marco's Pizza|      44060|          16|  4.0|   OH|[41.70852,-81.359...|\n",
      "|        4145 Erie St|[,,,,,,,,, True, ...|-K4gAv8_vjx8-2Bxk...|      Bakeries, Food|        Willoughby|[11:0-17:0,, 10:0...|      1|   41.6398599|    -81.4063963|          Baby Cakes|      44094|           7|  3.0|   OH|[41.6398599,-81.4...|\n",
      "|    1455 16th Avenue|[,,,,,,, True,,, ...|A98xW4qb7vOTguggH...|Fitness & Instruc...|     Richmond Hill|[16:0-21:30, 16:0...|      1| 43.861502576| -79.3884991854|   Hot Yoga Wellness|    L4B 3G6|           4|  4.0|   ON|[43.861502576,-79...|\n",
      "|4848 E Cactus Rd,...|[,,,,,,,,, True, ...|giC3pVVFxCRR89rAp...|Hair Stylists, Be...|        Scottsdale|[8:0-17:0, 0:0-0:...|      1|    33.600071|    -111.977371|          Knot Salon|      85254|           5|  5.0|   AZ|[33.600071,-111.9...|\n",
      "|1775 E Tropicana ...|[,, u'full_bar', ...|PZ-LZzSlhSe9utkQY...|Restaurants, Italian|         Las Vegas|                null|      0|   36.1000163|   -115.1285285|Carluccio's Tivol...|      89119|          40|  4.0|   NV|[36.1000163,-115....|\n",
      "|                    |[,,,,,,,,, True,,...|nh_kQ16QAoXWwqZ05...|Event Planning & ...|         Las Vegas|[0:0-0:0, 0:0-0:0...|      1|   36.1165487|   -115.0881146|Myron Hensel Phot...|      89121|          21|  5.0|   NV|[36.1165487,-115....|\n",
      "|445 King Street W...|[True,,,,,,,,,,, ...|zSpQmEBvRe3IhTUlM...|Trainers, Health ...|           Toronto|[6:0-22:0, 6:0-22...|      1|   43.6450415|    -79.3957986|  Totum Life Science|    M5V 1K4|          23|  4.0|   ON|[43.6450415,-79.3...|\n",
      "+--------------------+--------------------+--------------------+--------------------+------------------+--------------------+-------+-------------+---------------+--------------------+-----------+------------+-----+-----+--------------------+\n",
      "only showing top 20 rows\n",
      "\n"
     ]
    }
   ],
   "source": [
    "from pyspark.ml.feature import VectorAssembler\n",
    "\n",
    "inputCols = ['latitude', 'longitude']\n",
    "assembler = VectorAssembler(inputCols=inputCols, outputCol='features')\n",
    "data = assembler.transform(data)\n",
    "data.show()"
   ]
  },
  {
   "cell_type": "code",
   "execution_count": 0,
   "metadata": {
    "colab": {},
    "colab_type": "code",
    "id": "BByT91HNHiku"
   },
   "outputs": [],
   "source": [
    "from pyspark.ml.clustering import KMeans\n",
    "\n",
    "kmeans = KMeans().setK(5)\n",
    "model = kmeans.fit(data)"
   ]
  },
  {
   "cell_type": "code",
   "execution_count": 23,
   "metadata": {
    "colab": {
     "base_uri": "https://localhost:8080/",
     "height": 479
    },
    "colab_type": "code",
    "id": "3VEhP8dNHq0J",
    "outputId": "530d4ef7-854f-4433-9301-2835f866e810"
   },
   "outputs": [
    {
     "name": "stdout",
     "output_type": "stream",
     "text": [
      "+--------------------+--------------------+--------------------+--------------------+------------------+--------------------+-------+-------------+---------------+--------------------+-----------+------------+-----+-----+--------------------+----------+\n",
      "|             address|          attributes|         business_id|          categories|              city|               hours|is_open|     latitude|      longitude|                name|postal_code|review_count|stars|state|            features|prediction|\n",
      "+--------------------+--------------------+--------------------+--------------------+------------------+--------------------+-------+-------------+---------------+--------------------+-----------+------------+-----+-----+--------------------+----------+\n",
      "|2818 E Camino Ace...|[,,,,,,,,,,,,,,,,...|1SWheh84yJXfytovI...|   Golf, Active Life|           Phoenix|                null|      0|   33.5221425|   -112.0184807|Arizona Biltmore ...|      85016|           5|  3.0|   AZ|[33.5221425,-112....|         3|\n",
      "|30 Eglinton Avenue W|[,, u'full_bar', ...|QXAEGFB4oINsVuTFx...|Specialty Food, R...|       Mississauga|[9:0-1:0, 9:0-0:0...|      1|43.6054989743|  -79.652288909|Emerald Chinese R...|    L5R 3E7|         128|  2.5|   ON|[43.6054989743,-7...|         1|\n",
      "|10110 Johnston Rd...|[,, u'beer_and_wi...|gnKjwL_1w79qoiV3I...|Sushi Bars, Resta...|         Charlotte|[17:30-22:0, 17:3...|      1|    35.092564|     -80.859132|Musashi Japanese ...|      28210|         170|  4.0|   NC|[35.092564,-80.85...|         1|\n",
      "|15655 W Roosevelt...|                null|xvX2CttrVhyG2z1dF...|Insurance, Financ...|          Goodyear|[8:0-17:0, 8:0-17...|      1|33.4556129678|-112.3955963552|Farmers Insurance...|      85338|           3|  5.0|   AZ|[33.4556129678,-1...|         3|\n",
      "|4209 Stuart Andre...|[,,,,,,,, False, ...|HhyxOkGAM07SRYtlQ...|Plumbing, Shoppin...|         Charlotte|[7:0-23:0, 7:0-23...|      1|   35.1900119|    -80.8872232| Queen City Plumbing|      28217|           4|  4.0|   NC|[35.1900119,-80.8...|         1|\n",
      "|Credit Valley Tow...|[,,,,,,,,,, {'gar...|68dUKd8_8liJ7in4a...|Shipping Centers,...|       Mississauga|[9:0-19:0, 9:0-19...|      1|   43.5994753|    -79.7115835|       The UPS Store|    L5V 0B1|           3|  2.5|   ON|[43.5994753,-79.7...|         1|\n",
      "|20 Douglas Woods ...|[,,,,,,,,,, {'gar...|5JucpCfHZltJh5r1J...|Beauty & Spas, Ha...|           Calgary|                null|      1|   50.9436456|   -114.0018283|    Edgeworxx Studio|    T2Z 1K4|           7|  3.5|   AB|[50.9436456,-114....|         2|\n",
      "|4545 E Tropicana ...|[,,,,,,, False,, ...|gbQN7vr_caG_A1ugS...|Hair Salons, Hair...|         Las Vegas|[10:0-19:0, 10:0-...|      1|    36.099872|    -115.074574|           Supercuts|      89121|           3|  3.5|   NV|[36.099872,-115.0...|         0|\n",
      "|5940 W Union Hill...|[,,,,,,, False,, ...|Y6iyemLX_oylRpnr3...|Nail Salons, Beau...|          Glendale|[10:0-17:0,, 10:0...|      0|   33.6548146|   -112.1885676|Vita Bella Fine D...|      85308|           8|  5.0|   AZ|[33.6548146,-112....|         3|\n",
      "|     21689 Lorain Rd|[False,,,,,,,,, T...|4GBVPIYRvzGh4K4Tk...|Beauty & Spas, Na...|     Fairview Park|[9:0-19:0,, 9:0-1...|      1|41.4408252653| -81.8540965503| Options Salon & Spa|      44126|           8|  4.5|   OH|[41.4408252653,-8...|         1|\n",
      "|1210 8th Street S...|[,,,,,,, False,,,...|fcXOEZdXYeZqnQ3lG...|Local Services, P...|           Calgary|[9:0-17:0, 9:0-17...|      1|    51.041771|    -114.081109|Nucleus Informati...|    T2R 1L3|           5|  2.0|   AB|[51.041771,-114.0...|         2|\n",
      "|2450 E Indian Sch...|[,, u'none', {'ro...|1Dfx3zM-rW4n-31Ke...|Restaurants, Brea...|           Phoenix|[7:0-1:0, 7:0-0:0...|      1|   33.4951941|   -112.0285876|           Taco Bell|      85016|          18|  3.0|   AZ|[33.4951941,-112....|         3|\n",
      "|119 Landings Dr, ...|[,, 'beer_and_win...|5t3KVdMnFgAYmSl1w...|Bars, Nightlife, ...|       Mooresville|[10:0-1:0, 10:0-1...|      1|35.5274098057| -80.8680032061|The Kilted Buffal...|      28117|           9|  3.5|   NC|[35.5274098057,-8...|         1|\n",
      "|     5981 Andrews Rd|[,, u'none', None...|fweCYi8FmbJXHCqLn...|Italian, Restaura...|Mentor-on-the-Lake|[10:0-1:0, 10:0-0...|      1|     41.70852|     -81.359556|       Marco's Pizza|      44060|          16|  4.0|   OH|[41.70852,-81.359...|         1|\n",
      "|        4145 Erie St|[,,,,,,,,, True, ...|-K4gAv8_vjx8-2Bxk...|      Bakeries, Food|        Willoughby|[11:0-17:0,, 10:0...|      1|   41.6398599|    -81.4063963|          Baby Cakes|      44094|           7|  3.0|   OH|[41.6398599,-81.4...|         1|\n",
      "|    1455 16th Avenue|[,,,,,,, True,,, ...|A98xW4qb7vOTguggH...|Fitness & Instruc...|     Richmond Hill|[16:0-21:30, 16:0...|      1| 43.861502576| -79.3884991854|   Hot Yoga Wellness|    L4B 3G6|           4|  4.0|   ON|[43.861502576,-79...|         1|\n",
      "|4848 E Cactus Rd,...|[,,,,,,,,, True, ...|giC3pVVFxCRR89rAp...|Hair Stylists, Be...|        Scottsdale|[8:0-17:0, 0:0-0:...|      1|    33.600071|    -111.977371|          Knot Salon|      85254|           5|  5.0|   AZ|[33.600071,-111.9...|         3|\n",
      "|1775 E Tropicana ...|[,, u'full_bar', ...|PZ-LZzSlhSe9utkQY...|Restaurants, Italian|         Las Vegas|                null|      0|   36.1000163|   -115.1285285|Carluccio's Tivol...|      89119|          40|  4.0|   NV|[36.1000163,-115....|         0|\n",
      "|                    |[,,,,,,,,, True,,...|nh_kQ16QAoXWwqZ05...|Event Planning & ...|         Las Vegas|[0:0-0:0, 0:0-0:0...|      1|   36.1165487|   -115.0881146|Myron Hensel Phot...|      89121|          21|  5.0|   NV|[36.1165487,-115....|         0|\n",
      "|445 King Street W...|[True,,,,,,,,,,, ...|zSpQmEBvRe3IhTUlM...|Trainers, Health ...|           Toronto|[6:0-22:0, 6:0-22...|      1|   43.6450415|    -79.3957986|  Totum Life Science|    M5V 1K4|          23|  4.0|   ON|[43.6450415,-79.3...|         1|\n",
      "+--------------------+--------------------+--------------------+--------------------+------------------+--------------------+-------+-------------+---------------+--------------------+-----------+------------+-----+-----+--------------------+----------+\n",
      "only showing top 20 rows\n",
      "\n"
     ]
    }
   ],
   "source": [
    "predictions = model.transform(data)\n",
    "predictions.show()"
   ]
  },
  {
   "cell_type": "code",
   "execution_count": 24,
   "metadata": {
    "colab": {
     "base_uri": "https://localhost:8080/",
     "height": 119
    },
    "colab_type": "code",
    "id": "8lLHQm3-hNJu",
    "outputId": "6b421a7c-441f-4c90-d743-137056614c69"
   },
   "outputs": [
    {
     "name": "stdout",
     "output_type": "stream",
     "text": [
      "Cluster centers:\n"
     ]
    },
    {
     "data": {
      "text/plain": [
       "[array([  36.12133082, -115.17347037]),\n",
       " array([ 41.090061  , -81.00356021]),\n",
       " array([  51.04583995, -114.06720027]),\n",
       " array([  33.49261582, -111.99361954]),\n",
       " array([ 45.51148955, -73.61556547])]"
      ]
     },
     "execution_count": 24,
     "metadata": {
      "tags": []
     },
     "output_type": "execute_result"
    }
   ],
   "source": [
    "print('Cluster centers:')\n",
    "model.clusterCenters()"
   ]
  },
  {
   "cell_type": "code",
   "execution_count": 25,
   "metadata": {
    "colab": {
     "base_uri": "https://localhost:8080/",
     "height": 34
    },
    "colab_type": "code",
    "id": "F8q9S3LwhPb5",
    "outputId": "5d2a6f70-db6e-4530-fefa-74b8ff77490c"
   },
   "outputs": [
    {
     "name": "stdout",
     "output_type": "stream",
     "text": [
      "Silhouette: 0.8039822886473685\n"
     ]
    }
   ],
   "source": [
    "from pyspark.ml.evaluation import ClusteringEvaluator\n",
    "\n",
    "evaluator = ClusteringEvaluator()\n",
    "silhouette = evaluator.evaluate(predictions)\n",
    "print(\"Silhouette:\", silhouette)"
   ]
  },
  {
   "cell_type": "markdown",
   "metadata": {
    "colab_type": "text",
    "id": "orxk2V49IYrf"
   },
   "source": [
    "## Visualization"
   ]
  },
  {
   "cell_type": "code",
   "execution_count": 21,
   "metadata": {
    "colab": {
     "base_uri": "https://localhost:8080/",
     "height": 499
    },
    "colab_type": "code",
    "id": "Zvm154w6Ic1a",
    "outputId": "6ab557bd-8570-4cc7-e739-f05bd4fdf268"
   },
   "outputs": [
    {
     "name": "stdout",
     "output_type": "stream",
     "text": [
      "Pixiedust database opened successfully\n",
      "Table VERSION_TRACKER created successfully\n",
      "Table METRICS_TRACKER created successfully\n",
      "\n",
      "Share anonymous install statistics? (opt-out instructions)\n",
      "\n",
      "PixieDust will record metadata on its environment the next time the package is installed or updated. The data is anonymized and aggregated to help plan for future releases, and records only the following values:\n",
      "\n",
      "{\n",
      "   \"data_sent\": currentDate,\n",
      "   \"runtime\": \"python\",\n",
      "   \"application_version\": currentPixiedustVersion,\n",
      "   \"space_id\": nonIdentifyingUniqueId,\n",
      "   \"config\": {\n",
      "       \"repository_id\": \"https://github.com/ibm-watson-data-lab/pixiedust\",\n",
      "       \"target_runtimes\": [\"Data Science Experience\"],\n",
      "       \"event_id\": \"web\",\n",
      "       \"event_organizer\": \"dev-journeys\"\n",
      "   }\n",
      "}\n",
      "You can opt out by calling pixiedust.optOut() in a new cell.\n"
     ]
    },
    {
     "data": {
      "text/html": [
       "\n",
       "        <div style=\"margin:10px\">\n",
       "            <a href=\"https://github.com/ibm-watson-data-lab/pixiedust\" target=\"_new\">\n",
       "                <img src=\"https://github.com/ibm-watson-data-lab/pixiedust/raw/master/docs/_static/pd_icon32.png\" style=\"float:left;margin-right:10px\"/>\n",
       "            </a>\n",
       "            <span>Pixiedust version 1.1.15</span>\n",
       "        </div>\n",
       "        "
      ],
      "text/plain": [
       "<IPython.core.display.HTML object>"
      ]
     },
     "metadata": {
      "tags": []
     },
     "output_type": "display_data"
    },
    {
     "name": "stdout",
     "output_type": "stream",
     "text": [
      "\u001b[31mPixiedust runtime updated. Please restart kernel\u001b[0m\n",
      "Table SPARK_PACKAGES created successfully\n",
      "Table USER_PREFERENCES created successfully\n",
      "Table service_connections created successfully\n"
     ]
    }
   ],
   "source": [
    "import pixiedust"
   ]
  },
  {
   "cell_type": "code",
   "execution_count": 0,
   "metadata": {
    "colab": {},
    "colab_type": "code",
    "id": "4YNJjxLCIfDr"
   },
   "outputs": [],
   "source": [
    "display(predictions)"
   ]
  },
  {
   "cell_type": "markdown",
   "metadata": {},
   "source": [
    "![plot](imgs/plot.png)\n",
    "\n",
    "> Note: Map view saya freeze ketika men-load datanya dan tidak menampilkan titik-titiknya sehingga saya plot menggunakan scatter plot"
   ]
  }
 ],
 "metadata": {
  "colab": {
   "collapsed_sections": [],
   "name": "big-data-clustering.ipynb",
   "provenance": [],
   "toc_visible": true,
   "version": "0.3.2"
  },
  "kernelspec": {
   "display_name": "Python 3",
   "language": "python",
   "name": "python3"
  },
  "language_info": {
   "codemirror_mode": {
    "name": "ipython",
    "version": 3
   },
   "file_extension": ".py",
   "mimetype": "text/x-python",
   "name": "python",
   "nbconvert_exporter": "python",
   "pygments_lexer": "ipython3",
   "version": "3.7.1"
  }
 },
 "nbformat": 4,
 "nbformat_minor": 1
}
