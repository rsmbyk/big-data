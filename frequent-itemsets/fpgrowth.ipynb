{
  "nbformat": 4,
  "nbformat_minor": 0,
  "metadata": {
    "colab": {
      "name": "big-data-frequent-itemsets.ipynb",
      "version": "0.3.2",
      "provenance": [],
      "collapsed_sections": []
    },
    "kernelspec": {
      "name": "python3",
      "display_name": "Python 3"
    }
  },
  "cells": [
    {
      "metadata": {
        "id": "CyzokjS3AfXJ",
        "colab_type": "text"
      },
      "cell_type": "markdown",
      "source": [
        "## Prerequisites for unix"
      ]
    },
    {
      "metadata": {
        "id": "gskeKXO1UgbG",
        "colab_type": "code",
        "outputId": "59041757-0bfc-4080-f54e-c70e0858997c",
        "colab": {
          "base_uri": "https://localhost:8080/",
          "height": 595
        }
      },
      "cell_type": "code",
      "source": [
        "!apt-get -y install openjdk-8-jdk-headless\n",
        "!wget http://apache.osuosl.org/spark/spark-2.4.1/spark-2.4.1-bin-hadoop2.7.tgz\n",
        "!tar xf spark-2.4.1-bin-hadoop2.7.tgz\n",
        "!pip install findspark kaggle"
      ],
      "execution_count": 1,
      "outputs": [
        {
          "output_type": "stream",
          "text": [
            "Reading package lists... Done\n",
            "Building dependency tree       \n",
            "Reading state information... Done\n",
            "openjdk-8-jdk-headless is already the newest version (8u191-b12-2ubuntu0.18.04.1).\n",
            "The following package was automatically installed and is no longer required:\n",
            "  libnvidia-common-410\n",
            "Use 'apt autoremove' to remove it.\n",
            "0 upgraded, 0 newly installed, 0 to remove and 6 not upgraded.\n",
            "--2019-04-10 16:20:57--  http://apache.osuosl.org/spark/spark-2.4.1/spark-2.4.1-bin-hadoop2.7.tgz\n",
            "Resolving apache.osuosl.org (apache.osuosl.org)... 64.50.236.52, 64.50.233.100, 140.211.166.134, ...\n",
            "Connecting to apache.osuosl.org (apache.osuosl.org)|64.50.236.52|:80... connected.\n",
            "HTTP request sent, awaiting response... 200 OK\n",
            "Length: 230778742 (220M) [application/x-gzip]\n",
            "Saving to: ‘spark-2.4.1-bin-hadoop2.7.tgz’\n",
            "\n",
            "spark-2.4.1-bin-had 100%[===================>] 220.09M  50.2MB/s    in 5.0s    \n",
            "\n",
            "2019-04-10 16:21:07 (44.1 MB/s) - ‘spark-2.4.1-bin-hadoop2.7.tgz’ saved [230778742/230778742]\n",
            "\n",
            "Collecting findspark\n",
            "  Downloading https://files.pythonhosted.org/packages/b1/c8/e6e1f6a303ae5122dc28d131b5a67c5eb87cbf8f7ac5b9f87764ea1b1e1e/findspark-1.3.0-py2.py3-none-any.whl\n",
            "Requirement already satisfied: kaggle in /usr/local/lib/python3.6/dist-packages (1.5.3)\n",
            "Requirement already satisfied: urllib3<1.25,>=1.21.1 in /usr/local/lib/python3.6/dist-packages (from kaggle) (1.22)\n",
            "Requirement already satisfied: six>=1.10 in /usr/local/lib/python3.6/dist-packages (from kaggle) (1.11.0)\n",
            "Requirement already satisfied: certifi in /usr/local/lib/python3.6/dist-packages (from kaggle) (2019.3.9)\n",
            "Requirement already satisfied: python-dateutil in /usr/local/lib/python3.6/dist-packages (from kaggle) (2.5.3)\n",
            "Requirement already satisfied: requests in /usr/local/lib/python3.6/dist-packages (from kaggle) (2.18.4)\n",
            "Requirement already satisfied: tqdm in /usr/local/lib/python3.6/dist-packages (from kaggle) (4.28.1)\n",
            "Requirement already satisfied: python-slugify in /usr/local/lib/python3.6/dist-packages (from kaggle) (3.0.2)\n",
            "Requirement already satisfied: chardet<3.1.0,>=3.0.2 in /usr/local/lib/python3.6/dist-packages (from requests->kaggle) (3.0.4)\n",
            "Requirement already satisfied: idna<2.7,>=2.5 in /usr/local/lib/python3.6/dist-packages (from requests->kaggle) (2.6)\n",
            "Requirement already satisfied: text-unidecode==1.2 in /usr/local/lib/python3.6/dist-packages (from python-slugify->kaggle) (1.2)\n",
            "Installing collected packages: findspark\n",
            "Successfully installed findspark-1.3.0\n"
          ],
          "name": "stdout"
        }
      ]
    },
    {
      "metadata": {
        "id": "rFiQ4zH5VCU1",
        "colab_type": "code",
        "outputId": "2e3bf5c7-51fb-4109-a078-6cc4760d69f7",
        "colab": {
          "base_uri": "https://localhost:8080/",
          "height": 85
        }
      },
      "cell_type": "code",
      "source": [
        "import os\n",
        "\n",
        "# setup environment variables\n",
        "os.environ[\"JAVA_HOME\"] = '/usr/lib/jvm/java-8-openjdk-amd64'\n",
        "os.environ[\"SPARK_HOME\"] = '/content/spark-2.4.1-bin-hadoop2.7'\n",
        "os.environ['KAGGLE_USERNAME'] = 'ronaldsumbayak'\n",
        "os.environ['KAGGLE_KEY'] = '771009dffffa0cd0883d5fb98594d756'\n",
        "\n",
        "# verify\n",
        "print(os.environ['JAVA_HOME'])\n",
        "print(os.environ['SPARK_HOME'])\n",
        "print(os.environ['KAGGLE_USERNAME'])\n",
        "print(os.environ['KAGGLE_KEY'])"
      ],
      "execution_count": 2,
      "outputs": [
        {
          "output_type": "stream",
          "text": [
            "/usr/lib/jvm/java-8-openjdk-amd64\n",
            "/content/spark-2.4.1-bin-hadoop2.7\n",
            "ronaldsumbayak\n",
            "771009dffffa0cd0883d5fb98594d756\n"
          ],
          "name": "stdout"
        }
      ]
    },
    {
      "metadata": {
        "id": "GerwSNTAAsYb",
        "colab_type": "text"
      },
      "cell_type": "markdown",
      "source": [
        "## Data Preparation"
      ]
    },
    {
      "metadata": {
        "id": "QRfDV_jQUxjr",
        "colab_type": "code",
        "outputId": "412c2812-8b82-40cf-cd41-9c135174aa63",
        "colab": {
          "base_uri": "https://localhost:8080/",
          "height": 238
        }
      },
      "cell_type": "code",
      "source": [
        "!kaggle datasets download -d olistbr/brazilian-ecommerce\n",
        "!unzip brazilian-ecommerce.zip -d data"
      ],
      "execution_count": 3,
      "outputs": [
        {
          "output_type": "stream",
          "text": [
            "Downloading brazilian-ecommerce.zip to /content\n",
            " 64% 27.0M/42.4M [00:00<00:00, 143MB/s]\n",
            "100% 42.4M/42.4M [00:00<00:00, 142MB/s]\n",
            "Archive:  brazilian-ecommerce.zip\n",
            "  inflating: data/olist_customers_dataset.csv  \n",
            "  inflating: data/olist_sellers_dataset.csv  \n",
            "  inflating: data/olist_order_reviews_dataset.csv  \n",
            "  inflating: data/olist_order_payments_dataset.csv  \n",
            "  inflating: data/product_category_name_translation.csv  \n",
            "  inflating: data/olist_products_dataset.csv  \n",
            "  inflating: data/olist_order_items_dataset.csv  \n",
            "  inflating: data/olist_orders_dataset.csv  \n",
            "  inflating: data/olist_geolocation_dataset.csv  \n"
          ],
          "name": "stdout"
        }
      ]
    },
    {
      "metadata": {
        "id": "q18lqihgAu2E",
        "colab_type": "text"
      },
      "cell_type": "markdown",
      "source": [
        "## Spark Setup"
      ]
    },
    {
      "metadata": {
        "id": "ULvVPzKYVJt-",
        "colab_type": "code",
        "colab": {}
      },
      "cell_type": "code",
      "source": [
        "import findspark\n",
        "findspark.init()"
      ],
      "execution_count": 0,
      "outputs": []
    },
    {
      "metadata": {
        "id": "xJ93WptjVgOV",
        "colab_type": "code",
        "colab": {}
      },
      "cell_type": "code",
      "source": [
        "from pyspark.sql import SparkSession\n",
        "spark = SparkSession.builder.master('local[*]').getOrCreate()"
      ],
      "execution_count": 0,
      "outputs": []
    },
    {
      "metadata": {
        "id": "KzskusZXA6YK",
        "colab_type": "text"
      },
      "cell_type": "markdown",
      "source": [
        "## Loading Data"
      ]
    },
    {
      "metadata": {
        "id": "cbKUDwViV6Q2",
        "colab_type": "code",
        "colab": {}
      },
      "cell_type": "code",
      "source": [
        "orders = spark.read.csv('data/olist_orders_dataset.csv', header=True)\n",
        "order_items = spark.read.csv('data/olist_order_items_dataset.csv', header=True)\n",
        "products = spark.read.csv('data/olist_products_dataset.csv', header=True)"
      ],
      "execution_count": 0,
      "outputs": []
    },
    {
      "metadata": {
        "id": "Zug5y6ssWkgP",
        "colab_type": "code",
        "outputId": "c251f628-6802-476c-d0c2-820eed56e8c2",
        "colab": {
          "base_uri": "https://localhost:8080/",
          "height": 68
        }
      },
      "cell_type": "code",
      "source": [
        "print('Orders      :  {} rows'.format(orders.count()))\n",
        "print('Order Items : {} rows'.format(order_items.count()))\n",
        "print('Products    :  {} rows'.format(products.count()))"
      ],
      "execution_count": 7,
      "outputs": [
        {
          "output_type": "stream",
          "text": [
            "Orders      :  99441 rows\n",
            "Order Items : 112650 rows\n",
            "Products    :  32951 rows\n"
          ],
          "name": "stdout"
        }
      ]
    },
    {
      "metadata": {
        "id": "Fq-mDPkBYY5Z",
        "colab_type": "code",
        "outputId": "a42b7543-4035-4759-df91-2536ce5b9c5a",
        "colab": {
          "base_uri": "https://localhost:8080/",
          "height": 187
        }
      },
      "cell_type": "code",
      "source": [
        "orders.printSchema()"
      ],
      "execution_count": 8,
      "outputs": [
        {
          "output_type": "stream",
          "text": [
            "root\n",
            " |-- order_id: string (nullable = true)\n",
            " |-- customer_id: string (nullable = true)\n",
            " |-- order_status: string (nullable = true)\n",
            " |-- order_purchase_timestamp: string (nullable = true)\n",
            " |-- order_approved_at: string (nullable = true)\n",
            " |-- order_delivered_carrier_date: string (nullable = true)\n",
            " |-- order_delivered_customer_date: string (nullable = true)\n",
            " |-- order_estimated_delivery_date: string (nullable = true)\n",
            "\n"
          ],
          "name": "stdout"
        }
      ]
    },
    {
      "metadata": {
        "id": "fYq4wsbQYben",
        "colab_type": "code",
        "outputId": "d51819ec-67cb-4571-abe0-4ab18fa68d03",
        "colab": {
          "base_uri": "https://localhost:8080/",
          "height": 170
        }
      },
      "cell_type": "code",
      "source": [
        "order_items.printSchema()"
      ],
      "execution_count": 9,
      "outputs": [
        {
          "output_type": "stream",
          "text": [
            "root\n",
            " |-- order_id: string (nullable = true)\n",
            " |-- order_item_id: string (nullable = true)\n",
            " |-- product_id: string (nullable = true)\n",
            " |-- seller_id: string (nullable = true)\n",
            " |-- shipping_limit_date: string (nullable = true)\n",
            " |-- price: string (nullable = true)\n",
            " |-- freight_value: string (nullable = true)\n",
            "\n"
          ],
          "name": "stdout"
        }
      ]
    },
    {
      "metadata": {
        "id": "BDdov7JqYeSa",
        "colab_type": "code",
        "outputId": "ae6bf001-b05e-417c-e86d-bfcf73a0735e",
        "colab": {
          "base_uri": "https://localhost:8080/",
          "height": 204
        }
      },
      "cell_type": "code",
      "source": [
        "products.printSchema()"
      ],
      "execution_count": 10,
      "outputs": [
        {
          "output_type": "stream",
          "text": [
            "root\n",
            " |-- product_id: string (nullable = true)\n",
            " |-- product_category_name: string (nullable = true)\n",
            " |-- product_name_lenght: string (nullable = true)\n",
            " |-- product_description_lenght: string (nullable = true)\n",
            " |-- product_photos_qty: string (nullable = true)\n",
            " |-- product_weight_g: string (nullable = true)\n",
            " |-- product_length_cm: string (nullable = true)\n",
            " |-- product_height_cm: string (nullable = true)\n",
            " |-- product_width_cm: string (nullable = true)\n",
            "\n"
          ],
          "name": "stdout"
        }
      ]
    },
    {
      "metadata": {
        "id": "vDPRHNy__n3h",
        "colab_type": "code",
        "outputId": "7bf00450-4c9f-4a97-99fa-6d1f17883462",
        "colab": {
          "base_uri": "https://localhost:8080/",
          "height": 309
        }
      },
      "cell_type": "code",
      "source": [
        "orders.show(10, truncate=False)"
      ],
      "execution_count": 11,
      "outputs": [
        {
          "output_type": "stream",
          "text": [
            "+--------------------------------+--------------------------------+------------+------------------------+-------------------+----------------------------+-----------------------------+-----------------------------+\n",
            "|order_id                        |customer_id                     |order_status|order_purchase_timestamp|order_approved_at  |order_delivered_carrier_date|order_delivered_customer_date|order_estimated_delivery_date|\n",
            "+--------------------------------+--------------------------------+------------+------------------------+-------------------+----------------------------+-----------------------------+-----------------------------+\n",
            "|e481f51cbdc54678b7cc49136f2d6af7|9ef432eb6251297304e76186b10a928d|delivered   |2017-10-02 10:56:33     |2017-10-02 11:07:15|2017-10-04 19:55:00         |2017-10-10 21:25:13          |2017-10-18 00:00:00          |\n",
            "|53cdb2fc8bc7dce0b6741e2150273451|b0830fb4747a6c6d20dea0b8c802d7ef|delivered   |2018-07-24 20:41:37     |2018-07-26 03:24:27|2018-07-26 14:31:00         |2018-08-07 15:27:45          |2018-08-13 00:00:00          |\n",
            "|47770eb9100c2d0c44946d9cf07ec65d|41ce2a54c0b03bf3443c3d931a367089|delivered   |2018-08-08 08:38:49     |2018-08-08 08:55:23|2018-08-08 13:50:00         |2018-08-17 18:06:29          |2018-09-04 00:00:00          |\n",
            "|949d5b44dbf5de918fe9c16f97b45f8a|f88197465ea7920adcdbec7375364d82|delivered   |2017-11-18 19:28:06     |2017-11-18 19:45:59|2017-11-22 13:39:59         |2017-12-02 00:28:42          |2017-12-15 00:00:00          |\n",
            "|ad21c59c0840e6cb83a9ceb5573f8159|8ab97904e6daea8866dbdbc4fb7aad2c|delivered   |2018-02-13 21:18:39     |2018-02-13 22:20:29|2018-02-14 19:46:34         |2018-02-16 18:17:02          |2018-02-26 00:00:00          |\n",
            "|a4591c265e18cb1dcee52889e2d8acc3|503740e9ca751ccdda7ba28e9ab8f608|delivered   |2017-07-09 21:57:05     |2017-07-09 22:10:13|2017-07-11 14:58:04         |2017-07-26 10:57:55          |2017-08-01 00:00:00          |\n",
            "|136cce7faa42fdb2cefd53fdc79a6098|ed0271e0b7da060a393796590e7b737a|invoiced    |2017-04-11 12:22:08     |2017-04-13 13:25:17|null                        |null                         |2017-05-09 00:00:00          |\n",
            "|6514b8ad8028c9f2cc2374ded245783f|9bdf08b4b3b52b5526ff42d37d47f222|delivered   |2017-05-16 13:10:30     |2017-05-16 13:22:11|2017-05-22 10:07:46         |2017-05-26 12:55:51          |2017-06-07 00:00:00          |\n",
            "|76c6e866289321a7c93b82b54852dc33|f54a9f0e6b351c431402b8461ea51999|delivered   |2017-01-23 18:29:09     |2017-01-25 02:50:47|2017-01-26 14:16:31         |2017-02-02 14:08:10          |2017-03-06 00:00:00          |\n",
            "|e69bfb5eb88e0ed6a785585b27e16dbf|31ad1d1b63eb9962463f764d4e6e0c9d|delivered   |2017-07-29 11:55:02     |2017-07-29 12:05:32|2017-08-10 19:45:24         |2017-08-16 17:14:30          |2017-08-23 00:00:00          |\n",
            "+--------------------------------+--------------------------------+------------+------------------------+-------------------+----------------------------+-----------------------------+-----------------------------+\n",
            "only showing top 10 rows\n",
            "\n"
          ],
          "name": "stdout"
        }
      ]
    },
    {
      "metadata": {
        "id": "Lphehv6mWwLR",
        "colab_type": "code",
        "outputId": "5c8acf17-12c6-4d34-cb32-e46e3c00a2d5",
        "colab": {
          "base_uri": "https://localhost:8080/",
          "height": 289
        }
      },
      "cell_type": "code",
      "source": [
        "order_items.show(10, truncate=False)"
      ],
      "execution_count": 12,
      "outputs": [
        {
          "output_type": "stream",
          "text": [
            "+--------------------------------+-------------+--------------------------------+--------------------------------+-------------------+------+-------------+\n",
            "|order_id                        |order_item_id|product_id                      |seller_id                       |shipping_limit_date|price |freight_value|\n",
            "+--------------------------------+-------------+--------------------------------+--------------------------------+-------------------+------+-------------+\n",
            "|00010242fe8c5a6d1ba2dd792cb16214|1            |4244733e06e7ecb4970a6e2683c13e61|48436dade18ac8b2bce089ec2a041202|2017-09-19 09:45:35|58.90 |13.29        |\n",
            "|00018f77f2f0320c557190d7a144bdd3|1            |e5f2d52b802189ee658865ca93d83a8f|dd7ddc04e1b6c2c614352b383efe2d36|2017-05-03 11:05:13|239.90|19.93        |\n",
            "|000229ec398224ef6ca0657da4fc703e|1            |c777355d18b72b67abbeef9df44fd0fd|5b51032eddd242adc84c38acab88f23d|2018-01-18 14:48:30|199.00|17.87        |\n",
            "|00024acbcdf0a6daa1e931b038114c75|1            |7634da152a4610f1595efa32f14722fc|9d7a1d34a5052409006425275ba1c2b4|2018-08-15 10:10:18|12.99 |12.79        |\n",
            "|00042b26cf59d7ce69dfabb4e55b4fd9|1            |ac6c3623068f30de03045865e4e10089|df560393f3a51e74553ab94004ba5c87|2017-02-13 13:57:51|199.90|18.14        |\n",
            "|00048cc3ae777c65dbb7d2a0634bc1ea|1            |ef92defde845ab8450f9d70c526ef70f|6426d21aca402a131fc0a5d0960a3c90|2017-05-23 03:55:27|21.90 |12.69        |\n",
            "|00054e8431b9d7675808bcb819fb4a32|1            |8d4f2bb7e93e6710a28f34fa83ee7d28|7040e82f899a04d1b434b795a43b4617|2017-12-14 12:10:31|19.90 |11.85        |\n",
            "|000576fe39319847cbb9d288c5617fa6|1            |557d850972a7d6f792fd18ae1400d9b6|5996cddab893a4652a15592fb58ab8db|2018-07-10 12:30:45|810.00|70.75        |\n",
            "|0005a1a1728c9d785b8e2b08b904576c|1            |310ae3c140ff94b03219ad0adc3c778f|a416b6a846a11724393025641d4edd5e|2018-03-26 18:31:29|145.95|11.65        |\n",
            "|0005f50442cb953dcd1d21e1fb923495|1            |4535b0e1091c278dfd193e5a1d63b39f|ba143b05f0110f0dc71ad71b4466ce92|2018-07-06 14:10:56|53.99 |11.40        |\n",
            "+--------------------------------+-------------+--------------------------------+--------------------------------+-------------------+------+-------------+\n",
            "only showing top 10 rows\n",
            "\n"
          ],
          "name": "stdout"
        }
      ]
    },
    {
      "metadata": {
        "id": "wTDGe-5RXJ58",
        "colab_type": "code",
        "outputId": "494ffd9c-f0f1-4b28-a062-6229268353a9",
        "colab": {
          "base_uri": "https://localhost:8080/",
          "height": 309
        }
      },
      "cell_type": "code",
      "source": [
        "products.show(10, truncate=False)"
      ],
      "execution_count": 13,
      "outputs": [
        {
          "output_type": "stream",
          "text": [
            "+--------------------------------+---------------------+-------------------+--------------------------+------------------+----------------+-----------------+-----------------+----------------+\n",
            "|product_id                      |product_category_name|product_name_lenght|product_description_lenght|product_photos_qty|product_weight_g|product_length_cm|product_height_cm|product_width_cm|\n",
            "+--------------------------------+---------------------+-------------------+--------------------------+------------------+----------------+-----------------+-----------------+----------------+\n",
            "|1e9e8ef04dbcff4541ed26657ea517e5|perfumaria           |40                 |287                       |1                 |225             |16               |10               |14              |\n",
            "|3aa071139cb16b67ca9e5dea641aaa2f|artes                |44                 |276                       |1                 |1000            |30               |18               |20              |\n",
            "|96bd76ec8810374ed1b65e291975717f|esporte_lazer        |46                 |250                       |1                 |154             |18               |9                |15              |\n",
            "|cef67bcfe19066a932b7673e239eb23d|bebes                |27                 |261                       |1                 |371             |26               |4                |26              |\n",
            "|9dc1a7de274444849c219cff195d0b71|utilidades_domesticas|37                 |402                       |4                 |625             |20               |17               |13              |\n",
            "|41d3672d4792049fa1779bb35283ed13|instrumentos_musicais|60                 |745                       |1                 |200             |38               |5                |11              |\n",
            "|732bd381ad09e530fe0a5f457d81becb|cool_stuff           |56                 |1272                      |4                 |18350           |70               |24               |44              |\n",
            "|2548af3e6e77a690cf3eb6368e9ab61e|moveis_decoracao     |56                 |184                       |2                 |900             |40               |8                |40              |\n",
            "|37cc742be07708b53a98702e77a21a02|eletrodomesticos     |57                 |163                       |1                 |400             |27               |13               |17              |\n",
            "|8c92109888e8cdf9d66dc7e463025574|brinquedos           |36                 |1156                      |1                 |600             |17               |10               |12              |\n",
            "+--------------------------------+---------------------+-------------------+--------------------------+------------------+----------------+-----------------+-----------------+----------------+\n",
            "only showing top 10 rows\n",
            "\n"
          ],
          "name": "stdout"
        }
      ]
    },
    {
      "metadata": {
        "id": "sfbGWXN1A1QL",
        "colab_type": "text"
      },
      "cell_type": "markdown",
      "source": [
        "## Preprocessing"
      ]
    },
    {
      "metadata": {
        "id": "Ef5A0FxZdKBL",
        "colab_type": "code",
        "colab": {}
      },
      "cell_type": "code",
      "source": [
        "# Remove duplicate pair of (order_id, product_id) to avoid\n",
        "# error FPGrowth algorithm can't take duplicate\n",
        "# item in the same row\n",
        "distinct_order_items = order_items.select('order_id', 'product_id').distinct()"
      ],
      "execution_count": 0,
      "outputs": []
    },
    {
      "metadata": {
        "id": "JvWHm0FXdfyD",
        "colab_type": "code",
        "outputId": "cd322c82-7f2a-4cf7-95e9-c9589e3e6c2a",
        "colab": {
          "base_uri": "https://localhost:8080/",
          "height": 34
        }
      },
      "cell_type": "code",
      "source": [
        "distinct_order_items.count()"
      ],
      "execution_count": 15,
      "outputs": [
        {
          "output_type": "execute_result",
          "data": {
            "text/plain": [
              "102425"
            ]
          },
          "metadata": {
            "tags": []
          },
          "execution_count": 15
        }
      ]
    },
    {
      "metadata": {
        "id": "sPKyZYq0IurX",
        "colab_type": "code",
        "colab": {}
      },
      "cell_type": "code",
      "source": [
        "import pyspark.sql.functions as F"
      ],
      "execution_count": 0,
      "outputs": []
    },
    {
      "metadata": {
        "id": "vIi3C18QaSio",
        "colab_type": "code",
        "colab": {}
      },
      "cell_type": "code",
      "source": [
        "# Group items of same order together\n",
        "data = (distinct_order_items.groupby('order_id')\n",
        "                            .agg(F.collect_list('product_id').alias('items')))"
      ],
      "execution_count": 0,
      "outputs": []
    },
    {
      "metadata": {
        "id": "wy2yLLEbc9wj",
        "colab_type": "code",
        "outputId": "85e39c8e-0a72-409d-f3f6-e43f9500ac3b",
        "colab": {
          "base_uri": "https://localhost:8080/",
          "height": 34
        }
      },
      "cell_type": "code",
      "source": [
        "data.count()"
      ],
      "execution_count": 18,
      "outputs": [
        {
          "output_type": "execute_result",
          "data": {
            "text/plain": [
              "98666"
            ]
          },
          "metadata": {
            "tags": []
          },
          "execution_count": 18
        }
      ]
    },
    {
      "metadata": {
        "id": "Fhp9jDEMarNk",
        "colab_type": "code",
        "outputId": "d7b43abf-5a91-4d12-fbb6-de5939a96dff",
        "colab": {
          "base_uri": "https://localhost:8080/",
          "height": 102
        }
      },
      "cell_type": "code",
      "source": [
        "data.printSchema()"
      ],
      "execution_count": 19,
      "outputs": [
        {
          "output_type": "stream",
          "text": [
            "root\n",
            " |-- order_id: string (nullable = true)\n",
            " |-- items: array (nullable = true)\n",
            " |    |-- element: string (containsNull = true)\n",
            "\n"
          ],
          "name": "stdout"
        }
      ]
    },
    {
      "metadata": {
        "id": "tHkIstsJZVkU",
        "colab_type": "code",
        "outputId": "f835e959-13d2-4aaf-a91a-0d5d0bcc2a6f",
        "colab": {
          "base_uri": "https://localhost:8080/",
          "height": 459
        }
      },
      "cell_type": "code",
      "source": [
        "data.show(truncate=False)"
      ],
      "execution_count": 20,
      "outputs": [
        {
          "output_type": "stream",
          "text": [
            "+--------------------------------+--------------------------------------------------------------------+\n",
            "|order_id                        |items                                                               |\n",
            "+--------------------------------+--------------------------------------------------------------------+\n",
            "|014405982914c2cde2796ddcf0b8703d|[e95ee6822b66ac6058e2e4aff656071a, 6782d593f63105318f46bbf7633279bf]|\n",
            "|019886de8f385a39b75bedbb726fd4ef|[e9a69340883a438c3f91739d14d3a56d]                                  |\n",
            "|01a6ad782455876aa89081449d49c452|[036734b5a58d5d4f46b0616ddc047ced]                                  |\n",
            "|01d907b3e209269e120a365fc2b97524|[b1434a8f79cb3528540d9b21e686e823]                                  |\n",
            "|028dc52e12ddda803ec1e35eb0b7b0d9|[d86a6c48f83b045cbba6df84926a1f25]                                  |\n",
            "|036dd381dfb3ec75e0a63e14828cc871|[aa8d88eb4b9cb38894e33fa624c4287f]                                  |\n",
            "|03ebfa9712b7dbc7031291856263b314|[aa6746e94490239d3d9ee6ab89779aba]                                  |\n",
            "|0420da8d50a3784011290a782f25a8a8|[5ca739ddd646d1ba53cca4e3c099a953]                                  |\n",
            "|05afef1c185862cab9062b322ff25cc5|[ac7e981115ad47f0e051f1b8b97e73b1]                                  |\n",
            "|05bef443b850685058070c9e781988e8|[44e086c4a977f37a888627b43880586c]                                  |\n",
            "|05d46826bd0fb605d6b00e30e9141882|[e84d1a4a08db13e8dea6d400a1c6a3f0]                                  |\n",
            "|06fec3f6e9e72edb698e63c30a8f027f|[8562e2c780a345b609e1b802d7e3e4ae]                                  |\n",
            "|077700dcf4e3bb4128459fc825a4056c|[6cd0d08f09a8b32450fd32de16265a74]                                  |\n",
            "|078c2d9bb7e5905e870838448db0d3b3|[ce5a5a85a0704113bd7fd75b3fbaed71, d59349a33fcba18707a61aa852c02c5b]|\n",
            "|08791ec24b12af5af099ce45bdf3a396|[11250b0d4b709fee92441c5f34122aed]                                  |\n",
            "|08b450b388221bfe5472ed23887a7564|[9a803c36a15de3fd981f42c0e4cabdea]                                  |\n",
            "|0957ed870116e596b800540427c61497|[5b8423dc7f23089c9c59c5d140eb5a1c]                                  |\n",
            "|09868b0eb512bfbbe98900f16d79d055|[f35927953ed82e19d06ad3aac2f06353]                                  |\n",
            "|099d60cb800db65a72d355528bb7f41e|[4621f88827b983332c2a833d49c2ae35]                                  |\n",
            "|09e90e3936db197d43b9bde1291c307d|[e4c7ed7a832858c17d60ad5e38b00aba]                                  |\n",
            "+--------------------------------+--------------------------------------------------------------------+\n",
            "only showing top 20 rows\n",
            "\n"
          ],
          "name": "stdout"
        }
      ]
    },
    {
      "metadata": {
        "id": "ndtTnYZR6znz",
        "colab_type": "text"
      },
      "cell_type": "markdown",
      "source": [
        "## FPGrowth"
      ]
    },
    {
      "metadata": {
        "id": "8xauF49obEVU",
        "colab_type": "code",
        "colab": {}
      },
      "cell_type": "code",
      "source": [
        "from pyspark.ml.fpm import FPGrowth"
      ],
      "execution_count": 0,
      "outputs": []
    },
    {
      "metadata": {
        "id": "wys3gT8zAY1U",
        "colab_type": "text"
      },
      "cell_type": "markdown",
      "source": [
        "### Utility functions"
      ]
    },
    {
      "metadata": {
        "id": "ieFYY_anEAvf",
        "colab_type": "code",
        "colab": {}
      },
      "cell_type": "code",
      "source": [
        "import random\n",
        "\n",
        "\n",
        "def get_random_items(model, n):\n",
        "    \"\"\"\n",
        "    Get random itemsets from FPGrowth model's\n",
        "    association rules to make sure we\n",
        "    get items that has prediction.\n",
        "    \"\"\"\n",
        "    items = model.associationRules \\\n",
        "                 .select('antecedent') \\\n",
        "                 .orderBy(F.rand()) \\\n",
        "                 .limit(n) \\\n",
        "                 .collect()\n",
        "    return list(map(lambda x: x[0], items))\n",
        "\n",
        "\n",
        "def get_random_products(n, max_items):\n",
        "    '''\n",
        "    Get random itemsets from products table\n",
        "    '''\n",
        "    itemsets = list()\n",
        "    for i in range(n):\n",
        "        items = products.select('product_id') \\\n",
        "                        .orderBy(F.rand()) \\\n",
        "                        .limit(random.randint(1, max_items)) \\\n",
        "                        .collect()\n",
        "        itemsets.append(list(map(lambda x: x[0], items)))\n",
        "    return itemsets"
      ],
      "execution_count": 0,
      "outputs": []
    },
    {
      "metadata": {
        "id": "d2JwAw_q4BVh",
        "colab_type": "text"
      },
      "cell_type": "markdown",
      "source": [
        "### Model 1 (minSupport: 0.3, minConfidence: 0.8) (default values)"
      ]
    },
    {
      "metadata": {
        "id": "GOJDxxLxb6mf",
        "colab_type": "code",
        "colab": {}
      },
      "cell_type": "code",
      "source": [
        "fp = FPGrowth()"
      ],
      "execution_count": 0,
      "outputs": []
    },
    {
      "metadata": {
        "id": "98wgwnAncEwA",
        "colab_type": "code",
        "colab": {}
      },
      "cell_type": "code",
      "source": [
        "fpm = fp.fit(data)"
      ],
      "execution_count": 0,
      "outputs": []
    },
    {
      "metadata": {
        "id": "bSq8hUlnd1qD",
        "colab_type": "code",
        "outputId": "9fea764f-cd88-4c1e-bef5-868c11e386e3",
        "colab": {
          "base_uri": "https://localhost:8080/",
          "height": 102
        }
      },
      "cell_type": "code",
      "source": [
        "fpm.freqItemsets.show(truncate=False)"
      ],
      "execution_count": 25,
      "outputs": [
        {
          "output_type": "stream",
          "text": [
            "+-----+----+\n",
            "|items|freq|\n",
            "+-----+----+\n",
            "+-----+----+\n",
            "\n"
          ],
          "name": "stdout"
        }
      ]
    },
    {
      "metadata": {
        "id": "N2MjeCN1eDB6",
        "colab_type": "code",
        "outputId": "19e16d38-0bce-4b5c-ab37-714a0280fd96",
        "colab": {
          "base_uri": "https://localhost:8080/",
          "height": 102
        }
      },
      "cell_type": "code",
      "source": [
        "fpm.associationRules.show(truncate=False)"
      ],
      "execution_count": 26,
      "outputs": [
        {
          "output_type": "stream",
          "text": [
            "+----------+----------+----------+----+\n",
            "|antecedent|consequent|confidence|lift|\n",
            "+----------+----------+----------+----+\n",
            "+----------+----------+----------+----+\n",
            "\n"
          ],
          "name": "stdout"
        }
      ]
    },
    {
      "metadata": {
        "id": "NwQ4Kj1Xghbn",
        "colab_type": "code",
        "colab": {}
      },
      "cell_type": "code",
      "source": [
        "# Crate fake orders for testing\n",
        "# Association rules is empty. So we use #get_random_products\n",
        "fake_orders_n = 20\n",
        "fake_orders_id = range(1, fake_orders_n+1)\n",
        "fake_orders_items = get_random_products(fake_orders_n, 3)\n",
        "fake_orders = list(zip(fake_orders_id, fake_orders_items))"
      ],
      "execution_count": 0,
      "outputs": []
    },
    {
      "metadata": {
        "id": "MUoopC3iiqvu",
        "colab_type": "code",
        "colab": {}
      },
      "cell_type": "code",
      "source": [
        "# Convert to spark DataFrame\n",
        "test_data = spark.createDataFrame(fake_orders, ['order_id', 'items'])"
      ],
      "execution_count": 0,
      "outputs": []
    },
    {
      "metadata": {
        "id": "oe83Lm7_iz9k",
        "colab_type": "code",
        "outputId": "e6b4b8a5-688e-4730-c72b-838edea2b8b6",
        "colab": {
          "base_uri": "https://localhost:8080/",
          "height": 102
        }
      },
      "cell_type": "code",
      "source": [
        "test_data.printSchema()"
      ],
      "execution_count": 29,
      "outputs": [
        {
          "output_type": "stream",
          "text": [
            "root\n",
            " |-- order_id: long (nullable = true)\n",
            " |-- items: array (nullable = true)\n",
            " |    |-- element: string (containsNull = true)\n",
            "\n"
          ],
          "name": "stdout"
        }
      ]
    },
    {
      "metadata": {
        "id": "iW-LGVJQi1sR",
        "colab_type": "code",
        "outputId": "d62ee3d6-9c9c-43f7-95ed-ea2d84635636",
        "colab": {
          "base_uri": "https://localhost:8080/",
          "height": 442
        }
      },
      "cell_type": "code",
      "source": [
        "# final test DataFrame\n",
        "test_data.show(truncate=False)"
      ],
      "execution_count": 30,
      "outputs": [
        {
          "output_type": "stream",
          "text": [
            "+--------+------------------------------------------------------------------------------------------------------+\n",
            "|order_id|items                                                                                                 |\n",
            "+--------+------------------------------------------------------------------------------------------------------+\n",
            "|1       |[89321f94e35fc6d7903d36f74e351d40, 1a0bba83632b7dc923d939a7fa2c4530]                                  |\n",
            "|2       |[853ee0759242b6c1e8e1de5052df3fc4, 96627b65a0070635b620d07f97e63347, ef5ad80d84199def6971cac1eec1bd0e]|\n",
            "|3       |[c7963f30536d39f982fe6af66ab3e89b]                                                                    |\n",
            "|4       |[44a064a339782c3cdd7e457b169ef0b0]                                                                    |\n",
            "|5       |[0e35a413d832e63c5d46101b7c88de0f, 6c1a3375a7b0cb7b5a454e123c61311b]                                  |\n",
            "|6       |[57f202d5e0ed7a3a2d75e479e1579cfe]                                                                    |\n",
            "|7       |[06c76e2e852ec1ce0e14ca8f221f361f, 36eabbbffe429d2997d5bf9b40695335]                                  |\n",
            "|8       |[234d0c9586a851ff11033aedd13c1837]                                                                    |\n",
            "|9       |[bfa56a308202301eca94dc7f8b5c3dca, d6618718f320c94af9c25d40da7b6460]                                  |\n",
            "|10      |[82758517d6c9cc65c509781f1e14e9f2, aa8627a375771ab01288705307ec4ae5]                                  |\n",
            "|11      |[4c84f53b7bc2ec06da784fda591018b4]                                                                    |\n",
            "|12      |[fc470dc1924bf42ce34d83187505dbe4]                                                                    |\n",
            "|13      |[0e0872c9ae03640015df6e5b9e746a77, 0d070bdf0c723fab163131a8bed98356]                                  |\n",
            "|14      |[991f1f8e716895c2875d3e98dc961d42]                                                                    |\n",
            "|15      |[5b216c071bd1ccdddeb4efc5efa024d0]                                                                    |\n",
            "|16      |[efdf96511632c6f9747717c41611f09d]                                                                    |\n",
            "|17      |[24c03f6980d5f778bcf41785abe25533, ef2af887de5e84d6de178a621eb954e8, 67cee25aae565b8f1182ea8c37440103]|\n",
            "|18      |[8bfcd04b543971c83e16de0ab446407d, 7c900a8802a6e69db282513a6b159e70, 183e7a71baadb34370dd394795163dd7]|\n",
            "|19      |[28703461662b53348b5e21716f02bcc0]                                                                    |\n",
            "|20      |[9e4a852f41aff52bafff133d9deb5eee, e82ca7be7d1b57da564dd48fbde08f2d]                                  |\n",
            "+--------+------------------------------------------------------------------------------------------------------+\n",
            "\n"
          ],
          "name": "stdout"
        }
      ]
    },
    {
      "metadata": {
        "id": "d6GHS9uqjKBX",
        "colab_type": "code",
        "colab": {}
      },
      "cell_type": "code",
      "source": [
        "predictions = fpm.transform(test_data)"
      ],
      "execution_count": 0,
      "outputs": []
    },
    {
      "metadata": {
        "id": "Lrl_YPl4mExk",
        "colab_type": "code",
        "outputId": "627ca9c4-cebe-4836-efd7-544da6caa3d3",
        "colab": {
          "base_uri": "https://localhost:8080/",
          "height": 442
        }
      },
      "cell_type": "code",
      "source": [
        "# Schema of products data does not contains\n",
        "# product name. So we only show it by\n",
        "# product's id\n",
        "predictions.show(truncate=False)"
      ],
      "execution_count": 32,
      "outputs": [
        {
          "output_type": "stream",
          "text": [
            "+--------+------------------------------------------------------------------------------------------------------+----------+\n",
            "|order_id|items                                                                                                 |prediction|\n",
            "+--------+------------------------------------------------------------------------------------------------------+----------+\n",
            "|1       |[89321f94e35fc6d7903d36f74e351d40, 1a0bba83632b7dc923d939a7fa2c4530]                                  |[]        |\n",
            "|2       |[853ee0759242b6c1e8e1de5052df3fc4, 96627b65a0070635b620d07f97e63347, ef5ad80d84199def6971cac1eec1bd0e]|[]        |\n",
            "|3       |[c7963f30536d39f982fe6af66ab3e89b]                                                                    |[]        |\n",
            "|4       |[44a064a339782c3cdd7e457b169ef0b0]                                                                    |[]        |\n",
            "|5       |[0e35a413d832e63c5d46101b7c88de0f, 6c1a3375a7b0cb7b5a454e123c61311b]                                  |[]        |\n",
            "|6       |[57f202d5e0ed7a3a2d75e479e1579cfe]                                                                    |[]        |\n",
            "|7       |[06c76e2e852ec1ce0e14ca8f221f361f, 36eabbbffe429d2997d5bf9b40695335]                                  |[]        |\n",
            "|8       |[234d0c9586a851ff11033aedd13c1837]                                                                    |[]        |\n",
            "|9       |[bfa56a308202301eca94dc7f8b5c3dca, d6618718f320c94af9c25d40da7b6460]                                  |[]        |\n",
            "|10      |[82758517d6c9cc65c509781f1e14e9f2, aa8627a375771ab01288705307ec4ae5]                                  |[]        |\n",
            "|11      |[4c84f53b7bc2ec06da784fda591018b4]                                                                    |[]        |\n",
            "|12      |[fc470dc1924bf42ce34d83187505dbe4]                                                                    |[]        |\n",
            "|13      |[0e0872c9ae03640015df6e5b9e746a77, 0d070bdf0c723fab163131a8bed98356]                                  |[]        |\n",
            "|14      |[991f1f8e716895c2875d3e98dc961d42]                                                                    |[]        |\n",
            "|15      |[5b216c071bd1ccdddeb4efc5efa024d0]                                                                    |[]        |\n",
            "|16      |[efdf96511632c6f9747717c41611f09d]                                                                    |[]        |\n",
            "|17      |[24c03f6980d5f778bcf41785abe25533, ef2af887de5e84d6de178a621eb954e8, 67cee25aae565b8f1182ea8c37440103]|[]        |\n",
            "|18      |[8bfcd04b543971c83e16de0ab446407d, 7c900a8802a6e69db282513a6b159e70, 183e7a71baadb34370dd394795163dd7]|[]        |\n",
            "|19      |[28703461662b53348b5e21716f02bcc0]                                                                    |[]        |\n",
            "|20      |[9e4a852f41aff52bafff133d9deb5eee, e82ca7be7d1b57da564dd48fbde08f2d]                                  |[]        |\n",
            "+--------+------------------------------------------------------------------------------------------------------+----------+\n",
            "\n"
          ],
          "name": "stdout"
        }
      ]
    },
    {
      "metadata": {
        "id": "8IY5AWM39uTc",
        "colab_type": "text"
      },
      "cell_type": "markdown",
      "source": [
        "This model does not produce any predictions as expected. We will try lowering `minConfidence` and `minSupport`"
      ]
    },
    {
      "metadata": {
        "id": "W_7LJoB_4vFa",
        "colab_type": "text"
      },
      "cell_type": "markdown",
      "source": [
        "### Model 2 (minConfidence: 0.03, minSupport: 0.08)"
      ]
    },
    {
      "metadata": {
        "id": "tUiR_hLd5AvY",
        "colab_type": "code",
        "colab": {}
      },
      "cell_type": "code",
      "source": [
        "fp = FPGrowth(minConfidence=0.03, minSupport=0.08)"
      ],
      "execution_count": 0,
      "outputs": []
    },
    {
      "metadata": {
        "id": "RDPBQWJj5Ggn",
        "colab_type": "code",
        "colab": {}
      },
      "cell_type": "code",
      "source": [
        "fpm = fp.fit(data)"
      ],
      "execution_count": 0,
      "outputs": []
    },
    {
      "metadata": {
        "id": "KmHUPiio6spI",
        "colab_type": "code",
        "outputId": "fb61e076-3ced-4f44-d856-d6e91c9c748b",
        "colab": {
          "base_uri": "https://localhost:8080/",
          "height": 102
        }
      },
      "cell_type": "code",
      "source": [
        "fpm.freqItemsets.show(truncate=False)"
      ],
      "execution_count": 35,
      "outputs": [
        {
          "output_type": "stream",
          "text": [
            "+-----+----+\n",
            "|items|freq|\n",
            "+-----+----+\n",
            "+-----+----+\n",
            "\n"
          ],
          "name": "stdout"
        }
      ]
    },
    {
      "metadata": {
        "id": "r5wBLC7R641S",
        "colab_type": "code",
        "outputId": "0bf5cb39-7935-43cc-a038-e4030e8af953",
        "colab": {
          "base_uri": "https://localhost:8080/",
          "height": 102
        }
      },
      "cell_type": "code",
      "source": [
        "fpm.associationRules.show(truncate=False)"
      ],
      "execution_count": 36,
      "outputs": [
        {
          "output_type": "stream",
          "text": [
            "+----------+----------+----------+----+\n",
            "|antecedent|consequent|confidence|lift|\n",
            "+----------+----------+----------+----+\n",
            "+----------+----------+----------+----+\n",
            "\n"
          ],
          "name": "stdout"
        }
      ]
    },
    {
      "metadata": {
        "id": "SetEeQSX-CC9",
        "colab_type": "text"
      },
      "cell_type": "markdown",
      "source": [
        "No association rules yet. Not worth a test. Try lower values!"
      ]
    },
    {
      "metadata": {
        "id": "DTd81STP78Lq",
        "colab_type": "text"
      },
      "cell_type": "markdown",
      "source": [
        "### Model 3 (minConfidence: 0.003, minSupport: 0.008)"
      ]
    },
    {
      "metadata": {
        "id": "28vlM9qE6_lG",
        "colab_type": "code",
        "colab": {}
      },
      "cell_type": "code",
      "source": [
        "fp = FPGrowth(minConfidence=0.003, minSupport=0.008)"
      ],
      "execution_count": 0,
      "outputs": []
    },
    {
      "metadata": {
        "id": "MpnLrWBn70zX",
        "colab_type": "code",
        "colab": {}
      },
      "cell_type": "code",
      "source": [
        "fpm = fp.fit(data)"
      ],
      "execution_count": 0,
      "outputs": []
    },
    {
      "metadata": {
        "id": "O-NPJAkS8HYO",
        "colab_type": "code",
        "outputId": "4926a007-37fc-40b0-b714-b244544cf094",
        "colab": {
          "base_uri": "https://localhost:8080/",
          "height": 102
        }
      },
      "cell_type": "code",
      "source": [
        "fpm.freqItemsets.show(truncate=False)"
      ],
      "execution_count": 39,
      "outputs": [
        {
          "output_type": "stream",
          "text": [
            "+-----+----+\n",
            "|items|freq|\n",
            "+-----+----+\n",
            "+-----+----+\n",
            "\n"
          ],
          "name": "stdout"
        }
      ]
    },
    {
      "metadata": {
        "id": "UAKFuJlF8Ibl",
        "colab_type": "code",
        "outputId": "d214d57d-21d9-42be-bfe0-67f6f951ba9b",
        "colab": {
          "base_uri": "https://localhost:8080/",
          "height": 102
        }
      },
      "cell_type": "code",
      "source": [
        "fpm.associationRules.show(truncate=False)"
      ],
      "execution_count": 40,
      "outputs": [
        {
          "output_type": "stream",
          "text": [
            "+----------+----------+----------+----+\n",
            "|antecedent|consequent|confidence|lift|\n",
            "+----------+----------+----------+----+\n",
            "+----------+----------+----------+----+\n",
            "\n"
          ],
          "name": "stdout"
        }
      ]
    },
    {
      "metadata": {
        "id": "r2Go6PBJ94kM",
        "colab_type": "text"
      },
      "cell_type": "markdown",
      "source": [
        "Still no association rules. Keep lowering the values!"
      ]
    },
    {
      "metadata": {
        "id": "kDnnzdwB8VJ5",
        "colab_type": "text"
      },
      "cell_type": "markdown",
      "source": [
        "### Model 4 (minConfidence: 0.00003, minSupport: 0.00008)"
      ]
    },
    {
      "metadata": {
        "id": "l2_BH8J28Kuj",
        "colab_type": "code",
        "colab": {}
      },
      "cell_type": "code",
      "source": [
        "fp = FPGrowth(minConfidence=0.00003, minSupport=0.00008)"
      ],
      "execution_count": 0,
      "outputs": []
    },
    {
      "metadata": {
        "id": "q531a9C18LS4",
        "colab_type": "code",
        "colab": {}
      },
      "cell_type": "code",
      "source": [
        "fpm = fp.fit(data)"
      ],
      "execution_count": 0,
      "outputs": []
    },
    {
      "metadata": {
        "id": "5zqn5ZYS8LOo",
        "colab_type": "code",
        "outputId": "eebed169-3ab5-43ed-dff5-3a37f0046c7f",
        "colab": {
          "base_uri": "https://localhost:8080/",
          "height": 459
        }
      },
      "cell_type": "code",
      "source": [
        "fpm.freqItemsets.show(truncate=False)"
      ],
      "execution_count": 43,
      "outputs": [
        {
          "output_type": "stream",
          "text": [
            "+----------------------------------+----+\n",
            "|items                             |freq|\n",
            "+----------------------------------+----+\n",
            "|[a4aa7c1427c31344e5f7cc3d839fe562]|42  |\n",
            "|[b60856ce32d90658dbf99b9485327c25]|26  |\n",
            "|[33fac76e7f17367dedaef7954bbb33b4]|20  |\n",
            "|[03bb06cda40712fb8473f7962fb7d198]|8   |\n",
            "|[20a64c9ab614812a2634ebbd69bb4a02]|8   |\n",
            "|[5e53af05c040b01584b81b3549945faf]|16  |\n",
            "|[be1c4cf8a2d2aade623eb7a646d2a0bc]|14  |\n",
            "|[f89cd865cac300a9bf1320dd8f0fa223]|12  |\n",
            "|[00878d953636afec00d3e85d55a12e7f]|11  |\n",
            "|[2ff17002562478fb03cd44f09e7ca51a]|10  |\n",
            "|[11fb16e86df4d50cd2c289ede0b70f42]|9   |\n",
            "|[99a4788cb24856965c36a24e339b6058]|467 |\n",
            "|[b0c89945c034268074f5f80b362bda34]|16  |\n",
            "|[9af7b4a3262141c12ba9bd489a8573c7]|14  |\n",
            "|[6fd08d44046ab994b96ff38ad6fcfba1]|12  |\n",
            "|[2827ebfb043a328a13a06ca9165cad0a]|11  |\n",
            "|[293ee8ac0a45f559cdeba37b938fdb66]|10  |\n",
            "|[aca2eb7d00ea1a7b8ebd4e68314663af]|431 |\n",
            "|[31a2f42a87890f87d77daebdfabc182e]|42  |\n",
            "|[e85d91619b497e98754390b6198a9818]|26  |\n",
            "+----------------------------------+----+\n",
            "only showing top 20 rows\n",
            "\n"
          ],
          "name": "stdout"
        }
      ]
    },
    {
      "metadata": {
        "id": "4yVNa3AA8LLW",
        "colab_type": "code",
        "outputId": "e3b622e9-d6c3-4ef5-e920-236e223fe874",
        "colab": {
          "base_uri": "https://localhost:8080/",
          "height": 340
        }
      },
      "cell_type": "code",
      "source": [
        "fpm.associationRules.show(truncate=False)"
      ],
      "execution_count": 44,
      "outputs": [
        {
          "output_type": "stream",
          "text": [
            "+----------------------------------+----------------------------------+--------------------+------------------+\n",
            "|antecedent                        |consequent                        |confidence          |lift              |\n",
            "+----------------------------------+----------------------------------+--------------------+------------------+\n",
            "|[3f14d740544f37ece8a9e7bc8349797e]|[36f60d45225e60c7da4558b070ce4b60]|0.14814814814814814 |131.68635301968632|\n",
            "|[35afc973633aaeb6b877ff57b2793310]|[99a4788cb24856965c36a24e339b6058]|0.1858974358974359  |39.27570965793664 |\n",
            "|[99a4788cb24856965c36a24e339b6058]|[35afc973633aaeb6b877ff57b2793310]|0.06209850107066381 |39.27570965793664 |\n",
            "|[e53e557d5a159f5aa2c5e995dfdf244b]|[36f60d45225e60c7da4558b070ce4b60]|0.21794871794871795 |193.73088473088472|\n",
            "|[53759a2ecddad2bb87a079a1f1519f73]|[389d119b48cf3043d311335e499d9c6b]|0.0313588850174216  |9.94873231231164  |\n",
            "|[53759a2ecddad2bb87a079a1f1519f73]|[368c6c730842d78016ad823897a372db]|0.027874564459930314|9.451105762898571 |\n",
            "|[36f60d45225e60c7da4558b070ce4b60]|[e53e557d5a159f5aa2c5e995dfdf244b]|0.3063063063063063  |193.73088473088472|\n",
            "|[36f60d45225e60c7da4558b070ce4b60]|[3f14d740544f37ece8a9e7bc8349797e]|0.10810810810810811 |131.68635301968635|\n",
            "|[389d119b48cf3043d311335e499d9c6b]|[422879e10f46682990de24d770e7f83d]|0.03536977491961415 |9.91418810289389  |\n",
            "|[389d119b48cf3043d311335e499d9c6b]|[53759a2ecddad2bb87a079a1f1519f73]|0.028938906752411574|9.94873231231164  |\n",
            "|[368c6c730842d78016ad823897a372db]|[53759a2ecddad2bb87a079a1f1519f73]|0.027491408934707903|9.451105762898571 |\n",
            "|[4fcb3d9a5f4871e8362dfedbdb02b064]|[f4f67ccaece962d013a4e1d7dc3a61f7]|0.19101123595505617 |336.5413322632424 |\n",
            "|[f4f67ccaece962d013a4e1d7dc3a61f7]|[4fcb3d9a5f4871e8362dfedbdb02b064]|0.30357142857142855 |336.54133226324234|\n",
            "|[422879e10f46682990de24d770e7f83d]|[389d119b48cf3043d311335e499d9c6b]|0.03125             |9.91418810289389  |\n",
            "+----------------------------------+----------------------------------+--------------------+------------------+\n",
            "\n"
          ],
          "name": "stdout"
        }
      ]
    },
    {
      "metadata": {
        "id": "vmc0nA3ZDNzb",
        "colab_type": "code",
        "colab": {
          "base_uri": "https://localhost:8080/",
          "height": 34
        },
        "outputId": "63211c72-37d8-4787-d07a-37a0144e01cd"
      },
      "cell_type": "code",
      "source": [
        "fpm.associationRules.count()"
      ],
      "execution_count": 45,
      "outputs": [
        {
          "output_type": "execute_result",
          "data": {
            "text/plain": [
              "14"
            ]
          },
          "metadata": {
            "tags": []
          },
          "execution_count": 45
        }
      ]
    },
    {
      "metadata": {
        "id": "OaA2o0d9-Y7L",
        "colab_type": "text"
      },
      "cell_type": "markdown",
      "source": [
        "We starting to get association rules. We will test the model against itemsets from its own association rules."
      ]
    },
    {
      "metadata": {
        "id": "mW4MYway8xZT",
        "colab_type": "code",
        "colab": {}
      },
      "cell_type": "code",
      "source": [
        "# Crate fake orders for testing\n",
        "# We can now get fake orders from\n",
        "# model's association rules\n",
        "fake_orders_n = 20\n",
        "fake_orders_id = range(1, fake_orders_n+1)\n",
        "fake_orders_items = get_random_items(fpm, fake_orders_n)\n",
        "fake_orders = list(zip(fake_orders_id, fake_orders_items))"
      ],
      "execution_count": 0,
      "outputs": []
    },
    {
      "metadata": {
        "id": "-ikN_FYK9DxF",
        "colab_type": "code",
        "colab": {}
      },
      "cell_type": "code",
      "source": [
        "test_data = spark.createDataFrame(fake_orders, ['order_id', 'items'])"
      ],
      "execution_count": 0,
      "outputs": []
    },
    {
      "metadata": {
        "id": "cyGyA0zl9VZa",
        "colab_type": "code",
        "outputId": "95bf579d-72ce-49e7-c7b5-fbef6286f198",
        "colab": {
          "base_uri": "https://localhost:8080/",
          "height": 340
        }
      },
      "cell_type": "code",
      "source": [
        "test_data.show(truncate=False)"
      ],
      "execution_count": 48,
      "outputs": [
        {
          "output_type": "stream",
          "text": [
            "+--------+----------------------------------+\n",
            "|order_id|items                             |\n",
            "+--------+----------------------------------+\n",
            "|1       |[389d119b48cf3043d311335e499d9c6b]|\n",
            "|2       |[99a4788cb24856965c36a24e339b6058]|\n",
            "|3       |[422879e10f46682990de24d770e7f83d]|\n",
            "|4       |[36f60d45225e60c7da4558b070ce4b60]|\n",
            "|5       |[e53e557d5a159f5aa2c5e995dfdf244b]|\n",
            "|6       |[389d119b48cf3043d311335e499d9c6b]|\n",
            "|7       |[36f60d45225e60c7da4558b070ce4b60]|\n",
            "|8       |[4fcb3d9a5f4871e8362dfedbdb02b064]|\n",
            "|9       |[53759a2ecddad2bb87a079a1f1519f73]|\n",
            "|10      |[368c6c730842d78016ad823897a372db]|\n",
            "|11      |[35afc973633aaeb6b877ff57b2793310]|\n",
            "|12      |[3f14d740544f37ece8a9e7bc8349797e]|\n",
            "|13      |[f4f67ccaece962d013a4e1d7dc3a61f7]|\n",
            "|14      |[53759a2ecddad2bb87a079a1f1519f73]|\n",
            "+--------+----------------------------------+\n",
            "\n"
          ],
          "name": "stdout"
        }
      ]
    },
    {
      "metadata": {
        "id": "kJ1kXXSs9YhS",
        "colab_type": "code",
        "colab": {}
      },
      "cell_type": "code",
      "source": [
        "predictions = fpm.transform(test_data)"
      ],
      "execution_count": 0,
      "outputs": []
    },
    {
      "metadata": {
        "id": "MWfwI6eH9aml",
        "colab_type": "code",
        "outputId": "7d06852b-624a-4edd-8f0c-6288c88f567a",
        "colab": {
          "base_uri": "https://localhost:8080/",
          "height": 340
        }
      },
      "cell_type": "code",
      "source": [
        "predictions.show(truncate=False)"
      ],
      "execution_count": 50,
      "outputs": [
        {
          "output_type": "stream",
          "text": [
            "+--------+----------------------------------+--------------------------------------------------------------------+\n",
            "|order_id|items                             |prediction                                                          |\n",
            "+--------+----------------------------------+--------------------------------------------------------------------+\n",
            "|1       |[389d119b48cf3043d311335e499d9c6b]|[422879e10f46682990de24d770e7f83d, 53759a2ecddad2bb87a079a1f1519f73]|\n",
            "|2       |[99a4788cb24856965c36a24e339b6058]|[35afc973633aaeb6b877ff57b2793310]                                  |\n",
            "|3       |[422879e10f46682990de24d770e7f83d]|[389d119b48cf3043d311335e499d9c6b]                                  |\n",
            "|4       |[36f60d45225e60c7da4558b070ce4b60]|[e53e557d5a159f5aa2c5e995dfdf244b, 3f14d740544f37ece8a9e7bc8349797e]|\n",
            "|5       |[e53e557d5a159f5aa2c5e995dfdf244b]|[36f60d45225e60c7da4558b070ce4b60]                                  |\n",
            "|6       |[389d119b48cf3043d311335e499d9c6b]|[422879e10f46682990de24d770e7f83d, 53759a2ecddad2bb87a079a1f1519f73]|\n",
            "|7       |[36f60d45225e60c7da4558b070ce4b60]|[e53e557d5a159f5aa2c5e995dfdf244b, 3f14d740544f37ece8a9e7bc8349797e]|\n",
            "|8       |[4fcb3d9a5f4871e8362dfedbdb02b064]|[f4f67ccaece962d013a4e1d7dc3a61f7]                                  |\n",
            "|9       |[53759a2ecddad2bb87a079a1f1519f73]|[389d119b48cf3043d311335e499d9c6b, 368c6c730842d78016ad823897a372db]|\n",
            "|10      |[368c6c730842d78016ad823897a372db]|[53759a2ecddad2bb87a079a1f1519f73]                                  |\n",
            "|11      |[35afc973633aaeb6b877ff57b2793310]|[99a4788cb24856965c36a24e339b6058]                                  |\n",
            "|12      |[3f14d740544f37ece8a9e7bc8349797e]|[36f60d45225e60c7da4558b070ce4b60]                                  |\n",
            "|13      |[f4f67ccaece962d013a4e1d7dc3a61f7]|[4fcb3d9a5f4871e8362dfedbdb02b064]                                  |\n",
            "|14      |[53759a2ecddad2bb87a079a1f1519f73]|[389d119b48cf3043d311335e499d9c6b, 368c6c730842d78016ad823897a372db]|\n",
            "+--------+----------------------------------+--------------------------------------------------------------------+\n",
            "\n"
          ],
          "name": "stdout"
        }
      ]
    },
    {
      "metadata": {
        "id": "b4Ffoopt9eCF",
        "colab_type": "text"
      },
      "cell_type": "markdown",
      "source": [
        "We starting to get a proper predictions. Let's try lowering `minConfidence` and `minSupport` more."
      ]
    },
    {
      "metadata": {
        "id": "bTsQdS8b8fJh",
        "colab_type": "text"
      },
      "cell_type": "markdown",
      "source": [
        "### Model 5 (minConfidence: 0.000003, minSupport: 0.000008)"
      ]
    },
    {
      "metadata": {
        "id": "9R21dtL88LHs",
        "colab_type": "code",
        "colab": {}
      },
      "cell_type": "code",
      "source": [
        "fp = FPGrowth(minConfidence=0.000003, minSupport=0.000008)"
      ],
      "execution_count": 0,
      "outputs": []
    },
    {
      "metadata": {
        "id": "S6stYXrN8Kqo",
        "colab_type": "code",
        "colab": {}
      },
      "cell_type": "code",
      "source": [
        "fpm = fp.fit(data)"
      ],
      "execution_count": 0,
      "outputs": []
    },
    {
      "metadata": {
        "id": "hp0P0SKl8Knm",
        "colab_type": "code",
        "outputId": "e7046b3e-c088-4c19-d0c6-9c3cee8dd28d",
        "colab": {
          "base_uri": "https://localhost:8080/",
          "height": 459
        }
      },
      "cell_type": "code",
      "source": [
        "fpm.freqItemsets.show(truncate=False)"
      ],
      "execution_count": 53,
      "outputs": [
        {
          "output_type": "stream",
          "text": [
            "+--------------------------------------------------------------------+----+\n",
            "|items                                                               |freq|\n",
            "+--------------------------------------------------------------------+----+\n",
            "|[c647d965c3bd45fa151a61dc4233b7cc]                                  |1   |\n",
            "|[a4aa7c1427c31344e5f7cc3d839fe562]                                  |42  |\n",
            "|[00989337a1916a0055eedd1fdb35eb53]                                  |2   |\n",
            "|[aa59c9e7a89f70e05e190130174cd4aa]                                  |1   |\n",
            "|[d1a7aa885550f1d6803bd8edff173851]                                  |1   |\n",
            "|[d1a7aa885550f1d6803bd8edff173851, bb32b03270ad3f5a8aa9474d354119ab]|1   |\n",
            "|[304fad8dc4d2012dc4062839972f2d96]                                  |2   |\n",
            "|[49bfa76ac7062b8b5a0bf9601623d612]                                  |2   |\n",
            "|[7d02633fd7494877cf1dde4210bdab8f]                                  |1   |\n",
            "|[632c37951cab36a4e928428cbc4fa4f4]                                  |5   |\n",
            "|[b42e79652dbc591a49bdd2f577b57dab]                                  |1   |\n",
            "|[076e36bd0e2aebb35184d08c8e0f032b]                                  |4   |\n",
            "|[f29675e9d91d8e0451ced31708497904]                                  |2   |\n",
            "|[dd0fc08054600c8e6c078d6df90ee3fb]                                  |1   |\n",
            "|[d2797d29d3fe4ed73ad93ecbca2ce7c8]                                  |1   |\n",
            "|[d2797d29d3fe4ed73ad93ecbca2ce7c8, 8daced7e1565e80fd1b57d24ff973a61]|1   |\n",
            "|[833cc08f39d51d324d7c702707535e4f]                                  |1   |\n",
            "|[5d3353870f99e3666b0bf5aed7caba8b]                                  |1   |\n",
            "|[218c9d6d7c61785529b97cf822756207]                                  |1   |\n",
            "|[4613efcec95c18902f5e8b117df56188]                                  |1   |\n",
            "+--------------------------------------------------------------------+----+\n",
            "only showing top 20 rows\n",
            "\n"
          ],
          "name": "stdout"
        }
      ]
    },
    {
      "metadata": {
        "id": "Sq6NPQRH8Kir",
        "colab_type": "code",
        "outputId": "2dc2ae39-fefc-4b47-c86a-750783295177",
        "colab": {
          "base_uri": "https://localhost:8080/",
          "height": 459
        }
      },
      "cell_type": "code",
      "source": [
        "fpm.associationRules.show(truncate=False)"
      ],
      "execution_count": 54,
      "outputs": [
        {
          "output_type": "stream",
          "text": [
            "+--------------------------------------------------------------------+----------------------------------+--------------------+------------------+\n",
            "|antecedent                                                          |consequent                        |confidence          |lift              |\n",
            "+--------------------------------------------------------------------+----------------------------------+--------------------+------------------+\n",
            "|[1de1332e38dc2f575edfeae165edea4e]                                  |[ba131cee7989ef04b93a79030969c92f]|0.14285714285714285 |3523.7857142857138|\n",
            "|[43a888fc6acdffc23011578f63d5f045]                                  |[8e87f0e6eb7e5a27568309035f4fc854]|1.0                 |24666.5           |\n",
            "|[0b3f6a2323c814e1b19fd44838c160ef]                                  |[6df3e292ba834323d4d8164d4c88e698]|0.25                |4933.3            |\n",
            "|[c4baedd846ed09b85f78a781b522f126]                                  |[d1c427060a0f73f6b889a5c7c61f2ac4]|0.02097902097902098 |6.408408928532768 |\n",
            "|[c4baedd846ed09b85f78a781b522f126]                                  |[c1b94ad68c3ff2b989d6df457a0d657a]|0.006993006993006993|229.99067599067598|\n",
            "|[c4baedd846ed09b85f78a781b522f126]                                  |[52c80cedd4e90108bf4fa6a206ef6b03]|0.006993006993006993|6.052386210280947 |\n",
            "|[fd52a24b7fa473a6c7a62a5ee7579def]                                  |[6f33a4a09ae1180a0ee1ff4682b2d21f]|1.0                 |4933.3            |\n",
            "|[e4da15679c5e9692e847a2912c5db154, fbaefac04950112a7da468bc016cc257]|[c90526921508388bf77c6f45ff36c412]|1.0                 |98666.0           |\n",
            "|[5b7e1c33e4e9e477847a8a031353ff40]                                  |[65b183dcbb9689b176730d709a0003dd]|1.0                 |98666.0           |\n",
            "|[5b7e1c33e4e9e477847a8a031353ff40]                                  |[a44edbb4226328a7a816f3460556d638]|1.0                 |98666.0           |\n",
            "|[5b7e1c33e4e9e477847a8a031353ff40]                                  |[757172573ef8a2cc354243f3da4fa565]|1.0                 |98666.0           |\n",
            "|[9ad35a49eb5a417d1554e1c23f8200e4, 15c507fd1d486501a97bd53f82445f1e]|[d05bb6074b45c20f7a516c239c0a1c43]|1.0                 |98666.0           |\n",
            "|[3321ad579f19476d0d668f726f8dffec, 03bb06cda40712fb8473f7962fb7d198]|[fec565c4e3ad965c73fb1a21bb809257]|1.0                 |16444.333333333332|\n",
            "|[bbdf7b7e937d9526d3acd9854d7e939b, e82b2802625252b6d72b3e1d36f82670]|[786248c98cab9ad5cccdb751909da1af]|1.0                 |32888.666666666664|\n",
            "|[bbdf7b7e937d9526d3acd9854d7e939b, e82b2802625252b6d72b3e1d36f82670]|[4697e1b622324d38a8989bff2bdc1c84]|1.0                 |49333.0           |\n",
            "|[41c24b8ce92d1a2cac62db5edfd088b2]                                  |[7a10781637204d8d10485c71a6108a2e]|0.015873015873015872|11.029063268499886|\n",
            "|[41c24b8ce92d1a2cac62db5edfd088b2]                                  |[0a57f7d2c983bcf8188589a5fea4a8da]|0.015873015873015872|15.354186118892   |\n",
            "|[41c24b8ce92d1a2cac62db5edfd088b2]                                  |[2ffdf10e724b958c0f7ea69e97d32f64]|0.015873015873015872|30.117826617826616|\n",
            "|[681ac28f018f90684e23492046fcdb76]                                  |[e3f7b3cbb0ccf1f1e361e6974b22e346]|1.0                 |9866.6            |\n",
            "|[e4ad97ce352e46bebac92018f6ed976d]                                  |[d3b023772520cd1c6ea58f6701679d4b]|0.07692307692307693 |1264.948717948718 |\n",
            "+--------------------------------------------------------------------+----------------------------------+--------------------+------------------+\n",
            "only showing top 20 rows\n",
            "\n"
          ],
          "name": "stdout"
        }
      ]
    },
    {
      "metadata": {
        "id": "fe551KO2DQ4F",
        "colab_type": "code",
        "colab": {
          "base_uri": "https://localhost:8080/",
          "height": 34
        },
        "outputId": "4998532c-bb8a-4b1d-c811-fda616e71f32"
      },
      "cell_type": "code",
      "source": [
        "fpm.associationRules.count()"
      ],
      "execution_count": 55,
      "outputs": [
        {
          "output_type": "execute_result",
          "data": {
            "text/plain": [
              "14254"
            ]
          },
          "metadata": {
            "tags": []
          },
          "execution_count": 55
        }
      ]
    },
    {
      "metadata": {
        "id": "_FX0STyw_GW9",
        "colab_type": "text"
      },
      "cell_type": "markdown",
      "source": [
        "This model seems to have more association rules than the previous one"
      ]
    },
    {
      "metadata": {
        "id": "d6Z5XBU_-svA",
        "colab_type": "code",
        "colab": {}
      },
      "cell_type": "code",
      "source": [
        "# Crate fake orders for testing\n",
        "fake_orders_n = 20\n",
        "fake_orders_id = range(1, fake_orders_n+1)\n",
        "fake_orders_items = get_random_items(fpm, fake_orders_n)\n",
        "fake_orders = list(zip(fake_orders_id, fake_orders_items))"
      ],
      "execution_count": 0,
      "outputs": []
    },
    {
      "metadata": {
        "id": "KTqJbeXr-vfy",
        "colab_type": "code",
        "colab": {}
      },
      "cell_type": "code",
      "source": [
        "test_data = spark.createDataFrame(fake_orders, ['order_id', 'items'])"
      ],
      "execution_count": 0,
      "outputs": []
    },
    {
      "metadata": {
        "id": "KTpEj7lR-0UG",
        "colab_type": "code",
        "outputId": "3c760ff2-c42e-4aad-bd8f-55c227d608f3",
        "colab": {
          "base_uri": "https://localhost:8080/",
          "height": 442
        }
      },
      "cell_type": "code",
      "source": [
        "test_data.show(truncate=False)"
      ],
      "execution_count": 58,
      "outputs": [
        {
          "output_type": "stream",
          "text": [
            "+--------+----------------------------------------------------------------------------------------------------------------------------------------+\n",
            "|order_id|items                                                                                                                                   |\n",
            "+--------+----------------------------------------------------------------------------------------------------------------------------------------+\n",
            "|1       |[dde35467201d3ff9e3f8e4297aa2768e]                                                                                                      |\n",
            "|2       |[168b1b45c68037b0490157ee10540349]                                                                                                      |\n",
            "|3       |[8c591ab0ca519558779df02023177f44]                                                                                                      |\n",
            "|4       |[4b96786612ebe7463132fce2c4dca136]                                                                                                      |\n",
            "|5       |[a3a10562c9d134b92f04b8cce298d037, d64738c7b2e2d1778a51e835d8f02568, ddbf57e4559f03c003fc3708d4860c5e, d3a386ad58b99f0ddcc216ed9efb03c3]|\n",
            "|6       |[446a60562915e8223780cd142b8dc26d, 0c80d4d910506b4e1db996ff1fa5c658]                                                                    |\n",
            "|7       |[8c59dc491e73996f708d433188285ed1]                                                                                                      |\n",
            "|8       |[f2f411f86bd5bd427e28e2a30771761f]                                                                                                      |\n",
            "|9       |[0cf1296fa38622de944eb05701b4ff34]                                                                                                      |\n",
            "|10      |[0fa81e7123fd0ebe03adbbe99d912827]                                                                                                      |\n",
            "|11      |[a3a10562c9d134b92f04b8cce298d037, 61b6e5d2e3ee58d2b341b8ef1a652b26, ddbf57e4559f03c003fc3708d4860c5e, d80fce9f775927c7d602c2de926759f1]|\n",
            "|12      |[064c975d37d3c646bd94d94c6e16f37e, a7bbff32c7321478b29f924301a1867d, 58f579bb52bea63fe1c6c39c2d4272d8, 24543438ec09114a42a153f76ae693f2]|\n",
            "|13      |[4c6da5fa882447ab7e8d0fb767f8aa99]                                                                                                      |\n",
            "|14      |[c2a9f8aeb7a51580fccc2d1c4f8bceaf]                                                                                                      |\n",
            "|15      |[ecfb5255f55715e1faec3e6a316da6c3]                                                                                                      |\n",
            "|16      |[75bc68276acddf2f0940f421a54338ee, 274d4e727ddbeb7c392ea2e551e3a77d]                                                                    |\n",
            "|17      |[d3ceda8c68fb31960dab19adf28e5c6d, fd471a043ee8b8dd27f4086495e0724c, 6d0a373c460a041c86167a92a5d3383e]                                  |\n",
            "|18      |[44f90f085c7a825863cbf867990e1513]                                                                                                      |\n",
            "|19      |[271ce3fc018562e90257af8cd2af06bd]                                                                                                      |\n",
            "|20      |[21b524c4c060169fa75ccf08c7da4627, 678c229b41c0e497d35a25a8be1cc631, 0cf2faf9749f53924cea652a09d8e327, 4a5c3967bfd3629fe07ef4d0cc8c3818]|\n",
            "+--------+----------------------------------------------------------------------------------------------------------------------------------------+\n",
            "\n"
          ],
          "name": "stdout"
        }
      ]
    },
    {
      "metadata": {
        "id": "HvWlx_kS-05X",
        "colab_type": "code",
        "colab": {}
      },
      "cell_type": "code",
      "source": [
        "predictions = fpm.transform(test_data)"
      ],
      "execution_count": 0,
      "outputs": []
    },
    {
      "metadata": {
        "id": "htoj7Vrk-2Sf",
        "colab_type": "code",
        "outputId": "f9caac37-a025-4508-8cb4-89440affdcac",
        "colab": {
          "base_uri": "https://localhost:8080/",
          "height": 462
        }
      },
      "cell_type": "code",
      "source": [
        "predictions.show(truncate=False)"
      ],
      "execution_count": 60,
      "outputs": [
        {
          "output_type": "stream",
          "text": [
            "+--------+----------------------------------------------------------------------------------------------------------------------------------------+------------------------------------------------------------------------------------------------------------------------------------------------------------------------------------------------------------------------------------------------------------------------------------------------------------------------------------------------------------------------------------------------------------------------------------------------------------------------------------------------------------------------------+\n",
            "|order_id|items                                                                                                                                   |prediction                                                                                                                                                                                                                                                                                                                                                                                                                                                                                                                    |\n",
            "+--------+----------------------------------------------------------------------------------------------------------------------------------------+------------------------------------------------------------------------------------------------------------------------------------------------------------------------------------------------------------------------------------------------------------------------------------------------------------------------------------------------------------------------------------------------------------------------------------------------------------------------------------------------------------------------------+\n",
            "|1       |[dde35467201d3ff9e3f8e4297aa2768e]                                                                                                      |[05a6b99c0460f22f5f8101493c0e3c0e, 06edb72f1e0c64b14c5b79353f7abea3, 2481a472d98c582b46bc2dfeae6f539f]                                                                                                                                                                                                                                                                                                                                                                                                                        |\n",
            "|2       |[168b1b45c68037b0490157ee10540349]                                                                                                      |[39a1a3b9314738724fce4b2907ae6686]                                                                                                                                                                                                                                                                                                                                                                                                                                                                                            |\n",
            "|3       |[8c591ab0ca519558779df02023177f44]                                                                                                      |[d1c427060a0f73f6b889a5c7c61f2ac4, 52c80cedd4e90108bf4fa6a206ef6b03]                                                                                                                                                                                                                                                                                                                                                                                                                                                          |\n",
            "|4       |[4b96786612ebe7463132fce2c4dca136]                                                                                                      |[306599a052830af3cfebe42ee7a79dde, df5a9191c2465bb6f8538b6b3371e019, 1e618d311a1b7f88a9d96ec50aa85582, 8817f0cda3d5b42e5f949ee3be9dc80c]                                                                                                                                                                                                                                                                                                                                                                                      |\n",
            "|5       |[a3a10562c9d134b92f04b8cce298d037, d64738c7b2e2d1778a51e835d8f02568, ddbf57e4559f03c003fc3708d4860c5e, d3a386ad58b99f0ddcc216ed9efb03c3]|[61b6e5d2e3ee58d2b341b8ef1a652b26, d80fce9f775927c7d602c2de926759f1]                                                                                                                                                                                                                                                                                                                                                                                                                                                          |\n",
            "|6       |[446a60562915e8223780cd142b8dc26d, 0c80d4d910506b4e1db996ff1fa5c658]                                                                    |[3017341f6eb19840f64bd672370a91cc]                                                                                                                                                                                                                                                                                                                                                                                                                                                                                            |\n",
            "|7       |[8c59dc491e73996f708d433188285ed1]                                                                                                      |[27855ab0b06ec76e035b2df0aefb5f39]                                                                                                                                                                                                                                                                                                                                                                                                                                                                                            |\n",
            "|8       |[f2f411f86bd5bd427e28e2a30771761f]                                                                                                      |[06edb72f1e0c64b14c5b79353f7abea3, af0a917aec9cea3b353ece61a8825326, 98b22c1129886cbd7fcae69d1c93e442]                                                                                                                                                                                                                                                                                                                                                                                                                        |\n",
            "|9       |[0cf1296fa38622de944eb05701b4ff34]                                                                                                      |[a0627b01409b61f4076a920265b86665]                                                                                                                                                                                                                                                                                                                                                                                                                                                                                            |\n",
            "|10      |[0fa81e7123fd0ebe03adbbe99d912827]                                                                                                      |[87d780fa7d2cf3710aa02dc4ca8db985, 8a443635fdf9759915c9be5be2e3b862, cfb763496d9fc48751a27db4fd02aa2d, a4fa3b8fa5953b0bd18bf4e0b4de499d, fb783e3e545937820b57fe539b2c5a6c, 42a2bd596fda1baef5719cb74f73030c, 4293865e4ead3d446609086b4cfedb4f, 9f4a55260fae788c26fcbb2b934ffa52, 1eaf224c19e07b6e50bf0119eea1dd26]                                                                                                                                                                                                            |\n",
            "|11      |[a3a10562c9d134b92f04b8cce298d037, 61b6e5d2e3ee58d2b341b8ef1a652b26, ddbf57e4559f03c003fc3708d4860c5e, d80fce9f775927c7d602c2de926759f1]|[d64738c7b2e2d1778a51e835d8f02568, d3a386ad58b99f0ddcc216ed9efb03c3]                                                                                                                                                                                                                                                                                                                                                                                                                                                          |\n",
            "|12      |[064c975d37d3c646bd94d94c6e16f37e, a7bbff32c7321478b29f924301a1867d, 58f579bb52bea63fe1c6c39c2d4272d8, 24543438ec09114a42a153f76ae693f2]|[7b44e5ea770ef06810f5df89006cc8b2, 64ec83de8f0026319c8829351e3d6e23]                                                                                                                                                                                                                                                                                                                                                                                                                                                          |\n",
            "|13      |[4c6da5fa882447ab7e8d0fb767f8aa99]                                                                                                      |[c261f239575a146a38e4d4c72b58f403, d487634085fb3d1a632265c1e3de08c1]                                                                                                                                                                                                                                                                                                                                                                                                                                                          |\n",
            "|14      |[c2a9f8aeb7a51580fccc2d1c4f8bceaf]                                                                                                      |[0cf41187284d7f099adc8415a743ebbd, 19884358087155dcb193ae99f344fa30]                                                                                                                                                                                                                                                                                                                                                                                                                                                          |\n",
            "|15      |[ecfb5255f55715e1faec3e6a316da6c3]                                                                                                      |[95d4404184aa5ce72e590362cc471d62, fb98e86cfbfbff699907f0a84784d474, 8d37ee446981d3790967d0268d6cfc81, 8f41c6ba389c91b377bba94e332bf925, f303e2cdf0967ef1a153d12f2685d280]                                                                                                                                                                                                                                                                                                                                                    |\n",
            "|16      |[75bc68276acddf2f0940f421a54338ee, 274d4e727ddbeb7c392ea2e551e3a77d]                                                                    |[521527593ca1726b992318e034dd5690, a25583531530c0913ea4dee2c5c73685, 4650fae75d852ddfada4751f6f02481a, 0f6e214a2c5baab8c1ccb053a0829f13]                                                                                                                                                                                                                                                                                                                                                                                      |\n",
            "|17      |[d3ceda8c68fb31960dab19adf28e5c6d, fd471a043ee8b8dd27f4086495e0724c, 6d0a373c460a041c86167a92a5d3383e]                                  |[b3a397db9c6b4ddfed9d46f6fa03c65e, c858f88f3de50584c39e8b4fafdd7d61, dbe77c6f7f0935b442ef0c4df2ee3efe, 2196812e80b905c7071389c10ad035d3, 92473ca06aa61791e4dc02c9af82bf83]                                                                                                                                                                                                                                                                                                                                                    |\n",
            "|18      |[44f90f085c7a825863cbf867990e1513]                                                                                                      |[f0fe4af158ebc28426b794c0b54d3df1, 65e3848513c9ab70bf542e5d694cf072, 1fe8e6e01596885617fa1c90d29c2f81, 4c8541293fb2d3359cf52485b4d59b8e]                                                                                                                                                                                                                                                                                                                                                                                      |\n",
            "|19      |[271ce3fc018562e90257af8cd2af06bd]                                                                                                      |[62224b433a431310bf27129938ad9f64]                                                                                                                                                                                                                                                                                                                                                                                                                                                                                            |\n",
            "|20      |[21b524c4c060169fa75ccf08c7da4627, 678c229b41c0e497d35a25a8be1cc631, 0cf2faf9749f53924cea652a09d8e327, 4a5c3967bfd3629fe07ef4d0cc8c3818]|[5dae498eff2d80057f56122235a36aff, 1065e0ebef073787a7bf691924c60eeb, 5096e827f6152df3974343e735a52dc9, 0de59eddc63167215c972b0d785ffa7b, 309dd69eb83cea38c51709d62befe1a4, badbf5d003888b6338ea8774b4ac9717, d6fa8b99ed80bff9dcddd3fdefa6e68d, bf1a9a02e2160143755052e6bf59740f, 26facbccf840188b92bcc8cb89fe1f64, 507914b4af243e0589c389ac50545ef6, 5b1f3328a2c6f837ecce21bca1489939, 4c8fae70c244a7ff63b9c1f73fb0a987, a88124e0b1d42ca7b0813a78ff630437, 4255ef536732efe235477ace2dccd393, 18fa9cc25ea8b54f32d029f261673c0f]|\n",
            "+--------+----------------------------------------------------------------------------------------------------------------------------------------+------------------------------------------------------------------------------------------------------------------------------------------------------------------------------------------------------------------------------------------------------------------------------------------------------------------------------------------------------------------------------------------------------------------------------------------------------------------------------------------------------------------------------+\n",
            "\n"
          ],
          "name": "stdout"
        }
      ]
    },
    {
      "metadata": {
        "id": "xkY5YFv3EdJU",
        "colab_type": "text"
      },
      "cell_type": "markdown",
      "source": [
        "## Conclusion\n",
        "\n",
        "Lower `minConfidence` and `minSupport` values can discover more association rules, but may get predictions that have lower confidence value."
      ]
    },
    {
      "metadata": {
        "id": "Z-KTZ1dPCkJG",
        "colab_type": "text"
      },
      "cell_type": "markdown",
      "source": [
        "Easier to read version: [big-data-frequent-itemsets](https://colab.research.google.com/drive/1tmGcdJ9Yza_zA-hETMrpT-lJymWXKvZm)"
      ]
    }
  ]
}
