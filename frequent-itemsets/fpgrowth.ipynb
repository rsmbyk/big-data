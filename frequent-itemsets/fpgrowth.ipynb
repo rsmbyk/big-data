{
  "nbformat": 4,
  "nbformat_minor": 0,
  "metadata": {
    "colab": {
      "name": "big-data-frequent-itemsets.ipynb",
      "version": "0.3.2",
      "provenance": [],
      "collapsed_sections": []
    },
    "kernelspec": {
      "name": "python3",
      "display_name": "Python 3"
    }
  },
  "cells": [
    {
      "metadata": {
        "id": "gskeKXO1UgbG",
        "colab_type": "code",
        "outputId": "cae23280-93d9-4d41-cb3f-e00b8a3d1c59",
        "colab": {
          "base_uri": "https://localhost:8080/",
          "height": 595
        }
      },
      "cell_type": "code",
      "source": [
        "# Prerequisite for linux\n",
        "\n",
        "!apt-get -y install openjdk-8-jdk-headless\n",
        "!wget http://apache.osuosl.org/spark/spark-2.4.1/spark-2.4.1-bin-hadoop2.7.tgz\n",
        "!tar xf spark-2.4.1-bin-hadoop2.7.tgz\n",
        "!pip install findspark kaggle"
      ],
      "execution_count": 1,
      "outputs": [
        {
          "output_type": "stream",
          "text": [
            "Reading package lists... Done\n",
            "Building dependency tree       \n",
            "Reading state information... Done\n",
            "openjdk-8-jdk-headless is already the newest version (8u191-b12-2ubuntu0.18.04.1).\n",
            "The following package was automatically installed and is no longer required:\n",
            "  libnvidia-common-410\n",
            "Use 'apt autoremove' to remove it.\n",
            "0 upgraded, 0 newly installed, 0 to remove and 6 not upgraded.\n",
            "--2019-04-10 09:56:52--  http://apache.osuosl.org/spark/spark-2.4.1/spark-2.4.1-bin-hadoop2.7.tgz\n",
            "Resolving apache.osuosl.org (apache.osuosl.org)... 64.50.233.100, 64.50.236.52, 140.211.166.134, ...\n",
            "Connecting to apache.osuosl.org (apache.osuosl.org)|64.50.233.100|:80... connected.\n",
            "HTTP request sent, awaiting response... 200 OK\n",
            "Length: 230778742 (220M) [application/x-gzip]\n",
            "Saving to: ‘spark-2.4.1-bin-hadoop2.7.tgz’\n",
            "\n",
            "spark-2.4.1-bin-had 100%[===================>] 220.09M  26.6MB/s    in 16s     \n",
            "\n",
            "2019-04-10 09:57:08 (13.9 MB/s) - ‘spark-2.4.1-bin-hadoop2.7.tgz’ saved [230778742/230778742]\n",
            "\n",
            "Collecting findspark\n",
            "  Downloading https://files.pythonhosted.org/packages/b1/c8/e6e1f6a303ae5122dc28d131b5a67c5eb87cbf8f7ac5b9f87764ea1b1e1e/findspark-1.3.0-py2.py3-none-any.whl\n",
            "Requirement already satisfied: kaggle in /usr/local/lib/python3.6/dist-packages (1.5.3)\n",
            "Requirement already satisfied: urllib3<1.25,>=1.21.1 in /usr/local/lib/python3.6/dist-packages (from kaggle) (1.22)\n",
            "Requirement already satisfied: six>=1.10 in /usr/local/lib/python3.6/dist-packages (from kaggle) (1.11.0)\n",
            "Requirement already satisfied: certifi in /usr/local/lib/python3.6/dist-packages (from kaggle) (2019.3.9)\n",
            "Requirement already satisfied: python-dateutil in /usr/local/lib/python3.6/dist-packages (from kaggle) (2.5.3)\n",
            "Requirement already satisfied: requests in /usr/local/lib/python3.6/dist-packages (from kaggle) (2.18.4)\n",
            "Requirement already satisfied: tqdm in /usr/local/lib/python3.6/dist-packages (from kaggle) (4.28.1)\n",
            "Requirement already satisfied: python-slugify in /usr/local/lib/python3.6/dist-packages (from kaggle) (3.0.2)\n",
            "Requirement already satisfied: chardet<3.1.0,>=3.0.2 in /usr/local/lib/python3.6/dist-packages (from requests->kaggle) (3.0.4)\n",
            "Requirement already satisfied: idna<2.7,>=2.5 in /usr/local/lib/python3.6/dist-packages (from requests->kaggle) (2.6)\n",
            "Requirement already satisfied: text-unidecode==1.2 in /usr/local/lib/python3.6/dist-packages (from python-slugify->kaggle) (1.2)\n",
            "Installing collected packages: findspark\n",
            "Successfully installed findspark-1.3.0\n"
          ],
          "name": "stdout"
        }
      ]
    },
    {
      "metadata": {
        "id": "rFiQ4zH5VCU1",
        "colab_type": "code",
        "colab": {
          "base_uri": "https://localhost:8080/",
          "height": 85
        },
        "outputId": "fbecbf5b-0e3e-4d2f-e279-e1e7c941c657"
      },
      "cell_type": "code",
      "source": [
        "import os\n",
        "\n",
        "# setup environment variables\n",
        "os.environ[\"JAVA_HOME\"] = '/usr/lib/jvm/java-8-openjdk-amd64'\n",
        "os.environ[\"SPARK_HOME\"] = '/content/spark-2.4.1-bin-hadoop2.7'\n",
        "os.environ['KAGGLE_USERNAME'] = 'ronaldsumbayak'\n",
        "os.environ['KAGGLE_KEY'] = '771009dffffa0cd0883d5fb98594d756'\n",
        "\n",
        "# verify\n",
        "print(os.environ['JAVA_HOME'])\n",
        "print(os.environ['SPARK_HOME'])\n",
        "print(os.environ['KAGGLE_USERNAME'])\n",
        "print(os.environ['KAGGLE_KEY'])"
      ],
      "execution_count": 2,
      "outputs": [
        {
          "output_type": "stream",
          "text": [
            "/usr/lib/jvm/java-8-openjdk-amd64\n",
            "/content/spark-2.4.1-bin-hadoop2.7\n",
            "ronaldsumbayak\n",
            "771009dffffa0cd0883d5fb98594d756\n"
          ],
          "name": "stdout"
        }
      ]
    },
    {
      "metadata": {
        "id": "QRfDV_jQUxjr",
        "colab_type": "code",
        "outputId": "8be7fe4e-273c-403a-b081-228fd905bb8a",
        "colab": {
          "base_uri": "https://localhost:8080/",
          "height": 238
        }
      },
      "cell_type": "code",
      "source": [
        "!kaggle datasets download -d olistbr/brazilian-ecommerce\n",
        "!unzip brazilian-ecommerce.zip -d data"
      ],
      "execution_count": 3,
      "outputs": [
        {
          "output_type": "stream",
          "text": [
            "Downloading brazilian-ecommerce.zip to /content\n",
            " 78% 33.0M/42.4M [00:00<00:00, 37.0MB/s]\n",
            "100% 42.4M/42.4M [00:00<00:00, 66.8MB/s]\n",
            "Archive:  brazilian-ecommerce.zip\n",
            "  inflating: data/olist_customers_dataset.csv  \n",
            "  inflating: data/olist_sellers_dataset.csv  \n",
            "  inflating: data/olist_order_reviews_dataset.csv  \n",
            "  inflating: data/olist_order_payments_dataset.csv  \n",
            "  inflating: data/product_category_name_translation.csv  \n",
            "  inflating: data/olist_products_dataset.csv  \n",
            "  inflating: data/olist_order_items_dataset.csv  \n",
            "  inflating: data/olist_orders_dataset.csv  \n",
            "  inflating: data/olist_geolocation_dataset.csv  \n"
          ],
          "name": "stdout"
        }
      ]
    },
    {
      "metadata": {
        "id": "ULvVPzKYVJt-",
        "colab_type": "code",
        "colab": {}
      },
      "cell_type": "code",
      "source": [
        "import findspark\n",
        "findspark.init()"
      ],
      "execution_count": 0,
      "outputs": []
    },
    {
      "metadata": {
        "id": "xJ93WptjVgOV",
        "colab_type": "code",
        "colab": {}
      },
      "cell_type": "code",
      "source": [
        "from pyspark.sql import SparkSession\n",
        "spark = SparkSession.builder.master('local[*]').getOrCreate()"
      ],
      "execution_count": 0,
      "outputs": []
    },
    {
      "metadata": {
        "id": "cbKUDwViV6Q2",
        "colab_type": "code",
        "colab": {}
      },
      "cell_type": "code",
      "source": [
        "orders = spark.read.csv('data/olist_orders_dataset.csv', header=True)\n",
        "order_items = spark.read.csv('data/olist_order_items_dataset.csv', header=True)\n",
        "products = spark.read.csv('data/olist_products_dataset.csv', header=True)"
      ],
      "execution_count": 0,
      "outputs": []
    },
    {
      "metadata": {
        "id": "Zug5y6ssWkgP",
        "colab_type": "code",
        "outputId": "b0a4ca1d-3401-4dbc-f56f-62657ca3d65b",
        "colab": {
          "base_uri": "https://localhost:8080/",
          "height": 68
        }
      },
      "cell_type": "code",
      "source": [
        "print('Orders      :  {} rows'.format(orders.count()))\n",
        "print('Order Items : {} rows'.format(order_items.count()))\n",
        "print('Products    :  {} rows'.format(products.count()))"
      ],
      "execution_count": 7,
      "outputs": [
        {
          "output_type": "stream",
          "text": [
            "Orders      :  99441 rows\n",
            "Order Items : 112650 rows\n",
            "Products    :  32951 rows\n"
          ],
          "name": "stdout"
        }
      ]
    },
    {
      "metadata": {
        "id": "Fq-mDPkBYY5Z",
        "colab_type": "code",
        "colab": {
          "base_uri": "https://localhost:8080/",
          "height": 187
        },
        "outputId": "0c7754ec-ceef-44bd-ca54-a53563a1e573"
      },
      "cell_type": "code",
      "source": [
        "orders.printSchema()"
      ],
      "execution_count": 8,
      "outputs": [
        {
          "output_type": "stream",
          "text": [
            "root\n",
            " |-- order_id: string (nullable = true)\n",
            " |-- customer_id: string (nullable = true)\n",
            " |-- order_status: string (nullable = true)\n",
            " |-- order_purchase_timestamp: string (nullable = true)\n",
            " |-- order_approved_at: string (nullable = true)\n",
            " |-- order_delivered_carrier_date: string (nullable = true)\n",
            " |-- order_delivered_customer_date: string (nullable = true)\n",
            " |-- order_estimated_delivery_date: string (nullable = true)\n",
            "\n"
          ],
          "name": "stdout"
        }
      ]
    },
    {
      "metadata": {
        "id": "fYq4wsbQYben",
        "colab_type": "code",
        "colab": {
          "base_uri": "https://localhost:8080/",
          "height": 170
        },
        "outputId": "7f8bc8ac-e50f-40af-c995-d0459c99eeeb"
      },
      "cell_type": "code",
      "source": [
        "order_items.printSchema()"
      ],
      "execution_count": 9,
      "outputs": [
        {
          "output_type": "stream",
          "text": [
            "root\n",
            " |-- order_id: string (nullable = true)\n",
            " |-- order_item_id: string (nullable = true)\n",
            " |-- product_id: string (nullable = true)\n",
            " |-- seller_id: string (nullable = true)\n",
            " |-- shipping_limit_date: string (nullable = true)\n",
            " |-- price: string (nullable = true)\n",
            " |-- freight_value: string (nullable = true)\n",
            "\n"
          ],
          "name": "stdout"
        }
      ]
    },
    {
      "metadata": {
        "id": "BDdov7JqYeSa",
        "colab_type": "code",
        "colab": {
          "base_uri": "https://localhost:8080/",
          "height": 204
        },
        "outputId": "838358b8-ce1f-4a3f-c0d4-d4cbdb73dcb8"
      },
      "cell_type": "code",
      "source": [
        "products.printSchema()"
      ],
      "execution_count": 10,
      "outputs": [
        {
          "output_type": "stream",
          "text": [
            "root\n",
            " |-- product_id: string (nullable = true)\n",
            " |-- product_category_name: string (nullable = true)\n",
            " |-- product_name_lenght: string (nullable = true)\n",
            " |-- product_description_lenght: string (nullable = true)\n",
            " |-- product_photos_qty: string (nullable = true)\n",
            " |-- product_weight_g: string (nullable = true)\n",
            " |-- product_length_cm: string (nullable = true)\n",
            " |-- product_height_cm: string (nullable = true)\n",
            " |-- product_width_cm: string (nullable = true)\n",
            "\n"
          ],
          "name": "stdout"
        }
      ]
    },
    {
      "metadata": {
        "id": "vDPRHNy__n3h",
        "colab_type": "code",
        "outputId": "9adc8ec7-f7e0-4a21-a52c-e6db9030fd11",
        "colab": {
          "base_uri": "https://localhost:8080/",
          "height": 309
        }
      },
      "cell_type": "code",
      "source": [
        "orders.show(10, truncate=False)"
      ],
      "execution_count": 11,
      "outputs": [
        {
          "output_type": "stream",
          "text": [
            "+--------------------------------+--------------------------------+------------+------------------------+-------------------+----------------------------+-----------------------------+-----------------------------+\n",
            "|order_id                        |customer_id                     |order_status|order_purchase_timestamp|order_approved_at  |order_delivered_carrier_date|order_delivered_customer_date|order_estimated_delivery_date|\n",
            "+--------------------------------+--------------------------------+------------+------------------------+-------------------+----------------------------+-----------------------------+-----------------------------+\n",
            "|e481f51cbdc54678b7cc49136f2d6af7|9ef432eb6251297304e76186b10a928d|delivered   |2017-10-02 10:56:33     |2017-10-02 11:07:15|2017-10-04 19:55:00         |2017-10-10 21:25:13          |2017-10-18 00:00:00          |\n",
            "|53cdb2fc8bc7dce0b6741e2150273451|b0830fb4747a6c6d20dea0b8c802d7ef|delivered   |2018-07-24 20:41:37     |2018-07-26 03:24:27|2018-07-26 14:31:00         |2018-08-07 15:27:45          |2018-08-13 00:00:00          |\n",
            "|47770eb9100c2d0c44946d9cf07ec65d|41ce2a54c0b03bf3443c3d931a367089|delivered   |2018-08-08 08:38:49     |2018-08-08 08:55:23|2018-08-08 13:50:00         |2018-08-17 18:06:29          |2018-09-04 00:00:00          |\n",
            "|949d5b44dbf5de918fe9c16f97b45f8a|f88197465ea7920adcdbec7375364d82|delivered   |2017-11-18 19:28:06     |2017-11-18 19:45:59|2017-11-22 13:39:59         |2017-12-02 00:28:42          |2017-12-15 00:00:00          |\n",
            "|ad21c59c0840e6cb83a9ceb5573f8159|8ab97904e6daea8866dbdbc4fb7aad2c|delivered   |2018-02-13 21:18:39     |2018-02-13 22:20:29|2018-02-14 19:46:34         |2018-02-16 18:17:02          |2018-02-26 00:00:00          |\n",
            "|a4591c265e18cb1dcee52889e2d8acc3|503740e9ca751ccdda7ba28e9ab8f608|delivered   |2017-07-09 21:57:05     |2017-07-09 22:10:13|2017-07-11 14:58:04         |2017-07-26 10:57:55          |2017-08-01 00:00:00          |\n",
            "|136cce7faa42fdb2cefd53fdc79a6098|ed0271e0b7da060a393796590e7b737a|invoiced    |2017-04-11 12:22:08     |2017-04-13 13:25:17|null                        |null                         |2017-05-09 00:00:00          |\n",
            "|6514b8ad8028c9f2cc2374ded245783f|9bdf08b4b3b52b5526ff42d37d47f222|delivered   |2017-05-16 13:10:30     |2017-05-16 13:22:11|2017-05-22 10:07:46         |2017-05-26 12:55:51          |2017-06-07 00:00:00          |\n",
            "|76c6e866289321a7c93b82b54852dc33|f54a9f0e6b351c431402b8461ea51999|delivered   |2017-01-23 18:29:09     |2017-01-25 02:50:47|2017-01-26 14:16:31         |2017-02-02 14:08:10          |2017-03-06 00:00:00          |\n",
            "|e69bfb5eb88e0ed6a785585b27e16dbf|31ad1d1b63eb9962463f764d4e6e0c9d|delivered   |2017-07-29 11:55:02     |2017-07-29 12:05:32|2017-08-10 19:45:24         |2017-08-16 17:14:30          |2017-08-23 00:00:00          |\n",
            "+--------------------------------+--------------------------------+------------+------------------------+-------------------+----------------------------+-----------------------------+-----------------------------+\n",
            "only showing top 10 rows\n",
            "\n"
          ],
          "name": "stdout"
        }
      ]
    },
    {
      "metadata": {
        "id": "Lphehv6mWwLR",
        "colab_type": "code",
        "outputId": "45f8b821-888d-4fe8-be82-64fc9d8eba5f",
        "colab": {
          "base_uri": "https://localhost:8080/",
          "height": 289
        }
      },
      "cell_type": "code",
      "source": [
        "order_items.show(10, truncate=False)"
      ],
      "execution_count": 12,
      "outputs": [
        {
          "output_type": "stream",
          "text": [
            "+--------------------------------+-------------+--------------------------------+--------------------------------+-------------------+------+-------------+\n",
            "|order_id                        |order_item_id|product_id                      |seller_id                       |shipping_limit_date|price |freight_value|\n",
            "+--------------------------------+-------------+--------------------------------+--------------------------------+-------------------+------+-------------+\n",
            "|00010242fe8c5a6d1ba2dd792cb16214|1            |4244733e06e7ecb4970a6e2683c13e61|48436dade18ac8b2bce089ec2a041202|2017-09-19 09:45:35|58.90 |13.29        |\n",
            "|00018f77f2f0320c557190d7a144bdd3|1            |e5f2d52b802189ee658865ca93d83a8f|dd7ddc04e1b6c2c614352b383efe2d36|2017-05-03 11:05:13|239.90|19.93        |\n",
            "|000229ec398224ef6ca0657da4fc703e|1            |c777355d18b72b67abbeef9df44fd0fd|5b51032eddd242adc84c38acab88f23d|2018-01-18 14:48:30|199.00|17.87        |\n",
            "|00024acbcdf0a6daa1e931b038114c75|1            |7634da152a4610f1595efa32f14722fc|9d7a1d34a5052409006425275ba1c2b4|2018-08-15 10:10:18|12.99 |12.79        |\n",
            "|00042b26cf59d7ce69dfabb4e55b4fd9|1            |ac6c3623068f30de03045865e4e10089|df560393f3a51e74553ab94004ba5c87|2017-02-13 13:57:51|199.90|18.14        |\n",
            "|00048cc3ae777c65dbb7d2a0634bc1ea|1            |ef92defde845ab8450f9d70c526ef70f|6426d21aca402a131fc0a5d0960a3c90|2017-05-23 03:55:27|21.90 |12.69        |\n",
            "|00054e8431b9d7675808bcb819fb4a32|1            |8d4f2bb7e93e6710a28f34fa83ee7d28|7040e82f899a04d1b434b795a43b4617|2017-12-14 12:10:31|19.90 |11.85        |\n",
            "|000576fe39319847cbb9d288c5617fa6|1            |557d850972a7d6f792fd18ae1400d9b6|5996cddab893a4652a15592fb58ab8db|2018-07-10 12:30:45|810.00|70.75        |\n",
            "|0005a1a1728c9d785b8e2b08b904576c|1            |310ae3c140ff94b03219ad0adc3c778f|a416b6a846a11724393025641d4edd5e|2018-03-26 18:31:29|145.95|11.65        |\n",
            "|0005f50442cb953dcd1d21e1fb923495|1            |4535b0e1091c278dfd193e5a1d63b39f|ba143b05f0110f0dc71ad71b4466ce92|2018-07-06 14:10:56|53.99 |11.40        |\n",
            "+--------------------------------+-------------+--------------------------------+--------------------------------+-------------------+------+-------------+\n",
            "only showing top 10 rows\n",
            "\n"
          ],
          "name": "stdout"
        }
      ]
    },
    {
      "metadata": {
        "id": "wTDGe-5RXJ58",
        "colab_type": "code",
        "outputId": "d368938c-c842-443a-91cb-992773d123e5",
        "colab": {
          "base_uri": "https://localhost:8080/",
          "height": 309
        }
      },
      "cell_type": "code",
      "source": [
        "products.show(10, truncate=False)"
      ],
      "execution_count": 13,
      "outputs": [
        {
          "output_type": "stream",
          "text": [
            "+--------------------------------+---------------------+-------------------+--------------------------+------------------+----------------+-----------------+-----------------+----------------+\n",
            "|product_id                      |product_category_name|product_name_lenght|product_description_lenght|product_photos_qty|product_weight_g|product_length_cm|product_height_cm|product_width_cm|\n",
            "+--------------------------------+---------------------+-------------------+--------------------------+------------------+----------------+-----------------+-----------------+----------------+\n",
            "|1e9e8ef04dbcff4541ed26657ea517e5|perfumaria           |40                 |287                       |1                 |225             |16               |10               |14              |\n",
            "|3aa071139cb16b67ca9e5dea641aaa2f|artes                |44                 |276                       |1                 |1000            |30               |18               |20              |\n",
            "|96bd76ec8810374ed1b65e291975717f|esporte_lazer        |46                 |250                       |1                 |154             |18               |9                |15              |\n",
            "|cef67bcfe19066a932b7673e239eb23d|bebes                |27                 |261                       |1                 |371             |26               |4                |26              |\n",
            "|9dc1a7de274444849c219cff195d0b71|utilidades_domesticas|37                 |402                       |4                 |625             |20               |17               |13              |\n",
            "|41d3672d4792049fa1779bb35283ed13|instrumentos_musicais|60                 |745                       |1                 |200             |38               |5                |11              |\n",
            "|732bd381ad09e530fe0a5f457d81becb|cool_stuff           |56                 |1272                      |4                 |18350           |70               |24               |44              |\n",
            "|2548af3e6e77a690cf3eb6368e9ab61e|moveis_decoracao     |56                 |184                       |2                 |900             |40               |8                |40              |\n",
            "|37cc742be07708b53a98702e77a21a02|eletrodomesticos     |57                 |163                       |1                 |400             |27               |13               |17              |\n",
            "|8c92109888e8cdf9d66dc7e463025574|brinquedos           |36                 |1156                      |1                 |600             |17               |10               |12              |\n",
            "+--------------------------------+---------------------+-------------------+--------------------------+------------------+----------------+-----------------+-----------------+----------------+\n",
            "only showing top 10 rows\n",
            "\n"
          ],
          "name": "stdout"
        }
      ]
    },
    {
      "metadata": {
        "id": "Ef5A0FxZdKBL",
        "colab_type": "code",
        "colab": {}
      },
      "cell_type": "code",
      "source": [
        "# Remove duplicate pair of (order_id, product_id) to avoid\n",
        "# error FPGrowth algorithm can't take duplicate\n",
        "# item in the same row\n",
        "distinct_order_items = order_items.select('order_id', 'product_id').distinct()"
      ],
      "execution_count": 0,
      "outputs": []
    },
    {
      "metadata": {
        "id": "JvWHm0FXdfyD",
        "colab_type": "code",
        "colab": {
          "base_uri": "https://localhost:8080/",
          "height": 34
        },
        "outputId": "7947f778-3d42-4912-cd8c-e1a8629065cc"
      },
      "cell_type": "code",
      "source": [
        "distinct_order_items.count()"
      ],
      "execution_count": 15,
      "outputs": [
        {
          "output_type": "execute_result",
          "data": {
            "text/plain": [
              "102425"
            ]
          },
          "metadata": {
            "tags": []
          },
          "execution_count": 15
        }
      ]
    },
    {
      "metadata": {
        "id": "sPKyZYq0IurX",
        "colab_type": "code",
        "colab": {}
      },
      "cell_type": "code",
      "source": [
        "import pyspark.sql.functions as F"
      ],
      "execution_count": 0,
      "outputs": []
    },
    {
      "metadata": {
        "id": "vIi3C18QaSio",
        "colab_type": "code",
        "colab": {}
      },
      "cell_type": "code",
      "source": [
        "# Group items of same order together\n",
        "data = (distinct_order_items.groupby('order_id')\n",
        "                            .agg(F.collect_list('product_id').alias('items')))"
      ],
      "execution_count": 0,
      "outputs": []
    },
    {
      "metadata": {
        "id": "wy2yLLEbc9wj",
        "colab_type": "code",
        "colab": {
          "base_uri": "https://localhost:8080/",
          "height": 34
        },
        "outputId": "1e4b849b-712c-4b9d-8c5b-aa900f20cee5"
      },
      "cell_type": "code",
      "source": [
        "data.count()"
      ],
      "execution_count": 18,
      "outputs": [
        {
          "output_type": "execute_result",
          "data": {
            "text/plain": [
              "98666"
            ]
          },
          "metadata": {
            "tags": []
          },
          "execution_count": 18
        }
      ]
    },
    {
      "metadata": {
        "id": "Fhp9jDEMarNk",
        "colab_type": "code",
        "colab": {
          "base_uri": "https://localhost:8080/",
          "height": 102
        },
        "outputId": "b0a412c8-14ab-48a5-d14d-cc3e60095a2a"
      },
      "cell_type": "code",
      "source": [
        "data.printSchema()"
      ],
      "execution_count": 19,
      "outputs": [
        {
          "output_type": "stream",
          "text": [
            "root\n",
            " |-- order_id: string (nullable = true)\n",
            " |-- items: array (nullable = true)\n",
            " |    |-- element: string (containsNull = true)\n",
            "\n"
          ],
          "name": "stdout"
        }
      ]
    },
    {
      "metadata": {
        "id": "tHkIstsJZVkU",
        "colab_type": "code",
        "colab": {
          "base_uri": "https://localhost:8080/",
          "height": 459
        },
        "outputId": "3102c6a1-2a3b-4e0f-96db-18f164714ce1"
      },
      "cell_type": "code",
      "source": [
        "data.show(truncate=False)"
      ],
      "execution_count": 20,
      "outputs": [
        {
          "output_type": "stream",
          "text": [
            "+--------------------------------+--------------------------------------------------------------------+\n",
            "|order_id                        |items                                                               |\n",
            "+--------------------------------+--------------------------------------------------------------------+\n",
            "|014405982914c2cde2796ddcf0b8703d|[e95ee6822b66ac6058e2e4aff656071a, 6782d593f63105318f46bbf7633279bf]|\n",
            "|019886de8f385a39b75bedbb726fd4ef|[e9a69340883a438c3f91739d14d3a56d]                                  |\n",
            "|01a6ad782455876aa89081449d49c452|[036734b5a58d5d4f46b0616ddc047ced]                                  |\n",
            "|01d907b3e209269e120a365fc2b97524|[b1434a8f79cb3528540d9b21e686e823]                                  |\n",
            "|028dc52e12ddda803ec1e35eb0b7b0d9|[d86a6c48f83b045cbba6df84926a1f25]                                  |\n",
            "|036dd381dfb3ec75e0a63e14828cc871|[aa8d88eb4b9cb38894e33fa624c4287f]                                  |\n",
            "|03ebfa9712b7dbc7031291856263b314|[aa6746e94490239d3d9ee6ab89779aba]                                  |\n",
            "|0420da8d50a3784011290a782f25a8a8|[5ca739ddd646d1ba53cca4e3c099a953]                                  |\n",
            "|05afef1c185862cab9062b322ff25cc5|[ac7e981115ad47f0e051f1b8b97e73b1]                                  |\n",
            "|05bef443b850685058070c9e781988e8|[44e086c4a977f37a888627b43880586c]                                  |\n",
            "|05d46826bd0fb605d6b00e30e9141882|[e84d1a4a08db13e8dea6d400a1c6a3f0]                                  |\n",
            "|06fec3f6e9e72edb698e63c30a8f027f|[8562e2c780a345b609e1b802d7e3e4ae]                                  |\n",
            "|077700dcf4e3bb4128459fc825a4056c|[6cd0d08f09a8b32450fd32de16265a74]                                  |\n",
            "|078c2d9bb7e5905e870838448db0d3b3|[ce5a5a85a0704113bd7fd75b3fbaed71, d59349a33fcba18707a61aa852c02c5b]|\n",
            "|08791ec24b12af5af099ce45bdf3a396|[11250b0d4b709fee92441c5f34122aed]                                  |\n",
            "|08b450b388221bfe5472ed23887a7564|[9a803c36a15de3fd981f42c0e4cabdea]                                  |\n",
            "|0957ed870116e596b800540427c61497|[5b8423dc7f23089c9c59c5d140eb5a1c]                                  |\n",
            "|09868b0eb512bfbbe98900f16d79d055|[f35927953ed82e19d06ad3aac2f06353]                                  |\n",
            "|099d60cb800db65a72d355528bb7f41e|[4621f88827b983332c2a833d49c2ae35]                                  |\n",
            "|09e90e3936db197d43b9bde1291c307d|[e4c7ed7a832858c17d60ad5e38b00aba]                                  |\n",
            "+--------------------------------+--------------------------------------------------------------------+\n",
            "only showing top 20 rows\n",
            "\n"
          ],
          "name": "stdout"
        }
      ]
    },
    {
      "metadata": {
        "id": "8xauF49obEVU",
        "colab_type": "code",
        "colab": {}
      },
      "cell_type": "code",
      "source": [
        "from pyspark.ml.fpm import FPGrowth"
      ],
      "execution_count": 0,
      "outputs": []
    },
    {
      "metadata": {
        "id": "GOJDxxLxb6mf",
        "colab_type": "code",
        "colab": {}
      },
      "cell_type": "code",
      "source": [
        "# Seems like this dataset does not suit well with FPGrowth.\n",
        "# minSupport and minConfidence needs to be lowered down to\n",
        "# a really low value in order to get a proper associationRules.\n",
        "\n",
        "fp = FPGrowth(minSupport=0.00005, minConfidence=0.00005)"
      ],
      "execution_count": 0,
      "outputs": []
    },
    {
      "metadata": {
        "id": "98wgwnAncEwA",
        "colab_type": "code",
        "colab": {}
      },
      "cell_type": "code",
      "source": [
        "# Fit the model\n",
        "fpm = fp.fit(data)"
      ],
      "execution_count": 0,
      "outputs": []
    },
    {
      "metadata": {
        "id": "bSq8hUlnd1qD",
        "colab_type": "code",
        "colab": {
          "base_uri": "https://localhost:8080/",
          "height": 459
        },
        "outputId": "48be063e-f1d9-43ad-f7d1-bdd8aeb07866"
      },
      "cell_type": "code",
      "source": [
        "fpm.freqItemsets.show(truncate=False)"
      ],
      "execution_count": 24,
      "outputs": [
        {
          "output_type": "stream",
          "text": [
            "+----------------------------------+----+\n",
            "|items                             |freq|\n",
            "+----------------------------------+----+\n",
            "|[a4aa7c1427c31344e5f7cc3d839fe562]|42  |\n",
            "|[632c37951cab36a4e928428cbc4fa4f4]|5   |\n",
            "|[b60856ce32d90658dbf99b9485327c25]|26  |\n",
            "|[33fac76e7f17367dedaef7954bbb33b4]|20  |\n",
            "|[03bb06cda40712fb8473f7962fb7d198]|8   |\n",
            "|[20a64c9ab614812a2634ebbd69bb4a02]|8   |\n",
            "|[c18ac1d6cc053c0ec7296b994ae6ffeb]|7   |\n",
            "|[71fc2a7d96a222b04e4131cfc006f265]|5   |\n",
            "|[6b42b1f7dfb74bb23a01605fbedd5b85]|5   |\n",
            "|[5e53af05c040b01584b81b3549945faf]|16  |\n",
            "|[be1c4cf8a2d2aade623eb7a646d2a0bc]|14  |\n",
            "|[f89cd865cac300a9bf1320dd8f0fa223]|12  |\n",
            "|[a5e28e21acf7c99188ad33f688f18837]|7   |\n",
            "|[d3b023772520cd1c6ea58f6701679d4b]|6   |\n",
            "|[3a7d90845985f39048815a6939c56be4]|6   |\n",
            "|[00878d953636afec00d3e85d55a12e7f]|11  |\n",
            "|[2ff17002562478fb03cd44f09e7ca51a]|10  |\n",
            "|[fa3bc8d73fe3b0ec061190651433a417]|6   |\n",
            "|[11fb16e86df4d50cd2c289ede0b70f42]|9   |\n",
            "|[a883c6cc6b971869a2c962f76fb73ab1]|5   |\n",
            "+----------------------------------+----+\n",
            "only showing top 20 rows\n",
            "\n"
          ],
          "name": "stdout"
        }
      ]
    },
    {
      "metadata": {
        "id": "N2MjeCN1eDB6",
        "colab_type": "code",
        "colab": {
          "base_uri": "https://localhost:8080/",
          "height": 459
        },
        "outputId": "86099825-fe42-49d2-9702-b826a41b2e85"
      },
      "cell_type": "code",
      "source": [
        "fpm.associationRules.show(truncate=False)"
      ],
      "execution_count": 25,
      "outputs": [
        {
          "output_type": "stream",
          "text": [
            "+----------------------------------+----------------------------------+--------------------+------------------+\n",
            "|antecedent                        |consequent                        |confidence          |lift              |\n",
            "+----------------------------------+----------------------------------+--------------------+------------------+\n",
            "|[3f14d740544f37ece8a9e7bc8349797e]|[36f60d45225e60c7da4558b070ce4b60]|0.14814814814814814 |131.68635301968632|\n",
            "|[0aabfb375647d9738ad0f7b4ea3653b1]|[6c3effec7c8ddba466d4f03f982c7aa3]|0.036231884057971016|38.030373111316685|\n",
            "|[5d790355cbeded0cd60e25cbc4c527a2]|[5fc3e6a4b52b0c414458104ed4037f1c]|0.375               |1947.3552631578946|\n",
            "|[4d0ec1e9b95fb62f9a1fbe21808bf3b1]|[9ad75bd7267e5c724cb42c71ac56ca72]|0.46153846153846156 |1084.2417582417584|\n",
            "|[ee57070aa3b24a06fdd0e02efd2d757d]|[0d85c435fd60b277ffb9e9b0f88f927a]|0.2608695652173913  |408.55486542443066|\n",
            "|[18486698933fbb64af6c0a255f7dd64c]|[dbb67791e405873b259e4656bf971246]|0.4117647058823529  |625.0334841628959 |\n",
            "|[35afc973633aaeb6b877ff57b2793310]|[99a4788cb24856965c36a24e339b6058]|0.1858974358974359  |39.27570965793664 |\n",
            "|[99a4788cb24856965c36a24e339b6058]|[35afc973633aaeb6b877ff57b2793310]|0.06209850107066381 |39.27570965793664 |\n",
            "|[99a4788cb24856965c36a24e339b6058]|[f2e53dd1670f3c376518263b3f71424d]|0.01284796573875803 |45.273478127867854|\n",
            "|[e53e557d5a159f5aa2c5e995dfdf244b]|[36f60d45225e60c7da4558b070ce4b60]|0.21794871794871795 |193.73088473088472|\n",
            "|[53759a2ecddad2bb87a079a1f1519f73]|[422879e10f46682990de24d770e7f83d]|0.024390243902439025|6.836613082039912 |\n",
            "|[53759a2ecddad2bb87a079a1f1519f73]|[389d119b48cf3043d311335e499d9c6b]|0.0313588850174216  |9.94873231231164  |\n",
            "|[53759a2ecddad2bb87a079a1f1519f73]|[368c6c730842d78016ad823897a372db]|0.027874564459930314|9.451105762898571 |\n",
            "|[b7d94dc0640c7025dc8e3b46b52d8239]|[3ce943997ff85cad84ec6770b35d6bcd]|0.5                 |6166.625          |\n",
            "|[946344697156947d846d27fe0d503033]|[ad0a798e7941f3a5a2fb8139cb62ad78]|0.4                 |3288.866666666667 |\n",
            "|[36f60d45225e60c7da4558b070ce4b60]|[e53e557d5a159f5aa2c5e995dfdf244b]|0.3063063063063063  |193.73088473088472|\n",
            "|[36f60d45225e60c7da4558b070ce4b60]|[3f14d740544f37ece8a9e7bc8349797e]|0.10810810810810811 |131.68635301968635|\n",
            "|[e6b314a2236c162ede1a879f1075430f]|[ad4b5def91ac7c575dbdf65b5be311f4]|0.6666666666666666  |7308.592592592592 |\n",
            "|[389d119b48cf3043d311335e499d9c6b]|[422879e10f46682990de24d770e7f83d]|0.03536977491961415 |9.91418810289389  |\n",
            "|[389d119b48cf3043d311335e499d9c6b]|[368c6c730842d78016ad823897a372db]|0.01607717041800643 |5.451099987845438 |\n",
            "+----------------------------------+----------------------------------+--------------------+------------------+\n",
            "only showing top 20 rows\n",
            "\n"
          ],
          "name": "stdout"
        }
      ]
    },
    {
      "metadata": {
        "id": "ieFYY_anEAvf",
        "colab_type": "code",
        "colab": {}
      },
      "cell_type": "code",
      "source": [
        "def get_random_items(n):\n",
        "    \"\"\"\n",
        "    This function will be used to retrieve items from\n",
        "    FPGrowth model's association rules to make sure we\n",
        "    get items that has prediction.\n",
        "    \"\"\"\n",
        "    items = fpm.associationRules \\\n",
        "               .select('antecedent') \\\n",
        "               .orderBy(F.rand()) \\\n",
        "               .limit(n) \\\n",
        "               .collect()\n",
        "    return list(map(lambda x: x[0], items))"
      ],
      "execution_count": 0,
      "outputs": []
    },
    {
      "metadata": {
        "id": "NwQ4Kj1Xghbn",
        "colab_type": "code",
        "colab": {}
      },
      "cell_type": "code",
      "source": [
        "# Crate fake orders for testing\n",
        "fake_orders_n = 20\n",
        "fake_orders_id = range(1, fake_orders_n+1)\n",
        "fake_orders_items = get_random_items(fake_orders_n)\n",
        "fake_orders = list(zip(fake_orders_id, fake_orders_items))"
      ],
      "execution_count": 0,
      "outputs": []
    },
    {
      "metadata": {
        "id": "MUoopC3iiqvu",
        "colab_type": "code",
        "colab": {}
      },
      "cell_type": "code",
      "source": [
        "# Convert to spark DataFrame\n",
        "test_data = spark.createDataFrame(fake_orders, ['order_id', 'items'])"
      ],
      "execution_count": 0,
      "outputs": []
    },
    {
      "metadata": {
        "id": "oe83Lm7_iz9k",
        "colab_type": "code",
        "colab": {
          "base_uri": "https://localhost:8080/",
          "height": 102
        },
        "outputId": "60b11d91-2941-4abb-b1f5-7ebcad3fed7c"
      },
      "cell_type": "code",
      "source": [
        "test_data.printSchema()"
      ],
      "execution_count": 29,
      "outputs": [
        {
          "output_type": "stream",
          "text": [
            "root\n",
            " |-- order_id: long (nullable = true)\n",
            " |-- items: array (nullable = true)\n",
            " |    |-- element: string (containsNull = true)\n",
            "\n"
          ],
          "name": "stdout"
        }
      ]
    },
    {
      "metadata": {
        "id": "iW-LGVJQi1sR",
        "colab_type": "code",
        "colab": {
          "base_uri": "https://localhost:8080/",
          "height": 442
        },
        "outputId": "308bc71a-8aa1-457f-a250-82ea274aa0d9"
      },
      "cell_type": "code",
      "source": [
        "# final test DataFrame\n",
        "test_data.show(truncate=False)"
      ],
      "execution_count": 30,
      "outputs": [
        {
          "output_type": "stream",
          "text": [
            "+--------+----------------------------------+\n",
            "|order_id|items                             |\n",
            "+--------+----------------------------------+\n",
            "|1       |[53759a2ecddad2bb87a079a1f1519f73]|\n",
            "|2       |[e5ae72c62ebfa708624f5029d609b160]|\n",
            "|3       |[f4f67ccaece962d013a4e1d7dc3a61f7]|\n",
            "|4       |[368c6c730842d78016ad823897a372db]|\n",
            "|5       |[53759a2ecddad2bb87a079a1f1519f73]|\n",
            "|6       |[368c6c730842d78016ad823897a372db]|\n",
            "|7       |[a50acd33ba7a8da8e9db65094fa990a4]|\n",
            "|8       |[53759a2ecddad2bb87a079a1f1519f73]|\n",
            "|9       |[98d61056e0568ba048e5d78038790e77]|\n",
            "|10      |[0d85c435fd60b277ffb9e9b0f88f927a]|\n",
            "|11      |[946344697156947d846d27fe0d503033]|\n",
            "|12      |[422879e10f46682990de24d770e7f83d]|\n",
            "|13      |[36f60d45225e60c7da4558b070ce4b60]|\n",
            "|14      |[060cb19345d90064d1015407193c233d]|\n",
            "|15      |[6c3effec7c8ddba466d4f03f982c7aa3]|\n",
            "|16      |[389d119b48cf3043d311335e499d9c6b]|\n",
            "|17      |[18486698933fbb64af6c0a255f7dd64c]|\n",
            "|18      |[b7d94dc0640c7025dc8e3b46b52d8239]|\n",
            "|19      |[e6b314a2236c162ede1a879f1075430f]|\n",
            "|20      |[0bcc3eeca39e1064258aa1e932269894]|\n",
            "+--------+----------------------------------+\n",
            "\n"
          ],
          "name": "stdout"
        }
      ]
    },
    {
      "metadata": {
        "id": "d6GHS9uqjKBX",
        "colab_type": "code",
        "colab": {}
      },
      "cell_type": "code",
      "source": [
        "# Get predictions\n",
        "predictions = fpm.transform(test_data)"
      ],
      "execution_count": 0,
      "outputs": []
    },
    {
      "metadata": {
        "id": "Lrl_YPl4mExk",
        "colab_type": "code",
        "colab": {
          "base_uri": "https://localhost:8080/",
          "height": 442
        },
        "outputId": "9686de21-45d6-4c45-c1b3-9d16226bf8d3"
      },
      "cell_type": "code",
      "source": [
        "# Show predictions.\n",
        "# Schema of products data does not contains\n",
        "# product name. So we only show it by\n",
        "# product's id\n",
        "predictions.show(truncate=False)"
      ],
      "execution_count": 32,
      "outputs": [
        {
          "output_type": "stream",
          "text": [
            "+--------+----------------------------------+------------------------------------------------------------------------------------------------------+\n",
            "|order_id|items                             |prediction                                                                                            |\n",
            "+--------+----------------------------------+------------------------------------------------------------------------------------------------------+\n",
            "|1       |[53759a2ecddad2bb87a079a1f1519f73]|[422879e10f46682990de24d770e7f83d, 389d119b48cf3043d311335e499d9c6b, 368c6c730842d78016ad823897a372db]|\n",
            "|2       |[e5ae72c62ebfa708624f5029d609b160]|[5b8a5a9417210b1b84b67b9a7aefb935]                                                                    |\n",
            "|3       |[f4f67ccaece962d013a4e1d7dc3a61f7]|[4fcb3d9a5f4871e8362dfedbdb02b064]                                                                    |\n",
            "|4       |[368c6c730842d78016ad823897a372db]|[389d119b48cf3043d311335e499d9c6b, 53759a2ecddad2bb87a079a1f1519f73]                                  |\n",
            "|5       |[53759a2ecddad2bb87a079a1f1519f73]|[422879e10f46682990de24d770e7f83d, 389d119b48cf3043d311335e499d9c6b, 368c6c730842d78016ad823897a372db]|\n",
            "|6       |[368c6c730842d78016ad823897a372db]|[389d119b48cf3043d311335e499d9c6b, 53759a2ecddad2bb87a079a1f1519f73]                                  |\n",
            "|7       |[a50acd33ba7a8da8e9db65094fa990a4]|[dfb97c88e066dc22165f31648efe1312]                                                                    |\n",
            "|8       |[53759a2ecddad2bb87a079a1f1519f73]|[422879e10f46682990de24d770e7f83d, 389d119b48cf3043d311335e499d9c6b, 368c6c730842d78016ad823897a372db]|\n",
            "|9       |[98d61056e0568ba048e5d78038790e77]|[060cb19345d90064d1015407193c233d]                                                                    |\n",
            "|10      |[0d85c435fd60b277ffb9e9b0f88f927a]|[ee57070aa3b24a06fdd0e02efd2d757d]                                                                    |\n",
            "|11      |[946344697156947d846d27fe0d503033]|[ad0a798e7941f3a5a2fb8139cb62ad78]                                                                    |\n",
            "|12      |[422879e10f46682990de24d770e7f83d]|[389d119b48cf3043d311335e499d9c6b, 53759a2ecddad2bb87a079a1f1519f73, 0bcc3eeca39e1064258aa1e932269894]|\n",
            "|13      |[36f60d45225e60c7da4558b070ce4b60]|[e53e557d5a159f5aa2c5e995dfdf244b, 3f14d740544f37ece8a9e7bc8349797e]                                  |\n",
            "|14      |[060cb19345d90064d1015407193c233d]|[98d61056e0568ba048e5d78038790e77]                                                                    |\n",
            "|15      |[6c3effec7c8ddba466d4f03f982c7aa3]|[0aabfb375647d9738ad0f7b4ea3653b1]                                                                    |\n",
            "|16      |[389d119b48cf3043d311335e499d9c6b]|[422879e10f46682990de24d770e7f83d, 368c6c730842d78016ad823897a372db, 53759a2ecddad2bb87a079a1f1519f73]|\n",
            "|17      |[18486698933fbb64af6c0a255f7dd64c]|[dbb67791e405873b259e4656bf971246]                                                                    |\n",
            "|18      |[b7d94dc0640c7025dc8e3b46b52d8239]|[3ce943997ff85cad84ec6770b35d6bcd]                                                                    |\n",
            "|19      |[e6b314a2236c162ede1a879f1075430f]|[ad4b5def91ac7c575dbdf65b5be311f4]                                                                    |\n",
            "|20      |[0bcc3eeca39e1064258aa1e932269894]|[422879e10f46682990de24d770e7f83d]                                                                    |\n",
            "+--------+----------------------------------+------------------------------------------------------------------------------------------------------+\n",
            "\n"
          ],
          "name": "stdout"
        }
      ]
    }
  ]
}