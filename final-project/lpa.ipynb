{
  "nbformat": 4,
  "nbformat_minor": 0,
  "metadata": {
    "colab": {
      "name": "big-data-final-project.ipynb",
      "version": "0.3.2",
      "provenance": [],
      "collapsed_sections": [],
      "toc_visible": true
    },
    "kernelspec": {
      "name": "python3",
      "display_name": "Python 3"
    }
  },
  "cells": [
    {
      "cell_type": "markdown",
      "metadata": {
        "id": "17dEwHgkRMbm",
        "colab_type": "text"
      },
      "source": [
        "## Pre-requisites"
      ]
    },
    {
      "cell_type": "markdown",
      "metadata": {
        "id": "t0BI8f9sRPyw",
        "colab_type": "text"
      },
      "source": [
        "### Spark"
      ]
    },
    {
      "cell_type": "code",
      "metadata": {
        "id": "qb6WN7wVRKvi",
        "colab_type": "code",
        "outputId": "fb22fd8a-b9d9-4cf1-9c7c-cda1b0ee7658",
        "colab": {
          "base_uri": "https://localhost:8080/",
          "height": 493
        }
      },
      "source": [
        "!apt-get -y install openjdk-8-jdk-headless && apt autoremove\n",
        "!wget -N http://apache.osuosl.org/spark/spark-2.4.3/spark-2.4.3-bin-hadoop2.7.tgz\n",
        "!tar xf spark-2.4.3-bin-hadoop2.7.tgz"
      ],
      "execution_count": 1,
      "outputs": [
        {
          "output_type": "stream",
          "text": [
            "Reading package lists... Done\n",
            "Building dependency tree       \n",
            "Reading state information... Done\n",
            "openjdk-8-jdk-headless is already the newest version (8u212-b03-0ubuntu1.18.04.1).\n",
            "The following package was automatically installed and is no longer required:\n",
            "  libnvidia-common-410\n",
            "Use 'apt autoremove' to remove it.\n",
            "0 upgraded, 0 newly installed, 0 to remove and 6 not upgraded.\n",
            "Reading package lists... Done\n",
            "Building dependency tree       \n",
            "Reading state information... Done\n",
            "The following packages will be REMOVED:\n",
            "  libnvidia-common-410\n",
            "0 upgraded, 0 newly installed, 1 to remove and 6 not upgraded.\n",
            "After this operation, 33.8 kB disk space will be freed.\n",
            "(Reading database ... 130911 files and directories currently installed.)\n",
            "Removing libnvidia-common-410 (410.104-0ubuntu1) ...\n",
            "--2019-05-24 01:48:13--  http://apache.osuosl.org/spark/spark-2.4.3/spark-2.4.3-bin-hadoop2.7.tgz\n",
            "Resolving apache.osuosl.org (apache.osuosl.org)... 140.211.166.134, 64.50.236.52, 64.50.233.100, ...\n",
            "Connecting to apache.osuosl.org (apache.osuosl.org)|140.211.166.134|:80... connected.\n",
            "HTTP request sent, awaiting response... 200 OK\n",
            "Length: 229988313 (219M) [application/x-gzip]\n",
            "Saving to: ‘spark-2.4.3-bin-hadoop2.7.tgz’\n",
            "\n",
            "spark-2.4.3-bin-had 100%[===================>] 219.33M  27.6MB/s    in 16s     \n",
            "\n",
            "2019-05-24 01:48:30 (13.4 MB/s) - ‘spark-2.4.3-bin-hadoop2.7.tgz’ saved [229988313/229988313]\n",
            "\n"
          ],
          "name": "stdout"
        }
      ]
    },
    {
      "cell_type": "markdown",
      "metadata": {
        "id": "w-zSoslFRUlr",
        "colab_type": "text"
      },
      "source": [
        "### Python Packages"
      ]
    },
    {
      "cell_type": "code",
      "metadata": {
        "id": "E6Z-8OECRT6q",
        "colab_type": "code",
        "outputId": "2da5418b-a4f5-4d83-db7e-95fa66b71040",
        "colab": {
          "base_uri": "https://localhost:8080/",
          "height": 122
        }
      },
      "source": [
        "!pip install -U findspark numpy"
      ],
      "execution_count": 2,
      "outputs": [
        {
          "output_type": "stream",
          "text": [
            "Collecting findspark\n",
            "  Downloading https://files.pythonhosted.org/packages/b1/c8/e6e1f6a303ae5122dc28d131b5a67c5eb87cbf8f7ac5b9f87764ea1b1e1e/findspark-1.3.0-py2.py3-none-any.whl\n",
            "Requirement already up-to-date: numpy in /usr/local/lib/python3.6/dist-packages (1.16.3)\n",
            "Installing collected packages: findspark\n",
            "Successfully installed findspark-1.3.0\n"
          ],
          "name": "stdout"
        }
      ]
    },
    {
      "cell_type": "markdown",
      "metadata": {
        "id": "jEOfQXjNJ3-0",
        "colab_type": "text"
      },
      "source": [
        "### GraphFrames"
      ]
    },
    {
      "cell_type": "code",
      "metadata": {
        "id": "StbUAnUGJ5jQ",
        "colab_type": "code",
        "outputId": "07f7e5bc-dadd-4e92-f4fe-71303ae0a2e9",
        "colab": {
          "base_uri": "https://localhost:8080/",
          "height": 309
        }
      },
      "source": [
        "!wget -N http://dl.bintray.com/spark-packages/maven/graphframes/graphframes/0.7.0-spark2.4-s_2.11/graphframes-0.7.0-spark2.4-s_2.11.jar\n",
        "!mv graphframes-0.7.0-spark2.4-s_2.11.jar spark-2.4.3-bin-hadoop2.7/jars"
      ],
      "execution_count": 3,
      "outputs": [
        {
          "output_type": "stream",
          "text": [
            "--2019-05-24 01:48:45--  http://dl.bintray.com/spark-packages/maven/graphframes/graphframes/0.7.0-spark2.4-s_2.11/graphframes-0.7.0-spark2.4-s_2.11.jar\n",
            "Resolving dl.bintray.com (dl.bintray.com)... 52.35.37.1, 52.25.147.105\n",
            "Connecting to dl.bintray.com (dl.bintray.com)|52.35.37.1|:80... connected.\n",
            "HTTP request sent, awaiting response... 302 \n",
            "Location: http://d29vzk4ow07wi7.cloudfront.net/ef6e26d17a860d3c8d7a246236f9d51256d56946cc3e9ef10aa3cf6465fd7e6a?response-content-disposition=attachment%3Bfilename%3D%22graphframes-0.7.0-spark2.4-s_2.11.jar%22&Policy=eyJTdGF0ZW1lbnQiOiBbeyJSZXNvdXJjZSI6Imh0dHAqOi8vZDI5dnprNG93MDd3aTcuY2xvdWRmcm9udC5uZXQvZWY2ZTI2ZDE3YTg2MGQzYzhkN2EyNDYyMzZmOWQ1MTI1NmQ1Njk0NmNjM2U5ZWYxMGFhM2NmNjQ2NWZkN2U2YT9yZXNwb25zZS1jb250ZW50LWRpc3Bvc2l0aW9uPWF0dGFjaG1lbnQlM0JmaWxlbmFtZSUzRCUyMmdyYXBoZnJhbWVzLTAuNy4wLXNwYXJrMi40LXNfMi4xMS5qYXIlMjIiLCJDb25kaXRpb24iOnsiRGF0ZUxlc3NUaGFuIjp7IkFXUzpFcG9jaFRpbWUiOjE1NTg2NjMyNDV9LCJJcEFkZHJlc3MiOnsiQVdTOlNvdXJjZUlwIjoiMC4wLjAuMC8wIn19fV19&Signature=BTgzvgx8aoaccstv-ZPNtDTfd6LRi3U7AgBQYyDOc-03vcGSv9~Wm794Os7L8E-1fNAkGTD4UpCXO4~~wEPKVRUlurGabACzy7tmJALfmtle4i9oAH9O5noAvPegANrav4oRlTl4r5hksmoODPqJcN7X0IgbC82WUe4Nw-FySLl4aoNTetWcDYqaga1qf~ecJ401GSBmwuV7fT5ic-SZlzlndPcxi6C~OvlQwNaB782a37p3OrzO09g-o9M-C6H7Ou-WULq7rzKiTaKCztCCCa2BBT5qgQETfi4JDG4D8fd27AzetAyfAl~G3dhJbRpe2plMFg9ZhQiLhaQy9-Oksg__&Key-Pair-Id=APKAIFKFWOMXM2UMTSFA [following]\n",
            "--2019-05-24 01:48:45--  http://d29vzk4ow07wi7.cloudfront.net/ef6e26d17a860d3c8d7a246236f9d51256d56946cc3e9ef10aa3cf6465fd7e6a?response-content-disposition=attachment%3Bfilename%3D%22graphframes-0.7.0-spark2.4-s_2.11.jar%22&Policy=eyJTdGF0ZW1lbnQiOiBbeyJSZXNvdXJjZSI6Imh0dHAqOi8vZDI5dnprNG93MDd3aTcuY2xvdWRmcm9udC5uZXQvZWY2ZTI2ZDE3YTg2MGQzYzhkN2EyNDYyMzZmOWQ1MTI1NmQ1Njk0NmNjM2U5ZWYxMGFhM2NmNjQ2NWZkN2U2YT9yZXNwb25zZS1jb250ZW50LWRpc3Bvc2l0aW9uPWF0dGFjaG1lbnQlM0JmaWxlbmFtZSUzRCUyMmdyYXBoZnJhbWVzLTAuNy4wLXNwYXJrMi40LXNfMi4xMS5qYXIlMjIiLCJDb25kaXRpb24iOnsiRGF0ZUxlc3NUaGFuIjp7IkFXUzpFcG9jaFRpbWUiOjE1NTg2NjMyNDV9LCJJcEFkZHJlc3MiOnsiQVdTOlNvdXJjZUlwIjoiMC4wLjAuMC8wIn19fV19&Signature=BTgzvgx8aoaccstv-ZPNtDTfd6LRi3U7AgBQYyDOc-03vcGSv9~Wm794Os7L8E-1fNAkGTD4UpCXO4~~wEPKVRUlurGabACzy7tmJALfmtle4i9oAH9O5noAvPegANrav4oRlTl4r5hksmoODPqJcN7X0IgbC82WUe4Nw-FySLl4aoNTetWcDYqaga1qf~ecJ401GSBmwuV7fT5ic-SZlzlndPcxi6C~OvlQwNaB782a37p3OrzO09g-o9M-C6H7Ou-WULq7rzKiTaKCztCCCa2BBT5qgQETfi4JDG4D8fd27AzetAyfAl~G3dhJbRpe2plMFg9ZhQiLhaQy9-Oksg__&Key-Pair-Id=APKAIFKFWOMXM2UMTSFA\n",
            "Resolving d29vzk4ow07wi7.cloudfront.net (d29vzk4ow07wi7.cloudfront.net)... 99.84.231.174, 99.84.231.93, 99.84.231.221, ...\n",
            "Connecting to d29vzk4ow07wi7.cloudfront.net (d29vzk4ow07wi7.cloudfront.net)|99.84.231.174|:80... connected.\n",
            "HTTP request sent, awaiting response... 200 OK\n",
            "Length: 381110 (372K) [multipart/form-data]\n",
            "Saving to: ‘graphframes-0.7.0-spark2.4-s_2.11.jar’\n",
            "\n",
            "\r          graphfram   0%[                    ]       0  --.-KB/s               \rgraphframes-0.7.0-s 100%[===================>] 372.18K  --.-KB/s    in 0.07s   \n",
            "\n",
            "2019-05-24 01:48:45 (4.86 MB/s) - ‘graphframes-0.7.0-spark2.4-s_2.11.jar’ saved [381110/381110]\n",
            "\n"
          ],
          "name": "stdout"
        }
      ]
    },
    {
      "cell_type": "markdown",
      "metadata": {
        "id": "x3EUy7ozRqjp",
        "colab_type": "text"
      },
      "source": [
        "### Setup Environment Variables"
      ]
    },
    {
      "cell_type": "code",
      "metadata": {
        "id": "G6fd-3OlRnrl",
        "colab_type": "code",
        "colab": {}
      },
      "source": [
        "import os"
      ],
      "execution_count": 0,
      "outputs": []
    },
    {
      "cell_type": "code",
      "metadata": {
        "id": "j2ml2eokRvtj",
        "colab_type": "code",
        "colab": {}
      },
      "source": [
        "os.environ[\"JAVA_HOME\"] = '/usr/lib/jvm/java-8-openjdk-amd64'\n",
        "os.environ[\"SPARK_HOME\"] = os.path.join(os.getcwd(), 'spark-2.4.3-bin-hadoop2.7')\n",
        "# os.environ['PYSPARK_SUBMIT_ARGS'] = '--packages graphframes:graphframes:0.7.0-spark2.4-s_2.11 pyspark-shell'"
      ],
      "execution_count": 0,
      "outputs": []
    },
    {
      "cell_type": "code",
      "metadata": {
        "id": "hxQAOVIgR6M9",
        "colab_type": "code",
        "outputId": "97986d46-2a04-4d3b-da0b-4e1ac3f4465d",
        "colab": {
          "base_uri": "https://localhost:8080/",
          "height": 51
        }
      },
      "source": [
        "print(os.environ['JAVA_HOME'])\n",
        "print(os.environ['SPARK_HOME'])\n",
        "# print(os.environ['PYSPARK_SUBMIT_ARGS'])"
      ],
      "execution_count": 6,
      "outputs": [
        {
          "output_type": "stream",
          "text": [
            "/usr/lib/jvm/java-8-openjdk-amd64\n",
            "/content/spark-2.4.3-bin-hadoop2.7\n"
          ],
          "name": "stdout"
        }
      ]
    },
    {
      "cell_type": "markdown",
      "metadata": {
        "id": "iaxe1NJmSzx4",
        "colab_type": "text"
      },
      "source": [
        "## Spark Initialization"
      ]
    },
    {
      "cell_type": "code",
      "metadata": {
        "id": "K-47SsEQSu0z",
        "colab_type": "code",
        "colab": {}
      },
      "source": [
        "import findspark\n",
        "findspark.init()"
      ],
      "execution_count": 0,
      "outputs": []
    },
    {
      "cell_type": "code",
      "metadata": {
        "id": "MjkLqdvjIn7m",
        "colab_type": "code",
        "colab": {}
      },
      "source": [
        "from pyspark import SparkContext\n",
        "sc = SparkContext.getOrCreate()\n",
        "sc.addPyFile('spark-2.4.3-bin-hadoop2.7/jars/graphframes-0.7.0-spark2.4-s_2.11.jar')"
      ],
      "execution_count": 0,
      "outputs": []
    },
    {
      "cell_type": "code",
      "metadata": {
        "id": "ydeWCoEXS2Y_",
        "colab_type": "code",
        "colab": {}
      },
      "source": [
        "from pyspark.sql import SparkSession\n",
        "spark = SparkSession.builder.master('local[*]').getOrCreate()"
      ],
      "execution_count": 0,
      "outputs": []
    },
    {
      "cell_type": "markdown",
      "metadata": {
        "id": "f70EFSWLSget",
        "colab_type": "text"
      },
      "source": [
        "## Dataset Preparation"
      ]
    },
    {
      "cell_type": "markdown",
      "metadata": {
        "id": "u7n4k0hZSkXG",
        "colab_type": "text"
      },
      "source": [
        "### Download"
      ]
    },
    {
      "cell_type": "code",
      "metadata": {
        "id": "AbF13DArR_tG",
        "colab_type": "code",
        "outputId": "97db6d2a-36d4-440f-902e-80661b106247",
        "colab": {
          "base_uri": "https://localhost:8080/",
          "height": 289
        }
      },
      "source": [
        "!wget -N http://arnetminer.org/lab-datasets/tweet/twitter_network.rar"
      ],
      "execution_count": 10,
      "outputs": [
        {
          "output_type": "stream",
          "text": [
            "--2019-05-24 01:48:56--  http://arnetminer.org/lab-datasets/tweet/twitter_network.rar\n",
            "Resolving arnetminer.org (arnetminer.org)... 54.200.245.252\n",
            "Connecting to arnetminer.org (arnetminer.org)|54.200.245.252|:80... connected.\n",
            "HTTP request sent, awaiting response... 301 Moved Permanently\n",
            "Location: https://aminer.org/lab-datasets/tweet/twitter_network.rar [following]\n",
            "--2019-05-24 01:48:56--  https://aminer.org/lab-datasets/tweet/twitter_network.rar\n",
            "Resolving aminer.org (aminer.org)... 54.200.245.252\n",
            "Connecting to aminer.org (aminer.org)|54.200.245.252|:443... connected.\n",
            "HTTP request sent, awaiting response... 200 OK\n",
            "Length: 3368748 (3.2M) [application/x-rar-compressed]\n",
            "Saving to: ‘twitter_network.rar’\n",
            "\n",
            "\rtwitter_network.rar   0%[                    ]       0  --.-KB/s               \rtwitter_network.rar 100%[===================>]   3.21M  --.-KB/s    in 0.08s   \n",
            "\n",
            "2019-05-24 01:48:56 (37.9 MB/s) - ‘twitter_network.rar’ saved [3368748/3368748]\n",
            "\n"
          ],
          "name": "stdout"
        }
      ]
    },
    {
      "cell_type": "markdown",
      "metadata": {
        "id": "YD6kfM12SwOI",
        "colab_type": "text"
      },
      "source": [
        "### Extract"
      ]
    },
    {
      "cell_type": "code",
      "metadata": {
        "id": "64L6fnJvSn3t",
        "colab_type": "code",
        "outputId": "b100ae45-ec7a-467c-9e5c-27e811a2b65d",
        "colab": {
          "base_uri": "https://localhost:8080/",
          "height": 221
        }
      },
      "source": [
        "!unrar e twitter_network.rar -o- data/"
      ],
      "execution_count": 11,
      "outputs": [
        {
          "output_type": "stream",
          "text": [
            "\n",
            "UNRAR 5.50 freeware      Copyright (c) 1993-2017 Alexander Roshal\n",
            "\n",
            "\n",
            "Extracting from twitter_network.rar\n",
            "\n",
            "Creating    data                                                      OK\n",
            "Extracting  data/user_list.txt                                           \b\b\b\b  0%\b\b\b\b  1%\b\b\b\b  2%\b\b\b\b  3%\b\b\b\b  4%\b\b\b\b  5%\b\b\b\b  6%\b\b\b\b  7%\b\b\b\b  8%\b\b\b\b  9%\b\b\b\b 10%\b\b\b\b 11%\b\b\b\b\b  OK \n",
            "Extracting  data/user_map.txt                                            \b\b\b\b 12%\b\b\b\b 13%\b\b\b\b 14%\b\b\b\b 15%\b\b\b\b 16%\b\b\b\b 17%\b\b\b\b 18%\b\b\b\b 19%\b\b\b\b 20%\b\b\b\b 21%\b\b\b\b 22%\b\b\b\b 23%\b\b\b\b 24%\b\b\b\b 25%\b\b\b\b 26%\b\b\b\b 27%\b\b\b\b 28%\b\b\b\b 29%\b\b\b\b 30%\b\b\b\b 31%\b\b\b\b 32%\b\b\b\b 33%\b\b\b\b 34%\b\b\b\b 35%\b\b\b\b 36%\b\b\b\b 37%\b\b\b\b 38%\b\b\b\b 39%\b\b\b\b 40%\b\b\b\b 41%\b\b\b\b 42%\b\b\b\b 43%\b\b\b\b 44%\b\b\b\b 45%\b\b\b\b 46%\b\b\b\b 47%\b\b\b\b\b  OK \n",
            "Extracting  data/count.txt                                               \b\b\b\b 47%\b\b\b\b\b  OK \n",
            "Extracting  data/graph_cb.txt                                            \b\b\b\b 48%\b\b\b\b 49%\b\b\b\b 50%\b\b\b\b 51%\b\b\b\b 52%\b\b\b\b 53%\b\b\b\b 54%\b\b\b\b 55%\b\b\b\b 56%\b\b\b\b 57%\b\b\b\b 58%\b\b\b\b 59%\b\b\b\b 60%\b\b\b\b 61%\b\b\b\b 62%\b\b\b\b 63%\b\b\b\b 64%\b\b\b\b 65%\b\b\b\b 66%\b\b\b\b 67%\b\b\b\b 68%\b\b\b\b 69%\b\b\b\b 70%\b\b\b\b 71%\b\b\b\b 72%\b\b\b\b 73%\b\b\b\b 74%\b\b\b\b 75%\b\b\b\b 76%\b\b\b\b 77%\b\b\b\b 78%\b\b\b\b 79%\b\b\b\b 80%\b\b\b\b 81%\b\b\b\b 82%\b\b\b\b 83%\b\b\b\b 84%\b\b\b\b 85%\b\b\b\b 86%\b\b\b\b 87%\b\b\b\b 88%\b\b\b\b 89%\b\b\b\b 90%\b\b\b\b 91%\b\b\b\b 92%\b\b\b\b 93%\b\b\b\b 94%\b\b\b\b 95%\b\b\b\b 96%\b\b\b\b 97%\b\b\b\b 98%\b\b\b\b 99%\b\b\b\b\b  OK \n",
            "All OK\n"
          ],
          "name": "stdout"
        }
      ]
    },
    {
      "cell_type": "markdown",
      "metadata": {
        "id": "q5tsPlPfRSna",
        "colab_type": "text"
      },
      "source": [
        "## Build Graph"
      ]
    },
    {
      "cell_type": "markdown",
      "metadata": {
        "id": "lhWJyUC3nHGp",
        "colab_type": "text"
      },
      "source": [
        "### Vertices"
      ]
    },
    {
      "cell_type": "code",
      "metadata": {
        "id": "IAqdIrD-nGUt",
        "colab_type": "code",
        "colab": {}
      },
      "source": [
        "with open('data/user_list.txt') as infile:\n",
        "    user_list = infile.read().split('\\n')[:-1]"
      ],
      "execution_count": 0,
      "outputs": []
    },
    {
      "cell_type": "code",
      "metadata": {
        "id": "N_lDEeyinVX1",
        "colab_type": "code",
        "colab": {}
      },
      "source": [
        "user_list = list(enumerate(map(int, user_list)))"
      ],
      "execution_count": 0,
      "outputs": []
    },
    {
      "cell_type": "code",
      "metadata": {
        "id": "gET9TyBNp-01",
        "colab_type": "code",
        "colab": {}
      },
      "source": [
        "vertices = spark.createDataFrame(user_list, ['id', 'name']).limit(1000)"
      ],
      "execution_count": 0,
      "outputs": []
    },
    {
      "cell_type": "code",
      "metadata": {
        "id": "P7ZACSuGqJIU",
        "colab_type": "code",
        "outputId": "482453ee-6253-4630-df12-6d131b349059",
        "colab": {
          "base_uri": "https://localhost:8080/",
          "height": 34
        }
      },
      "source": [
        "vertices.count()"
      ],
      "execution_count": 15,
      "outputs": [
        {
          "output_type": "execute_result",
          "data": {
            "text/plain": [
              "1000"
            ]
          },
          "metadata": {
            "tags": []
          },
          "execution_count": 15
        }
      ]
    },
    {
      "cell_type": "code",
      "metadata": {
        "id": "JfUgTRJgIffE",
        "colab_type": "code",
        "outputId": "ba61c3b9-934b-4510-d0bc-b19370665325",
        "colab": {
          "base_uri": "https://localhost:8080/",
          "height": 85
        }
      },
      "source": [
        "vertices.printSchema()"
      ],
      "execution_count": 16,
      "outputs": [
        {
          "output_type": "stream",
          "text": [
            "root\n",
            " |-- id: long (nullable = true)\n",
            " |-- name: long (nullable = true)\n",
            "\n"
          ],
          "name": "stdout"
        }
      ]
    },
    {
      "cell_type": "code",
      "metadata": {
        "id": "R5ciPfXLqAGo",
        "colab_type": "code",
        "outputId": "a83e00af-29e9-4d6c-865d-097067eb8f00",
        "colab": {
          "base_uri": "https://localhost:8080/",
          "height": 289
        }
      },
      "source": [
        "vertices.show(10)"
      ],
      "execution_count": 17,
      "outputs": [
        {
          "output_type": "stream",
          "text": [
            "+---+----+\n",
            "| id|name|\n",
            "+---+----+\n",
            "|  0| 407|\n",
            "|  1| 674|\n",
            "|  2| 852|\n",
            "|  3| 922|\n",
            "|  4|1024|\n",
            "|  5|1338|\n",
            "|  6|1951|\n",
            "|  7|2179|\n",
            "|  8|2862|\n",
            "|  9|3542|\n",
            "+---+----+\n",
            "only showing top 10 rows\n",
            "\n"
          ],
          "name": "stdout"
        }
      ]
    },
    {
      "cell_type": "markdown",
      "metadata": {
        "id": "hH3wIipWqDzd",
        "colab_type": "text"
      },
      "source": [
        "### Edges"
      ]
    },
    {
      "cell_type": "code",
      "metadata": {
        "id": "XpUg3DvSnYme",
        "colab_type": "code",
        "colab": {}
      },
      "source": [
        "with open('data/graph_cb.txt') as infile:\n",
        "    graph_cb = infile.read().split('\\n')[:-1]"
      ],
      "execution_count": 0,
      "outputs": []
    },
    {
      "cell_type": "code",
      "metadata": {
        "id": "N0nXK0d6nion",
        "colab_type": "code",
        "colab": {}
      },
      "source": [
        "graph_cb = list(map(lambda x: tuple(map(int, x.split()[:-1])), graph_cb))\n",
        "graph_cb += list(map(lambda x: (x[1], x[0]), graph_cb))"
      ],
      "execution_count": 0,
      "outputs": []
    },
    {
      "cell_type": "code",
      "metadata": {
        "id": "NdYCRjBzoHvH",
        "colab_type": "code",
        "colab": {}
      },
      "source": [
        "edges = spark.createDataFrame(graph_cb, ['src', 'dst'])"
      ],
      "execution_count": 0,
      "outputs": []
    },
    {
      "cell_type": "code",
      "metadata": {
        "id": "0-9gW5bQhPhG",
        "colab_type": "code",
        "colab": {}
      },
      "source": [
        "edges = edges.filter((edges.src < 1000) & (edges.dst < 1000))"
      ],
      "execution_count": 0,
      "outputs": []
    },
    {
      "cell_type": "code",
      "metadata": {
        "id": "x6negl5XoLwm",
        "colab_type": "code",
        "outputId": "1fb2ac30-816b-4d77-e0cd-20280496031e",
        "colab": {
          "base_uri": "https://localhost:8080/",
          "height": 34
        }
      },
      "source": [
        "edges.count()"
      ],
      "execution_count": 22,
      "outputs": [
        {
          "output_type": "execute_result",
          "data": {
            "text/plain": [
              "886"
            ]
          },
          "metadata": {
            "tags": []
          },
          "execution_count": 22
        }
      ]
    },
    {
      "cell_type": "code",
      "metadata": {
        "id": "7bYpZfPJImfo",
        "colab_type": "code",
        "outputId": "eb3cd37f-8fc9-4441-a0ca-458ea38d74ad",
        "colab": {
          "base_uri": "https://localhost:8080/",
          "height": 85
        }
      },
      "source": [
        "edges.printSchema()"
      ],
      "execution_count": 23,
      "outputs": [
        {
          "output_type": "stream",
          "text": [
            "root\n",
            " |-- src: long (nullable = true)\n",
            " |-- dst: long (nullable = true)\n",
            "\n"
          ],
          "name": "stdout"
        }
      ]
    },
    {
      "cell_type": "code",
      "metadata": {
        "id": "yyzghViNqM9M",
        "colab_type": "code",
        "outputId": "538f6f8d-448d-4474-9b4e-dfc6d8624a24",
        "colab": {
          "base_uri": "https://localhost:8080/",
          "height": 289
        }
      },
      "source": [
        "edges.show(10)"
      ],
      "execution_count": 24,
      "outputs": [
        {
          "output_type": "stream",
          "text": [
            "+---+---+\n",
            "|src|dst|\n",
            "+---+---+\n",
            "|  0| 11|\n",
            "|  3| 57|\n",
            "|  5|831|\n",
            "|  7|166|\n",
            "|  7|428|\n",
            "| 11|  0|\n",
            "| 13|495|\n",
            "| 15| 83|\n",
            "| 15|281|\n",
            "| 17| 18|\n",
            "+---+---+\n",
            "only showing top 10 rows\n",
            "\n"
          ],
          "name": "stdout"
        }
      ]
    },
    {
      "cell_type": "markdown",
      "metadata": {
        "id": "EFxYE3UpWvPH",
        "colab_type": "text"
      },
      "source": [
        "### Create GraphFrame Object"
      ]
    },
    {
      "cell_type": "code",
      "metadata": {
        "id": "HJfumTAZWyVR",
        "colab_type": "code",
        "colab": {}
      },
      "source": [
        "import graphframes"
      ],
      "execution_count": 0,
      "outputs": []
    },
    {
      "cell_type": "code",
      "metadata": {
        "id": "JPHNLFWLTu6m",
        "colab_type": "code",
        "colab": {}
      },
      "source": [
        "graph = graphframes.GraphFrame(vertices, edges)"
      ],
      "execution_count": 0,
      "outputs": []
    },
    {
      "cell_type": "markdown",
      "metadata": {
        "id": "q5L_TmFIKAq0",
        "colab_type": "text"
      },
      "source": [
        "## Community Detection"
      ]
    },
    {
      "cell_type": "markdown",
      "metadata": {
        "id": "4Wtwy-1pXA6M",
        "colab_type": "text"
      },
      "source": [
        "### Find Communities with LPA"
      ]
    },
    {
      "cell_type": "code",
      "metadata": {
        "id": "a1zAQtBOWxXv",
        "colab_type": "code",
        "colab": {}
      },
      "source": [
        "communities = graph.labelPropagation(maxIter=5)"
      ],
      "execution_count": 0,
      "outputs": []
    },
    {
      "cell_type": "code",
      "metadata": {
        "id": "TH611hIqXEsv",
        "colab_type": "code",
        "outputId": "5797704d-6884-440f-cfb4-7912f8c7ed5a",
        "colab": {
          "base_uri": "https://localhost:8080/",
          "height": 34
        }
      },
      "source": [
        "communities.select('label').distinct().count()"
      ],
      "execution_count": 28,
      "outputs": [
        {
          "output_type": "execute_result",
          "data": {
            "text/plain": [
              "893"
            ]
          },
          "metadata": {
            "tags": []
          },
          "execution_count": 28
        }
      ]
    },
    {
      "cell_type": "markdown",
      "metadata": {
        "id": "U6uJb0_aNhZV",
        "colab_type": "text"
      },
      "source": [
        "### Communities Preview"
      ]
    },
    {
      "cell_type": "code",
      "metadata": {
        "id": "1IkiE1r4Kb6W",
        "colab_type": "code",
        "outputId": "a17b2952-51c4-45d4-a150-1f82045671b6",
        "colab": {
          "base_uri": "https://localhost:8080/",
          "height": 34
        }
      },
      "source": [
        "communities.count()"
      ],
      "execution_count": 29,
      "outputs": [
        {
          "output_type": "execute_result",
          "data": {
            "text/plain": [
              "1000"
            ]
          },
          "metadata": {
            "tags": []
          },
          "execution_count": 29
        }
      ]
    },
    {
      "cell_type": "code",
      "metadata": {
        "id": "IwCRzU6pKWoy",
        "colab_type": "code",
        "outputId": "cc5a05ca-eb62-47e9-bf8f-402a698e9f91",
        "colab": {
          "base_uri": "https://localhost:8080/",
          "height": 102
        }
      },
      "source": [
        "communities.printSchema()"
      ],
      "execution_count": 30,
      "outputs": [
        {
          "output_type": "stream",
          "text": [
            "root\n",
            " |-- id: long (nullable = true)\n",
            " |-- name: long (nullable = true)\n",
            " |-- label: long (nullable = true)\n",
            "\n"
          ],
          "name": "stdout"
        }
      ]
    },
    {
      "cell_type": "code",
      "metadata": {
        "id": "qjoUKnvnKURb",
        "colab_type": "code",
        "outputId": "0e08195e-cd1e-4a8a-c718-551f6989e6d2",
        "colab": {
          "base_uri": "https://localhost:8080/",
          "height": 289
        }
      },
      "source": [
        "communities.show(10)"
      ],
      "execution_count": 31,
      "outputs": [
        {
          "output_type": "stream",
          "text": [
            "+---+-------+-----+\n",
            "| id|   name|label|\n",
            "+---+-------+-----+\n",
            "|451|5538602|  451|\n",
            "|454|5564472|  454|\n",
            "|147| 807594|  147|\n",
            "|155| 815143|  155|\n",
            "|772|7489822|  772|\n",
            "|752|7359982|  752|\n",
            "|586|6322882|  586|\n",
            "|667|6827152|  667|\n",
            "|428|5352672|    7|\n",
            "|464|5635992|  464|\n",
            "+---+-------+-----+\n",
            "only showing top 10 rows\n",
            "\n"
          ],
          "name": "stdout"
        }
      ]
    },
    {
      "cell_type": "markdown",
      "metadata": {
        "id": "iFAF8GwoNk6p",
        "colab_type": "text"
      },
      "source": [
        "### Communities Preview (Grouped)"
      ]
    },
    {
      "cell_type": "code",
      "metadata": {
        "id": "MX0QNoc5iE2o",
        "colab_type": "code",
        "colab": {}
      },
      "source": [
        "from pyspark.sql import functions as F"
      ],
      "execution_count": 0,
      "outputs": []
    },
    {
      "cell_type": "code",
      "metadata": {
        "id": "mKuyEUAeNgCv",
        "colab_type": "code",
        "colab": {}
      },
      "source": [
        "communities_grouped = communities.groupBy('label').agg(F.count('*').alias('members')).sort(F.desc('members'))"
      ],
      "execution_count": 0,
      "outputs": []
    },
    {
      "cell_type": "code",
      "metadata": {
        "id": "L2wtCe9iiMj0",
        "colab_type": "code",
        "colab": {
          "base_uri": "https://localhost:8080/",
          "height": 34
        },
        "outputId": "3ea0cdd3-df1f-462a-c057-78e41cdc3155"
      },
      "source": [
        "communities_grouped.count()"
      ],
      "execution_count": 46,
      "outputs": [
        {
          "output_type": "execute_result",
          "data": {
            "text/plain": [
              "893"
            ]
          },
          "metadata": {
            "tags": []
          },
          "execution_count": 46
        }
      ]
    },
    {
      "cell_type": "code",
      "metadata": {
        "id": "gEz4L4nDiJco",
        "colab_type": "code",
        "colab": {
          "base_uri": "https://localhost:8080/",
          "height": 289
        },
        "outputId": "5b2ae012-0c5a-4bc6-a682-d5e016065af1"
      },
      "source": [
        "communities_grouped.show(10)"
      ],
      "execution_count": 47,
      "outputs": [
        {
          "output_type": "stream",
          "text": [
            "+-----+-------+\n",
            "|label|members|\n",
            "+-----+-------+\n",
            "|  247|     14|\n",
            "|  133|      9|\n",
            "|  878|      7|\n",
            "|   82|      4|\n",
            "|  420|      4|\n",
            "|  525|      4|\n",
            "|  429|      4|\n",
            "|  395|      4|\n",
            "|   50|      4|\n",
            "|   17|      3|\n",
            "+-----+-------+\n",
            "only showing top 10 rows\n",
            "\n"
          ],
          "name": "stdout"
        }
      ]
    },
    {
      "cell_type": "markdown",
      "metadata": {
        "id": "t0piAcOQKEJx",
        "colab_type": "text"
      },
      "source": [
        "### Visualization"
      ]
    },
    {
      "cell_type": "code",
      "metadata": {
        "id": "YIgOWJPrGKkd",
        "colab_type": "code",
        "colab": {}
      },
      "source": [
        "import networkx as nx"
      ],
      "execution_count": 0,
      "outputs": []
    },
    {
      "cell_type": "code",
      "metadata": {
        "id": "7ovovMSBKJvk",
        "colab_type": "code",
        "colab": {}
      },
      "source": [
        "G = nx.Graph()"
      ],
      "execution_count": 0,
      "outputs": []
    },
    {
      "cell_type": "code",
      "metadata": {
        "id": "J79A6-YUL5ZN",
        "colab_type": "code",
        "colab": {}
      },
      "source": [
        "for e in graph_cb:\n",
        "    if e[0] < 10000 and e[1] < 10000:\n",
        "        G.add_edge(*e)"
      ],
      "execution_count": 0,
      "outputs": []
    },
    {
      "cell_type": "code",
      "metadata": {
        "id": "50TICql8MyZ9",
        "colab_type": "code",
        "colab": {
          "base_uri": "https://localhost:8080/",
          "height": 319
        },
        "outputId": "2d4b4aa4-f5f2-4d2a-816e-ef3a0f1a49c2"
      },
      "source": [
        "nx.draw(G)"
      ],
      "execution_count": 54,
      "outputs": [
        {
          "output_type": "display_data",
          "data": {
            "image/png": "[encoded data removed]",
            "text/plain": [
              "<Figure size 432x288 with 1 Axes>"
            ]
          },
          "metadata": {
            "tags": []
          }
        }
      ]
    }
  ]
}