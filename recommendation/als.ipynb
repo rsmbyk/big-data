{
  "nbformat": 4,
  "nbformat_minor": 0,
  "metadata": {
    "colab": {
      "name": "big-data-recommendation.ipynb",
      "version": "0.3.2",
      "provenance": [],
      "toc_visible": true
    },
    "language_info": {
      "codemirror_mode": {
        "name": "ipython",
        "version": 3
      },
      "file_extension": ".py",
      "mimetype": "text/x-python",
      "name": "python",
      "nbconvert_exporter": "python",
      "pygments_lexer": "ipython3",
      "version": "3.7.1"
    },
    "kernelspec": {
      "display_name": "Python 3",
      "language": "python",
      "name": "python3"
    }
  },
  "cells": [
    {
      "metadata": {
        "id": "nTiZzhhBZD9s",
        "colab_type": "text"
      },
      "cell_type": "markdown",
      "source": [
        "# Recommendation System"
      ]
    },
    {
      "metadata": {
        "id": "W8HVMS_PLfjC",
        "colab_type": "text"
      },
      "cell_type": "markdown",
      "source": [
        "## Pre-requisites"
      ]
    },
    {
      "metadata": {
        "colab_type": "code",
        "id": "bk4pX6jgDllf",
        "outputId": "bc3617ed-90be-4f9a-e9a5-7e88b6d08dea",
        "colab": {
          "base_uri": "https://localhost:8080/",
          "height": 615
        }
      },
      "cell_type": "code",
      "source": [
        "!apt-get -y install openjdk-8-jdk-headless\n",
        "!wget http://apache.osuosl.org/spark/spark-2.4.2/spark-2.4.2-bin-hadoop2.7.tgz\n",
        "!tar xf spark-2.4.2-bin-hadoop2.7.tgz\n",
        "!pip install findspark kaggle"
      ],
      "execution_count": 1,
      "outputs": [
        {
          "output_type": "stream",
          "text": [
            "Reading package lists... Done\n",
            "Building dependency tree       \n",
            "Reading state information... Done\n",
            "openjdk-8-jdk-headless is already the newest version (8u191-b12-2ubuntu0.18.04.1).\n",
            "The following package was automatically installed and is no longer required:\n",
            "  libnvidia-common-410\n",
            "Use 'apt autoremove' to remove it.\n",
            "0 upgraded, 0 newly installed, 0 to remove and 6 not upgraded.\n",
            "--2019-05-01 13:52:07--  http://apache.osuosl.org/spark/spark-2.4.2/spark-2.4.2-bin-hadoop2.7.tgz\n",
            "Resolving apache.osuosl.org (apache.osuosl.org)... 64.50.236.52, 140.211.166.134, 64.50.233.100, ...\n",
            "Connecting to apache.osuosl.org (apache.osuosl.org)|64.50.236.52|:80... connected.\n",
            "HTTP request sent, awaiting response... 200 OK\n",
            "Length: 208534388 (199M) [application/x-gzip]\n",
            "Saving to: ‘spark-2.4.2-bin-hadoop2.7.tgz’\n",
            "\n",
            "spark-2.4.2-bin-had 100%[===================>] 198.87M  78.8MB/s    in 2.5s    \n",
            "\n",
            "2019-05-01 13:52:10 (78.8 MB/s) - ‘spark-2.4.2-bin-hadoop2.7.tgz’ saved [208534388/208534388]\n",
            "\n",
            "Collecting findspark\n",
            "  Downloading https://files.pythonhosted.org/packages/b1/c8/e6e1f6a303ae5122dc28d131b5a67c5eb87cbf8f7ac5b9f87764ea1b1e1e/findspark-1.3.0-py2.py3-none-any.whl\n",
            "Requirement already satisfied: kaggle in /usr/local/lib/python3.6/dist-packages (1.5.3)\n",
            "Requirement already satisfied: urllib3<1.25,>=1.21.1 in /usr/local/lib/python3.6/dist-packages (from kaggle) (1.24.2)\n",
            "Requirement already satisfied: six>=1.10 in /usr/local/lib/python3.6/dist-packages (from kaggle) (1.12.0)\n",
            "Requirement already satisfied: certifi in /usr/local/lib/python3.6/dist-packages (from kaggle) (2019.3.9)\n",
            "Requirement already satisfied: python-dateutil in /usr/local/lib/python3.6/dist-packages (from kaggle) (2.5.3)\n",
            "Requirement already satisfied: requests in /usr/local/lib/python3.6/dist-packages (from kaggle) (2.21.0)\n",
            "Requirement already satisfied: tqdm in /usr/local/lib/python3.6/dist-packages (from kaggle) (4.28.1)\n",
            "Requirement already satisfied: python-slugify in /usr/local/lib/python3.6/dist-packages (from kaggle) (3.0.2)\n",
            "Requirement already satisfied: idna<2.9,>=2.5 in /usr/local/lib/python3.6/dist-packages (from requests->kaggle) (2.8)\n",
            "Requirement already satisfied: chardet<3.1.0,>=3.0.2 in /usr/local/lib/python3.6/dist-packages (from requests->kaggle) (3.0.4)\n",
            "Requirement already satisfied: text-unidecode==1.2 in /usr/local/lib/python3.6/dist-packages (from python-slugify->kaggle) (1.2)\n",
            "Installing collected packages: findspark\n",
            "Successfully installed findspark-1.3.0\n"
          ],
          "name": "stdout"
        }
      ]
    },
    {
      "metadata": {
        "colab_type": "code",
        "id": "HcewZ_5aGzlT",
        "outputId": "c1e9d48f-93f8-4afd-ec79-2d3aed31a90e",
        "colab": {
          "base_uri": "https://localhost:8080/",
          "height": 85
        }
      },
      "cell_type": "code",
      "source": [
        "import os\n",
        "\n",
        "# setup environment variables\n",
        "os.environ[\"JAVA_HOME\"] = '/usr/lib/jvm/java-8-openjdk-amd64'\n",
        "os.environ[\"SPARK_HOME\"] = '/content/spark-2.4.2-bin-hadoop2.7'\n",
        "os.environ['KAGGLE_USERNAME'] = 'ronaldsumbayak'\n",
        "os.environ['KAGGLE_KEY'] = '771009dffffa0cd0883d5fb98594d756'\n",
        "\n",
        "# verify\n",
        "print(os.environ['JAVA_HOME'])\n",
        "print(os.environ['SPARK_HOME'])\n",
        "print(os.environ['KAGGLE_USERNAME'])\n",
        "print(os.environ['KAGGLE_KEY'])"
      ],
      "execution_count": 2,
      "outputs": [
        {
          "output_type": "stream",
          "text": [
            "/usr/lib/jvm/java-8-openjdk-amd64\n",
            "/content/spark-2.4.2-bin-hadoop2.7\n",
            "ronaldsumbayak\n",
            "771009dffffa0cd0883d5fb98594d756\n"
          ],
          "name": "stdout"
        }
      ]
    },
    {
      "metadata": {
        "colab_type": "text",
        "id": "RD97ipyEHnLE"
      },
      "cell_type": "markdown",
      "source": [
        "## Spark Initialization"
      ]
    },
    {
      "metadata": {
        "colab_type": "code",
        "id": "lzIi7Fw5HBwP",
        "colab": {}
      },
      "cell_type": "code",
      "source": [
        "import findspark\n",
        "findspark.init()"
      ],
      "execution_count": 0,
      "outputs": []
    },
    {
      "metadata": {
        "colab_type": "code",
        "id": "gJiNmUPuHChw",
        "colab": {}
      },
      "cell_type": "code",
      "source": [
        "from pyspark.sql import SparkSession\n",
        "spark = SparkSession.builder.master('local[*]').getOrCreate()"
      ],
      "execution_count": 0,
      "outputs": []
    },
    {
      "metadata": {
        "colab_type": "text",
        "id": "RwT5fzIPHysb"
      },
      "cell_type": "markdown",
      "source": [
        "## Dataset Preparation"
      ]
    },
    {
      "metadata": {
        "colab_type": "text",
        "id": "ekDeUrhbP_TU"
      },
      "cell_type": "markdown",
      "source": [
        "### Download"
      ]
    },
    {
      "metadata": {
        "colab_type": "code",
        "id": "L9-sHA8rHmh-",
        "outputId": "773f2dd1-c64b-4223-f3c8-89dfdeb15068",
        "colab": {
          "base_uri": "https://localhost:8080/",
          "height": 68
        }
      },
      "cell_type": "code",
      "source": [
        "!kaggle datasets download -d tamber/steam-video-games"
      ],
      "execution_count": 5,
      "outputs": [
        {
          "output_type": "stream",
          "text": [
            "Downloading steam-video-games.zip to /content\n",
            "\r  0% 0.00/1.56M [00:00<?, ?B/s]\n",
            "\r100% 1.56M/1.56M [00:00<00:00, 51.8MB/s]\n"
          ],
          "name": "stdout"
        }
      ]
    },
    {
      "metadata": {
        "colab_type": "text",
        "id": "ld3UVDuFQSgX"
      },
      "cell_type": "markdown",
      "source": [
        "### Extract"
      ]
    },
    {
      "metadata": {
        "colab_type": "code",
        "id": "4stI0W_HQRlO",
        "outputId": "eb55cfe8-5e4d-4f2f-8b04-26340ec113d5",
        "colab": {
          "base_uri": "https://localhost:8080/",
          "height": 51
        }
      },
      "cell_type": "code",
      "source": [
        "!unzip steam-video-games.zip -d data"
      ],
      "execution_count": 6,
      "outputs": [
        {
          "output_type": "stream",
          "text": [
            "Archive:  steam-video-games.zip\n",
            "  inflating: data/steam-200k.csv     \n"
          ],
          "name": "stdout"
        }
      ]
    },
    {
      "metadata": {
        "colab_type": "text",
        "id": "n69AifP8QtO-"
      },
      "cell_type": "markdown",
      "source": [
        "### Load"
      ]
    },
    {
      "metadata": {
        "colab_type": "code",
        "id": "BzawtKPNQutS",
        "colab": {}
      },
      "cell_type": "code",
      "source": [
        "steam = spark.read.csv('data/steam-200k.csv', inferSchema=True)"
      ],
      "execution_count": 0,
      "outputs": []
    },
    {
      "metadata": {
        "colab_type": "text",
        "id": "s1-YM3VXSkl5"
      },
      "cell_type": "markdown",
      "source": [
        "### Cleansing"
      ]
    },
    {
      "metadata": {
        "colab_type": "code",
        "id": "CBC0Oh1TR9xw",
        "colab": {}
      },
      "cell_type": "code",
      "source": [
        "steam = steam.drop('_c4')"
      ],
      "execution_count": 0,
      "outputs": []
    },
    {
      "metadata": {
        "colab_type": "code",
        "id": "poSVwovwRaLw",
        "colab": {}
      },
      "cell_type": "code",
      "source": [
        "steam = steam.toDF('user_id', 'game_name', 'behavior', 'hours_played')"
      ],
      "execution_count": 0,
      "outputs": []
    },
    {
      "metadata": {
        "colab_type": "text",
        "id": "QwLGtd3LSm3O"
      },
      "cell_type": "markdown",
      "source": [
        "### Data Preview"
      ]
    },
    {
      "metadata": {
        "colab_type": "code",
        "id": "m0ZcZ8vJRA3I",
        "outputId": "c172ce20-1e14-4bbb-d7e6-3867356035ab",
        "colab": {
          "base_uri": "https://localhost:8080/",
          "height": 34
        }
      },
      "cell_type": "code",
      "source": [
        "steam.count()"
      ],
      "execution_count": 10,
      "outputs": [
        {
          "output_type": "execute_result",
          "data": {
            "text/plain": [
              "200000"
            ]
          },
          "metadata": {
            "tags": []
          },
          "execution_count": 10
        }
      ]
    },
    {
      "metadata": {
        "colab_type": "code",
        "id": "Q0iPNtrIRDEf",
        "outputId": "4533ac29-c96c-41c1-9b73-1931e3f73f37",
        "colab": {
          "base_uri": "https://localhost:8080/",
          "height": 119
        }
      },
      "cell_type": "code",
      "source": [
        "steam.printSchema()"
      ],
      "execution_count": 11,
      "outputs": [
        {
          "output_type": "stream",
          "text": [
            "root\n",
            " |-- user_id: integer (nullable = true)\n",
            " |-- game_name: string (nullable = true)\n",
            " |-- behavior: string (nullable = true)\n",
            " |-- hours_played: double (nullable = true)\n",
            "\n"
          ],
          "name": "stdout"
        }
      ]
    },
    {
      "metadata": {
        "colab_type": "code",
        "id": "sreS8SR4RIMq",
        "outputId": "50bc9432-4489-4bbe-8fff-b8b29398403d",
        "colab": {
          "base_uri": "https://localhost:8080/",
          "height": 289
        }
      },
      "cell_type": "code",
      "source": [
        "steam.show(10, truncate=False)"
      ],
      "execution_count": 12,
      "outputs": [
        {
          "output_type": "stream",
          "text": [
            "+---------+--------------------------+--------+------------+\n",
            "|user_id  |game_name                 |behavior|hours_played|\n",
            "+---------+--------------------------+--------+------------+\n",
            "|151603712|The Elder Scrolls V Skyrim|purchase|1.0         |\n",
            "|151603712|The Elder Scrolls V Skyrim|play    |273.0       |\n",
            "|151603712|Fallout 4                 |purchase|1.0         |\n",
            "|151603712|Fallout 4                 |play    |87.0        |\n",
            "|151603712|Spore                     |purchase|1.0         |\n",
            "|151603712|Spore                     |play    |14.9        |\n",
            "|151603712|Fallout New Vegas         |purchase|1.0         |\n",
            "|151603712|Fallout New Vegas         |play    |12.1        |\n",
            "|151603712|Left 4 Dead 2             |purchase|1.0         |\n",
            "|151603712|Left 4 Dead 2             |play    |8.9         |\n",
            "+---------+--------------------------+--------+------------+\n",
            "only showing top 10 rows\n",
            "\n"
          ],
          "name": "stdout"
        }
      ]
    },
    {
      "metadata": {
        "colab_type": "text",
        "id": "U-TDPca8SqCO"
      },
      "cell_type": "markdown",
      "source": [
        "## Preprocessing"
      ]
    },
    {
      "metadata": {
        "colab_type": "code",
        "id": "FjMz7zONb73M",
        "colab": {}
      },
      "cell_type": "code",
      "source": [
        "import pyspark.sql.functions as F\n",
        "from pyspark.sql.window import Window as W"
      ],
      "execution_count": 0,
      "outputs": []
    },
    {
      "metadata": {
        "colab_type": "text",
        "id": "nUnyDMG0b3AA"
      },
      "cell_type": "markdown",
      "source": [
        "### Normalize user_id"
      ]
    },
    {
      "metadata": {
        "colab_type": "code",
        "id": "cXS9PEPFb5fG",
        "colab": {}
      },
      "cell_type": "code",
      "source": [
        "users = steam.select('user_id').distinct()\n",
        "users = users.withColumn('idx', F.monotonically_increasing_id())\n",
        "w = W.orderBy(\"idx\")\n",
        "users = users.withColumn('user', F.row_number().over(w))\n",
        "users = users.drop(\"idx\")"
      ],
      "execution_count": 0,
      "outputs": []
    },
    {
      "metadata": {
        "colab_type": "code",
        "id": "FDdCKDAncciL",
        "outputId": "e9e227a2-aaa0-4ae0-cb26-a487b7ef6db9",
        "colab": {
          "base_uri": "https://localhost:8080/",
          "height": 85
        }
      },
      "cell_type": "code",
      "source": [
        "users.printSchema()"
      ],
      "execution_count": 15,
      "outputs": [
        {
          "output_type": "stream",
          "text": [
            "root\n",
            " |-- user_id: integer (nullable = true)\n",
            " |-- user: integer (nullable = true)\n",
            "\n"
          ],
          "name": "stdout"
        }
      ]
    },
    {
      "metadata": {
        "colab_type": "code",
        "id": "uFDc1xYUcgI6",
        "outputId": "739e2a45-5e56-4d3d-ad14-d005a2020920",
        "colab": {
          "base_uri": "https://localhost:8080/",
          "height": 289
        }
      },
      "cell_type": "code",
      "source": [
        "users.show(10, truncate=False)"
      ],
      "execution_count": 16,
      "outputs": [
        {
          "output_type": "stream",
          "text": [
            "+---------+----+\n",
            "|user_id  |user|\n",
            "+---------+----+\n",
            "|16167221 |1   |\n",
            "|166705920|2   |\n",
            "|244878837|3   |\n",
            "|99992274 |4   |\n",
            "|174415183|5   |\n",
            "|156156544|6   |\n",
            "|152861732|7   |\n",
            "|171911285|8   |\n",
            "|128412180|9   |\n",
            "|74557142 |10  |\n",
            "+---------+----+\n",
            "only showing top 10 rows\n",
            "\n"
          ],
          "name": "stdout"
        }
      ]
    },
    {
      "metadata": {
        "colab_type": "text",
        "id": "oVjzCKIW5thw"
      },
      "cell_type": "markdown",
      "source": [
        "### Generate ID column for games entity"
      ]
    },
    {
      "metadata": {
        "colab_type": "code",
        "id": "mfJii3yNSraS",
        "colab": {}
      },
      "cell_type": "code",
      "source": [
        "games = steam.select('game_name').distinct()\n",
        "games = games.withColumn('idx', F.monotonically_increasing_id())\n",
        "w = W.orderBy(\"idx\")\n",
        "games = games.withColumn('item', F.row_number().over(w))\n",
        "games = games.drop(\"idx\")"
      ],
      "execution_count": 0,
      "outputs": []
    },
    {
      "metadata": {
        "colab_type": "code",
        "id": "v0_ttq1fK_nv",
        "outputId": "26a9f89b-42a9-4423-dfa1-e0ff6bb2b4c7",
        "colab": {
          "base_uri": "https://localhost:8080/",
          "height": 85
        }
      },
      "cell_type": "code",
      "source": [
        "games.printSchema()"
      ],
      "execution_count": 18,
      "outputs": [
        {
          "output_type": "stream",
          "text": [
            "root\n",
            " |-- game_name: string (nullable = true)\n",
            " |-- item: integer (nullable = true)\n",
            "\n"
          ],
          "name": "stdout"
        }
      ]
    },
    {
      "metadata": {
        "colab_type": "code",
        "id": "lKYk-OQlK9Jb",
        "outputId": "f91147b1-d926-43a0-a7cc-8b82b2e0c3d4",
        "colab": {
          "base_uri": "https://localhost:8080/",
          "height": 289
        }
      },
      "cell_type": "code",
      "source": [
        "games.show(10, truncate=False)"
      ],
      "execution_count": 19,
      "outputs": [
        {
          "output_type": "stream",
          "text": [
            "+-----------------------------------+----+\n",
            "|game_name                          |item|\n",
            "+-----------------------------------+----+\n",
            "|Dota 2                             |1   |\n",
            "|METAL GEAR SOLID V THE PHANTOM PAIN|2   |\n",
            "|LEGO Batman The Videogame          |3   |\n",
            "|RIFT                               |4   |\n",
            "|Anodyne                            |5   |\n",
            "|Legend of Grimrock                 |6   |\n",
            "|Divinity Original Sin              |7   |\n",
            "|Meltdown                           |8   |\n",
            "|SanctuaryRPG Black Edition         |9   |\n",
            "|Snuggle Truck                      |10  |\n",
            "+-----------------------------------+----+\n",
            "only showing top 10 rows\n",
            "\n"
          ],
          "name": "stdout"
        }
      ]
    },
    {
      "metadata": {
        "colab_type": "text",
        "id": "GVaDjSsa6rfX"
      },
      "cell_type": "markdown",
      "source": [
        "### Merge back to main DataFrame"
      ]
    },
    {
      "metadata": {
        "colab_type": "code",
        "id": "8VFZioXTUw5_",
        "colab": {}
      },
      "cell_type": "code",
      "source": [
        "steam = steam.join(users, ['user_id'])\n",
        "steam = steam.join(games, ['game_name'])"
      ],
      "execution_count": 0,
      "outputs": []
    },
    {
      "metadata": {
        "colab_type": "code",
        "id": "nh5y7Sx8c1Aq",
        "outputId": "a4632ebc-9209-4aeb-8ffa-ce0bce2aef6b",
        "colab": {
          "base_uri": "https://localhost:8080/",
          "height": 289
        }
      },
      "cell_type": "code",
      "source": [
        "steam.show(10, truncate=False)"
      ],
      "execution_count": 21,
      "outputs": [
        {
          "output_type": "stream",
          "text": [
            "+--------------------------+---------+--------+------------+----+----+\n",
            "|game_name                 |user_id  |behavior|hours_played|user|item|\n",
            "+--------------------------+---------+--------+------------+----+----+\n",
            "|The Elder Scrolls V Skyrim|151603712|purchase|1.0         |3407|3037|\n",
            "|The Elder Scrolls V Skyrim|151603712|play    |273.0       |3407|3037|\n",
            "|Fallout 4                 |151603712|purchase|1.0         |3407|479 |\n",
            "|Fallout 4                 |151603712|play    |87.0        |3407|479 |\n",
            "|Spore                     |151603712|purchase|1.0         |3407|4525|\n",
            "|Spore                     |151603712|play    |14.9        |3407|4525|\n",
            "|Fallout New Vegas         |151603712|purchase|1.0         |3407|4471|\n",
            "|Fallout New Vegas         |151603712|play    |12.1        |3407|4471|\n",
            "|Left 4 Dead 2             |151603712|purchase|1.0         |3407|87  |\n",
            "|Left 4 Dead 2             |151603712|play    |8.9         |3407|87  |\n",
            "+--------------------------+---------+--------+------------+----+----+\n",
            "only showing top 10 rows\n",
            "\n"
          ],
          "name": "stdout"
        }
      ]
    },
    {
      "metadata": {
        "colab_type": "text",
        "id": "u2DY1NetHIIG"
      },
      "cell_type": "markdown",
      "source": [
        "### Standardize Column Names"
      ]
    },
    {
      "metadata": {
        "colab_type": "code",
        "id": "9-XCQOzmHNT5",
        "colab": {}
      },
      "cell_type": "code",
      "source": [
        "steam_standardized = steam.toDF('game_name', 'user_id', 'behavior', 'rating', 'user', 'item')"
      ],
      "execution_count": 0,
      "outputs": []
    },
    {
      "metadata": {
        "colab_type": "code",
        "id": "2wUfjbhLHc-5",
        "outputId": "bcc73411-7b4f-4e13-9737-c99009bb81e4",
        "colab": {
          "base_uri": "https://localhost:8080/",
          "height": 289
        }
      },
      "cell_type": "code",
      "source": [
        "steam_standardized.show(10, truncate=False)"
      ],
      "execution_count": 23,
      "outputs": [
        {
          "output_type": "stream",
          "text": [
            "+--------------------------+---------+--------+------+----+----+\n",
            "|game_name                 |user_id  |behavior|rating|user|item|\n",
            "+--------------------------+---------+--------+------+----+----+\n",
            "|The Elder Scrolls V Skyrim|151603712|purchase|1.0   |3407|3037|\n",
            "|The Elder Scrolls V Skyrim|151603712|play    |273.0 |3407|3037|\n",
            "|Fallout 4                 |151603712|purchase|1.0   |3407|479 |\n",
            "|Fallout 4                 |151603712|play    |87.0  |3407|479 |\n",
            "|Spore                     |151603712|purchase|1.0   |3407|4525|\n",
            "|Spore                     |151603712|play    |14.9  |3407|4525|\n",
            "|Fallout New Vegas         |151603712|purchase|1.0   |3407|4471|\n",
            "|Fallout New Vegas         |151603712|play    |12.1  |3407|4471|\n",
            "|Left 4 Dead 2             |151603712|purchase|1.0   |3407|87  |\n",
            "|Left 4 Dead 2             |151603712|play    |8.9   |3407|87  |\n",
            "+--------------------------+---------+--------+------+----+----+\n",
            "only showing top 10 rows\n",
            "\n"
          ],
          "name": "stdout"
        }
      ]
    },
    {
      "metadata": {
        "id": "Hkf623g1QL6B",
        "colab_type": "text"
      },
      "cell_type": "markdown",
      "source": [
        "### Normalize Rating Values"
      ]
    },
    {
      "metadata": {
        "id": "2C858qBpQTcM",
        "colab_type": "code",
        "colab": {}
      },
      "cell_type": "code",
      "source": [
        "max_rating = steam_standardized.agg(F.max('rating')).collect()[0][0]"
      ],
      "execution_count": 0,
      "outputs": []
    },
    {
      "metadata": {
        "id": "8bIHJle8SiOa",
        "colab_type": "code",
        "colab": {
          "base_uri": "https://localhost:8080/",
          "height": 34
        },
        "outputId": "4df1a03b-0fa5-4abd-d875-5aa76b4ea3eb"
      },
      "cell_type": "code",
      "source": [
        "max_rating"
      ],
      "execution_count": 25,
      "outputs": [
        {
          "output_type": "execute_result",
          "data": {
            "text/plain": [
              "11754.0"
            ]
          },
          "metadata": {
            "tags": []
          },
          "execution_count": 25
        }
      ]
    },
    {
      "metadata": {
        "id": "n51V2PDEQO4j",
        "colab_type": "code",
        "colab": {}
      },
      "cell_type": "code",
      "source": [
        "steam_normalized = steam_standardized.withColumn('rating', F.col('rating') / max_rating * 10)"
      ],
      "execution_count": 0,
      "outputs": []
    },
    {
      "metadata": {
        "id": "PjrZd6OrR3RC",
        "colab_type": "code",
        "colab": {
          "base_uri": "https://localhost:8080/",
          "height": 289
        },
        "outputId": "2f197655-06e5-48ee-f526-eeb55779d2e0"
      },
      "cell_type": "code",
      "source": [
        "steam_normalized.show(10, truncate=False)"
      ],
      "execution_count": 27,
      "outputs": [
        {
          "output_type": "stream",
          "text": [
            "+--------------------------+---------+--------+--------------------+----+----+\n",
            "|game_name                 |user_id  |behavior|rating              |user|item|\n",
            "+--------------------------+---------+--------+--------------------+----+----+\n",
            "|The Elder Scrolls V Skyrim|151603712|purchase|8.507742045261188E-4|3407|3037|\n",
            "|The Elder Scrolls V Skyrim|151603712|play    |0.23226135783563043 |3407|3037|\n",
            "|Fallout 4                 |151603712|purchase|8.507742045261188E-4|3407|479 |\n",
            "|Fallout 4                 |151603712|play    |0.07401735579377233 |3407|479 |\n",
            "|Spore                     |151603712|purchase|8.507742045261188E-4|3407|4525|\n",
            "|Spore                     |151603712|play    |0.012676535647439171|3407|4525|\n",
            "|Fallout New Vegas         |151603712|purchase|8.507742045261188E-4|3407|4471|\n",
            "|Fallout New Vegas         |151603712|play    |0.010294367874766038|3407|4471|\n",
            "|Left 4 Dead 2             |151603712|purchase|8.507742045261188E-4|3407|87  |\n",
            "|Left 4 Dead 2             |151603712|play    |0.007571890420282457|3407|87  |\n",
            "+--------------------------+---------+--------+--------------------+----+----+\n",
            "only showing top 10 rows\n",
            "\n"
          ],
          "name": "stdout"
        }
      ]
    },
    {
      "metadata": {
        "colab_type": "text",
        "id": "vvolwxc8HCDx"
      },
      "cell_type": "markdown",
      "source": [
        "### Filter play behavior only"
      ]
    },
    {
      "metadata": {
        "colab_type": "code",
        "id": "syFi2J-x8KJ-",
        "colab": {}
      },
      "cell_type": "code",
      "source": [
        "steam_filtered = steam_normalized.filter(steam.behavior == 'play')"
      ],
      "execution_count": 0,
      "outputs": []
    },
    {
      "metadata": {
        "colab_type": "code",
        "id": "y0DRSz0iG8HG",
        "outputId": "fce44aef-8e44-43a7-f71b-63b16c486748",
        "colab": {
          "base_uri": "https://localhost:8080/",
          "height": 34
        }
      },
      "cell_type": "code",
      "source": [
        "steam_filtered.count()"
      ],
      "execution_count": 29,
      "outputs": [
        {
          "output_type": "execute_result",
          "data": {
            "text/plain": [
              "70489"
            ]
          },
          "metadata": {
            "tags": []
          },
          "execution_count": 29
        }
      ]
    },
    {
      "metadata": {
        "colab_type": "code",
        "id": "LMbw52n0HF2l",
        "outputId": "60460712-fcfe-4aa8-aa56-f4daadfc33da",
        "colab": {
          "base_uri": "https://localhost:8080/",
          "height": 289
        }
      },
      "cell_type": "code",
      "source": [
        "steam_filtered.show(10, truncate=False)"
      ],
      "execution_count": 30,
      "outputs": [
        {
          "output_type": "stream",
          "text": [
            "+--------------------------+---------+--------+--------------------+----+----+\n",
            "|game_name                 |user_id  |behavior|rating              |user|item|\n",
            "+--------------------------+---------+--------+--------------------+----+----+\n",
            "|The Elder Scrolls V Skyrim|151603712|play    |0.23226135783563043 |3407|3037|\n",
            "|Fallout 4                 |151603712|play    |0.07401735579377233 |3407|479 |\n",
            "|Spore                     |151603712|play    |0.012676535647439171|3407|4525|\n",
            "|Fallout New Vegas         |151603712|play    |0.010294367874766038|3407|4471|\n",
            "|Left 4 Dead 2             |151603712|play    |0.007571890420282457|3407|87  |\n",
            "|HuniePop                  |151603712|play    |0.007231580738472009|3407|3894|\n",
            "|Path of Exile             |151603712|play    |0.006891271056661562|3407|1807|\n",
            "|Poly Bridge               |151603712|play    |0.00638080653394589 |3407|4814|\n",
            "|Left 4 Dead               |151603712|play    |0.002807554874936192|3407|2318|\n",
            "|Team Fortress 2           |151603712|play    |0.002382167772673132|3407|4554|\n",
            "+--------------------------+---------+--------+--------------------+----+----+\n",
            "only showing top 10 rows\n",
            "\n"
          ],
          "name": "stdout"
        }
      ]
    },
    {
      "metadata": {
        "id": "HzEAfrPmLQe3",
        "colab_type": "code",
        "colab": {}
      },
      "cell_type": "code",
      "source": [
        "data = steam_filtered"
      ],
      "execution_count": 0,
      "outputs": []
    },
    {
      "metadata": {
        "colab_type": "text",
        "id": "Ka3-DeOJ_Fn7"
      },
      "cell_type": "markdown",
      "source": [
        "## Training"
      ]
    },
    {
      "metadata": {
        "colab_type": "code",
        "id": "6hHzZ4r6_KOm",
        "colab": {}
      },
      "cell_type": "code",
      "source": [
        "from pyspark.ml.recommendation import ALS"
      ],
      "execution_count": 0,
      "outputs": []
    },
    {
      "metadata": {
        "id": "c87yoWhXLQfF",
        "colab_type": "text"
      },
      "cell_type": "markdown",
      "source": [
        "### Train-Validation Split"
      ]
    },
    {
      "metadata": {
        "id": "uKQ90mvfLQfG",
        "colab_type": "code",
        "colab": {}
      },
      "cell_type": "code",
      "source": [
        "train_data, valid_data = data.randomSplit([0.66, 0.33])"
      ],
      "execution_count": 0,
      "outputs": []
    },
    {
      "metadata": {
        "id": "cbxbujcqLQfR",
        "colab_type": "text"
      },
      "cell_type": "markdown",
      "source": [
        "### Model Training"
      ]
    },
    {
      "metadata": {
        "colab_type": "code",
        "id": "8jTOAbqV_LIh",
        "colab": {}
      },
      "cell_type": "code",
      "source": [
        "als = ALS(regParam=0.01, coldStartStrategy='drop')"
      ],
      "execution_count": 0,
      "outputs": []
    },
    {
      "metadata": {
        "colab_type": "code",
        "id": "UnyxN1szIe3r",
        "colab": {}
      },
      "cell_type": "code",
      "source": [
        "model = als.fit(train_data)"
      ],
      "execution_count": 0,
      "outputs": []
    },
    {
      "metadata": {
        "id": "Cz7qGHl9LQfZ",
        "colab_type": "text"
      },
      "cell_type": "markdown",
      "source": [
        "## Evaluation"
      ]
    },
    {
      "metadata": {
        "id": "5gCQCn6rLQfa",
        "colab_type": "code",
        "colab": {}
      },
      "cell_type": "code",
      "source": [
        "from pyspark.ml.evaluation import RegressionEvaluator"
      ],
      "execution_count": 0,
      "outputs": []
    },
    {
      "metadata": {
        "id": "n84U7y6lLQfk",
        "colab_type": "code",
        "colab": {}
      },
      "cell_type": "code",
      "source": [
        "evaluator = RegressionEvaluator(labelCol='rating')"
      ],
      "execution_count": 0,
      "outputs": []
    },
    {
      "metadata": {
        "id": "lgkvs7uWLQfo",
        "colab_type": "code",
        "colab": {}
      },
      "cell_type": "code",
      "source": [
        "predictions = model.transform(valid_data)"
      ],
      "execution_count": 0,
      "outputs": []
    },
    {
      "metadata": {
        "id": "tfeHdRtALQft",
        "colab_type": "code",
        "colab": {
          "base_uri": "https://localhost:8080/",
          "height": 289
        },
        "outputId": "69e1c6ae-b15a-4a7b-a250-342302f16ed7"
      },
      "cell_type": "code",
      "source": [
        "predictions.show(10, truncate=False)"
      ],
      "execution_count": 39,
      "outputs": [
        {
          "output_type": "stream",
          "text": [
            "+--------------+---------+--------+---------------------+-----+----+------------+\n",
            "|game_name     |user_id  |behavior|rating               |user |item|prediction  |\n",
            "+--------------+---------+--------+---------------------+-----+----+------------+\n",
            "|Sacred Citadel|140911953|play    |0.004424025863535818 |10786|148 |6.553171E-5 |\n",
            "|Sacred Citadel|8585433  |play    |0.013867619533775737 |926  |148 |0.017694548 |\n",
            "|Sacred Citadel|36502549 |play    |0.009358516249787306 |7338 |148 |0.010094965 |\n",
            "|Sacred Citadel|73835640 |play    |0.00544495490896716  |8733 |148 |0.013697032 |\n",
            "|Mass Effect 2 |34177747 |play    |0.08933129147524248  |1019 |1088|0.051740825 |\n",
            "|Mass Effect 2 |59790700 |play    |0.0012761613067891783|5003 |1088|0.01793686  |\n",
            "|Mass Effect 2 |17530772 |play    |0.020418580908626853 |7216 |1088|0.0076707522|\n",
            "|Mass Effect 2 |7907686  |play    |7.656967840735068E-4 |12167|1088|0.016108094 |\n",
            "|Mass Effect 2 |22371742 |play    |0.02552322613578356  |10485|1088|6.641926E-4 |\n",
            "|Mass Effect 2 |151229648|play    |0.024672451931257444 |6775 |1088|0.004385914 |\n",
            "+--------------+---------+--------+---------------------+-----+----+------------+\n",
            "only showing top 10 rows\n",
            "\n"
          ],
          "name": "stdout"
        }
      ]
    },
    {
      "metadata": {
        "id": "LPu4l2c8LQf3",
        "colab_type": "code",
        "colab": {}
      },
      "cell_type": "code",
      "source": [
        "rmse = evaluator.evaluate(predictions)"
      ],
      "execution_count": 0,
      "outputs": []
    },
    {
      "metadata": {
        "id": "nIl8Gi3ULQgB",
        "colab_type": "code",
        "colab": {
          "base_uri": "https://localhost:8080/",
          "height": 34
        },
        "outputId": "0744ebd6-1b45-4428-d4a0-22aae4fb5b10"
      },
      "cell_type": "code",
      "source": [
        "rmse"
      ],
      "execution_count": 41,
      "outputs": [
        {
          "output_type": "execute_result",
          "data": {
            "text/plain": [
              "0.16794349747653262"
            ]
          },
          "metadata": {
            "tags": []
          },
          "execution_count": 41
        }
      ]
    },
    {
      "metadata": {
        "id": "5tNj8A1NMJe2",
        "colab_type": "text"
      },
      "cell_type": "markdown",
      "source": [
        "## Testing"
      ]
    },
    {
      "metadata": {
        "id": "iz8TpHRjLQgJ",
        "colab_type": "text"
      },
      "cell_type": "markdown",
      "source": [
        "### Recommendations for all Users"
      ]
    },
    {
      "metadata": {
        "id": "vvsip0a5LQgK",
        "colab_type": "code",
        "colab": {}
      },
      "cell_type": "code",
      "source": [
        "recommendations = model.recommendForAllUsers(5)"
      ],
      "execution_count": 0,
      "outputs": []
    },
    {
      "metadata": {
        "id": "rH2OHBUHLQgf",
        "colab_type": "code",
        "colab": {
          "base_uri": "https://localhost:8080/",
          "height": 289
        },
        "outputId": "0ca79477-e980-4ecd-ca61-869abce45346"
      },
      "cell_type": "code",
      "source": [
        "recommendations.show(10, truncate=False)"
      ],
      "execution_count": 43,
      "outputs": [
        {
          "output_type": "stream",
          "text": [
            "+-----+-------------------------------------------------------------------------------------------------------------+\n",
            "|user |recommendations                                                                                              |\n",
            "+-----+-------------------------------------------------------------------------------------------------------------+\n",
            "|1580 |[[2959, 0.0631839], [1110, 0.04496198], [1830, 0.037446685], [3208, 0.037225492], [1, 0.03257108]]           |\n",
            "|4900 |[[4324, 0.7504163], [4554, 0.50795627], [3799, 0.35190612], [1771, 0.31096798], [3585, 0.2974562]]           |\n",
            "|5300 |[[1830, 0.03650146], [267, 0.033193476], [3110, 0.029301476], [3273, 0.026726682], [1611, 0.025783136]]      |\n",
            "|7240 |[[1, 0.0014302569], [3585, 8.106845E-4], [3228, 7.28968E-4], [3302, 5.4942403E-4], [4962, 5.454117E-4]]      |\n",
            "|7340 |[[1, 1.6826551E-4], [3585, 9.537465E-5], [3228, 8.576095E-5], [3302, 6.463812E-5], [4962, 6.416608E-5]]      |\n",
            "|471  |[[1830, 3.9120223E-5], [267, 3.3943666E-5], [3273, 3.2695138E-5], [1611, 2.7324673E-5], [3110, 2.7296486E-5]]|\n",
            "|1591 |[[3037, 0.014817441], [219, 0.014301823], [4084, 0.013876537], [643, 0.012872646], [1593, 0.012720339]]      |\n",
            "|4101 |[[4324, 0.09474245], [267, 0.09209093], [2569, 0.043293685], [4316, 0.03699872], [1830, 0.034343746]]        |\n",
            "|11141|[[4316, 0.1188042], [4324, 0.069353774], [2834, 0.06250239], [3136, 0.043057602], [1830, 0.042580917]]       |\n",
            "|1342 |[[1680, 0.12525842], [267, 0.10870586], [2569, 0.093063526], [1746, 0.07519094], [4484, 0.06770774]]         |\n",
            "+-----+-------------------------------------------------------------------------------------------------------------+\n",
            "only showing top 10 rows\n",
            "\n"
          ],
          "name": "stdout"
        }
      ]
    },
    {
      "metadata": {
        "id": "AyOmNrevLQgm",
        "colab_type": "text"
      },
      "cell_type": "markdown",
      "source": [
        "### Recommendation for all Items (Games)"
      ]
    },
    {
      "metadata": {
        "id": "jjjWkXRGLQgn",
        "colab_type": "code",
        "colab": {}
      },
      "cell_type": "code",
      "source": [
        "recommendations = model.recommendForAllItems(5)"
      ],
      "execution_count": 0,
      "outputs": []
    },
    {
      "metadata": {
        "id": "52KntfnrLQgq",
        "colab_type": "code",
        "colab": {
          "base_uri": "https://localhost:8080/",
          "height": 289
        },
        "outputId": "38c60b72-77db-47c0-fc80-5ad18913f335"
      },
      "cell_type": "code",
      "source": [
        "recommendations.show(10, truncate=False)"
      ],
      "execution_count": 45,
      "outputs": [
        {
          "output_type": "stream",
          "text": [
            "+----+------------------------------------------------------------------------------------------------------------+\n",
            "|item|recommendations                                                                                             |\n",
            "+----+------------------------------------------------------------------------------------------------------------+\n",
            "|1580|[[6329, 0.022355], [7460, 0.0108789], [10372, 0.009527797], [5601, 0.009400668], [11797, 0.0061045857]]     |\n",
            "|4900|[[6329, 0.2373486], [9896, 0.18274197], [8132, 0.13951838], [6715, 0.11936343], [7460, 0.115504]]           |\n",
            "|1591|[[6329, 0.57487416], [7460, 0.27975842], [10372, 0.24844491], [5601, 0.24065857], [11797, 0.13133398]]      |\n",
            "|2122|[[2303, 0.18508837], [5219, 0.17504455], [5518, 0.17257887], [972, 0.1702103], [3845, 0.16773912]]          |\n",
            "|2142|[[6329, 0.018054327], [7460, 0.00878601], [10372, 0.007849644], [5601, 0.007529477], [5178, 0.0027049235]]  |\n",
            "|833 |[[9896, 0.03635395], [8132, 0.027621696], [6715, 0.023737509], [10613, 0.021071343], [9577, 0.020779027]]   |\n",
            "|3794|[[6329, 1.019982], [7460, 0.49636692], [10372, 0.44164494], [5601, 0.42662877], [11797, 0.25546414]]        |\n",
            "|3175|[[6329, 0.3299825], [7460, 0.16058362], [10372, 0.14155264], [5601, 0.13880624], [11797, 0.10396309]]       |\n",
            "|4935|[[6329, 0.037262954], [7460, 0.01813375], [10372, 0.015934303], [5601, 0.015600644], [9896, 0.010708978]]   |\n",
            "|2366|[[6329, 0.019309144], [7460, 0.009396656], [10372, 0.008318913], [5601, 0.0080854995], [11797, 0.005001408]]|\n",
            "+----+------------------------------------------------------------------------------------------------------------+\n",
            "only showing top 10 rows\n",
            "\n"
          ],
          "name": "stdout"
        }
      ]
    },
    {
      "metadata": {
        "id": "b2e8pUhmLQgs",
        "colab_type": "text"
      },
      "cell_type": "markdown",
      "source": [
        "### Recommendation for a subset of Users"
      ]
    },
    {
      "metadata": {
        "id": "wtcWXrRzLQgu",
        "colab_type": "code",
        "colab": {}
      },
      "cell_type": "code",
      "source": [
        "users_test = users.limit(10)"
      ],
      "execution_count": 0,
      "outputs": []
    },
    {
      "metadata": {
        "id": "RDNi7FGBLQgx",
        "colab_type": "code",
        "colab": {}
      },
      "cell_type": "code",
      "source": [
        "recommendations = model.recommendForUserSubset(users_test, 5)"
      ],
      "execution_count": 0,
      "outputs": []
    },
    {
      "metadata": {
        "id": "MBbfR9tBLQg0",
        "colab_type": "code",
        "colab": {
          "base_uri": "https://localhost:8080/",
          "height": 204
        },
        "outputId": "fa24d84d-1319-4bbc-965c-461ebf6be8dc"
      },
      "cell_type": "code",
      "source": [
        "recommendations.show(10, truncate=False)"
      ],
      "execution_count": 48,
      "outputs": [
        {
          "output_type": "stream",
          "text": [
            "+----+------------------------------------------------------------------------------------------------------------+\n",
            "|user|recommendations                                                                                             |\n",
            "+----+------------------------------------------------------------------------------------------------------------+\n",
            "|1   |[[4324, 0.05422043], [4822, 0.03923504], [2569, 0.03547461], [219, 0.03436207], [4085, 0.032793526]]        |\n",
            "|6   |[[1, 0.0044590365], [3585, 0.002527428], [3228, 0.0022726653], [3302, 0.0017129102], [4962, 0.0017004013]]  |\n",
            "|3   |[[1, 0.0033653104], [3585, 0.0019074929], [3228, 0.0017152191], [3302, 0.0012927626], [4962, 0.0012833218]] |\n",
            "|5   |[[4554, 0.011953308], [1771, 0.010481266], [1746, 0.00969277], [3799, 0.008817164], [2205, 0.00830663]]     |\n",
            "|9   |[[1797, 0.0027961282], [2569, 0.0026869443], [4822, 0.0024209744], [1874, 0.002317584], [274, 0.0023028024]]|\n",
            "|7   |[[1, 0.3827954], [3585, 0.23519896], [3273, 0.23053911], [1830, 0.21915504], [3228, 0.19838804]]            |\n",
            "+----+------------------------------------------------------------------------------------------------------------+\n",
            "\n"
          ],
          "name": "stdout"
        }
      ]
    },
    {
      "metadata": {
        "id": "zECWosjKLQg4",
        "colab_type": "text"
      },
      "cell_type": "markdown",
      "source": [
        "### Recommendation for a subset of Items (Games)"
      ]
    },
    {
      "metadata": {
        "id": "wn83rRq9LQg5",
        "colab_type": "code",
        "colab": {}
      },
      "cell_type": "code",
      "source": [
        "games_test = games.limit(10)"
      ],
      "execution_count": 0,
      "outputs": []
    },
    {
      "metadata": {
        "id": "K8UhfIePLQg7",
        "colab_type": "code",
        "colab": {}
      },
      "cell_type": "code",
      "source": [
        "recommendations = model.recommendForItemSubset(games_test, 5)"
      ],
      "execution_count": 0,
      "outputs": []
    },
    {
      "metadata": {
        "id": "cslSzgIvLQg-",
        "colab_type": "code",
        "colab": {
          "base_uri": "https://localhost:8080/",
          "height": 255
        },
        "outputId": "fd4b2699-987d-41bb-cb4e-991202506eb5"
      },
      "cell_type": "code",
      "source": [
        "recommendations.show(10, truncate=False)"
      ],
      "execution_count": 51,
      "outputs": [
        {
          "output_type": "stream",
          "text": [
            "+----+-----------------------------------------------------------------------------------------------------------+\n",
            "|item|recommendations                                                                                            |\n",
            "+----+-----------------------------------------------------------------------------------------------------------+\n",
            "|1   |[[9896, 8.498187], [8132, 6.459309], [6715, 5.5467253], [10613, 4.935228], [9577, 4.857704]]               |\n",
            "|6   |[[6329, 0.2439413], [7460, 0.11871229], [10372, 0.105027765], [5601, 0.10232887], [1449, 0.07350372]]      |\n",
            "|3   |[[6329, 0.35485035], [9896, 0.20426798], [7460, 0.1726854], [8132, 0.1591491], [10372, 0.15123305]]        |\n",
            "|5   |[[1449, 0.049378157], [282, 0.043468732], [5803, 0.042421453], [2705, 0.032898705], [6329, 0.032034222]]   |\n",
            "|9   |[[6329, 0.019690938], [9896, 0.016382797], [8132, 0.012433029], [6715, 0.011085818], [10613, 0.009896639]] |\n",
            "|4   |[[6329, 1.5061194], [11797, 1.0318946], [7460, 0.73294234], [2469, 0.6847319], [10372, 0.64249337]]        |\n",
            "|7   |[[6329, 1.5538998], [7460, 0.7561941], [10372, 0.6721885], [5601, 0.65257335], [11797, 0.35181126]]        |\n",
            "|10  |[[6329, 0.020964164], [7460, 0.01020206], [10372, 0.009057653], [5601, 0.008790699], [11797, 0.0045790705]]|\n",
            "|2   |[[6329, 1.078546], [7460, 0.5248667], [1449, 0.5069387], [11797, 0.46156257], [10372, 0.45573658]]         |\n",
            "+----+-----------------------------------------------------------------------------------------------------------+\n",
            "\n"
          ],
          "name": "stdout"
        }
      ]
    },
    {
      "metadata": {
        "id": "iWv1qZfbXeSE",
        "colab_type": "text"
      },
      "cell_type": "markdown",
      "source": [
        "## Save Model"
      ]
    },
    {
      "metadata": {
        "id": "KISb293EXfQb",
        "colab_type": "code",
        "colab": {}
      },
      "cell_type": "code",
      "source": [
        "model.save('als_recommendation')"
      ],
      "execution_count": 0,
      "outputs": []
    }
  ]
}